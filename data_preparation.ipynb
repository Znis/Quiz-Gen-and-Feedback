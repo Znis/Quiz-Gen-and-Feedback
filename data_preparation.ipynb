{
 "cells": [
  {
   "cell_type": "code",
   "execution_count": 1,
   "id": "df7c1a27",
   "metadata": {
    "execution": {
     "iopub.execute_input": "2024-09-19T07:52:55.811532Z",
     "iopub.status.busy": "2024-09-19T07:52:55.811106Z",
     "iopub.status.idle": "2024-09-19T07:52:58.786999Z",
     "shell.execute_reply": "2024-09-19T07:52:58.785659Z"
    },
    "papermill": {
     "duration": 3.001624,
     "end_time": "2024-09-19T07:52:58.789850",
     "exception": false,
     "start_time": "2024-09-19T07:52:55.788226",
     "status": "completed"
    },
    "tags": []
   },
   "outputs": [],
   "source": [
    "import warnings\n",
    "import pandas as pd\n",
    "\n",
    "df = pd.read_parquet(\"hf://datasets/DisgustingOzil/Academic_MCQ_Dataset/data/train-00000-of-00001.parquet\")"
   ]
  },
  {
   "cell_type": "code",
   "execution_count": 2,
   "id": "67d82533",
   "metadata": {
    "execution": {
     "iopub.execute_input": "2024-09-19T07:52:58.833815Z",
     "iopub.status.busy": "2024-09-19T07:52:58.833071Z",
     "iopub.status.idle": "2024-09-19T07:52:58.839856Z",
     "shell.execute_reply": "2024-09-19T07:52:58.838489Z"
    },
    "papermill": {
     "duration": 0.032415,
     "end_time": "2024-09-19T07:52:58.842781",
     "exception": false,
     "start_time": "2024-09-19T07:52:58.810366",
     "status": "completed"
    },
    "tags": []
   },
   "outputs": [],
   "source": [
    "warnings.filterwarnings('ignore')"
   ]
  },
  {
   "cell_type": "code",
   "execution_count": 3,
   "id": "d34db506",
   "metadata": {
    "execution": {
     "iopub.execute_input": "2024-09-19T07:52:58.884885Z",
     "iopub.status.busy": "2024-09-19T07:52:58.884284Z",
     "iopub.status.idle": "2024-09-19T07:52:58.910583Z",
     "shell.execute_reply": "2024-09-19T07:52:58.909132Z"
    },
    "papermill": {
     "duration": 0.051015,
     "end_time": "2024-09-19T07:52:58.913694",
     "exception": false,
     "start_time": "2024-09-19T07:52:58.862679",
     "status": "completed"
    },
    "tags": []
   },
   "outputs": [
    {
     "data": {
      "text/html": [
       "<div>\n",
       "<style scoped>\n",
       "    .dataframe tbody tr th:only-of-type {\n",
       "        vertical-align: middle;\n",
       "    }\n",
       "\n",
       "    .dataframe tbody tr th {\n",
       "        vertical-align: top;\n",
       "    }\n",
       "\n",
       "    .dataframe thead th {\n",
       "        text-align: right;\n",
       "    }\n",
       "</style>\n",
       "<table border=\"1\" class=\"dataframe\">\n",
       "  <thead>\n",
       "    <tr style=\"text-align: right;\">\n",
       "      <th></th>\n",
       "      <th>input</th>\n",
       "      <th>instruction</th>\n",
       "      <th>response</th>\n",
       "    </tr>\n",
       "  </thead>\n",
       "  <tbody>\n",
       "    <tr>\n",
       "      <th>0</th>\n",
       "      <td>Biology is the study of life, from microscopic...</td>\n",
       "      <td>Generate Biology based Multiple Choice Questio...</td>\n",
       "      <td>&lt;question&gt; Which of the following is NOT a ste...</td>\n",
       "    </tr>\n",
       "    <tr>\n",
       "      <th>1</th>\n",
       "      <td>Biology is the study of life, from microscopic...</td>\n",
       "      <td>Generate Biology based Multiple Choice Questio...</td>\n",
       "      <td>&lt;question&gt; Which of the following organisms we...</td>\n",
       "    </tr>\n",
       "    <tr>\n",
       "      <th>2</th>\n",
       "      <td>Biology is the study of life, from microscopic...</td>\n",
       "      <td>Generate Biology based Multiple Choice Questio...</td>\n",
       "      <td>&lt;question&gt; How long ago did mammals, birds, an...</td>\n",
       "    </tr>\n",
       "    <tr>\n",
       "      <th>3</th>\n",
       "      <td>Biology is the study of life, from microscopic...</td>\n",
       "      <td>Generate Biology based Multiple Choice Questio...</td>\n",
       "      <td>&lt;question&gt; What is the purpose of the scientif...</td>\n",
       "    </tr>\n",
       "    <tr>\n",
       "      <th>4</th>\n",
       "      <td>Biology is the study of life, from microscopic...</td>\n",
       "      <td>Generate Biology based Multiple Choice Questio...</td>\n",
       "      <td>&lt;question&gt; Which of the following is NOT a rec...</td>\n",
       "    </tr>\n",
       "  </tbody>\n",
       "</table>\n",
       "</div>"
      ],
      "text/plain": [
       "                                               input  \\\n",
       "0  Biology is the study of life, from microscopic...   \n",
       "1  Biology is the study of life, from microscopic...   \n",
       "2  Biology is the study of life, from microscopic...   \n",
       "3  Biology is the study of life, from microscopic...   \n",
       "4  Biology is the study of life, from microscopic...   \n",
       "\n",
       "                                         instruction  \\\n",
       "0  Generate Biology based Multiple Choice Questio...   \n",
       "1  Generate Biology based Multiple Choice Questio...   \n",
       "2  Generate Biology based Multiple Choice Questio...   \n",
       "3  Generate Biology based Multiple Choice Questio...   \n",
       "4  Generate Biology based Multiple Choice Questio...   \n",
       "\n",
       "                                            response  \n",
       "0  <question> Which of the following is NOT a ste...  \n",
       "1  <question> Which of the following organisms we...  \n",
       "2  <question> How long ago did mammals, birds, an...  \n",
       "3  <question> What is the purpose of the scientif...  \n",
       "4  <question> Which of the following is NOT a rec...  "
      ]
     },
     "execution_count": 3,
     "metadata": {},
     "output_type": "execute_result"
    }
   ],
   "source": [
    "df.head()"
   ]
  },
  {
   "cell_type": "code",
   "execution_count": 4,
   "id": "15b4c2d5",
   "metadata": {
    "execution": {
     "iopub.execute_input": "2024-09-19T07:52:58.962666Z",
     "iopub.status.busy": "2024-09-19T07:52:58.961563Z",
     "iopub.status.idle": "2024-09-19T07:53:01.506868Z",
     "shell.execute_reply": "2024-09-19T07:53:01.504844Z"
    },
    "papermill": {
     "duration": 2.575265,
     "end_time": "2024-09-19T07:53:01.509641",
     "exception": false,
     "start_time": "2024-09-19T07:52:58.934376",
     "status": "completed"
    },
    "tags": []
   },
   "outputs": [
    {
     "name": "stdout",
     "output_type": "stream",
     "text": [
      "[nltk_data] Downloading package punkt to /usr/share/nltk_data...\n",
      "[nltk_data]   Package punkt is already up-to-date!\n",
      "['This', 'is', 'a', 'sample', 'sentence', ',', 'with', 'punctuation', '!']\n"
     ]
    }
   ],
   "source": [
    "import nltk\n",
    "nltk.download('punkt')\n",
    "\n",
    "from nltk.tokenize import word_tokenize\n",
    "\n",
    "# Sample sentence\n",
    "sentence = \"This is a sample sentence, with punctuation!\"\n",
    "\n",
    "# Tokenize the sentence\n",
    "tokens = word_tokenize(sentence)\n",
    "\n",
    "print(tokens)"
   ]
  },
  {
   "cell_type": "code",
   "execution_count": 5,
   "id": "e78ef0e9",
   "metadata": {
    "execution": {
     "iopub.execute_input": "2024-09-19T07:53:01.551358Z",
     "iopub.status.busy": "2024-09-19T07:53:01.550888Z",
     "iopub.status.idle": "2024-09-19T07:53:01.556507Z",
     "shell.execute_reply": "2024-09-19T07:53:01.555349Z"
    },
    "papermill": {
     "duration": 0.029126,
     "end_time": "2024-09-19T07:53:01.559041",
     "exception": false,
     "start_time": "2024-09-19T07:53:01.529915",
     "status": "completed"
    },
    "tags": []
   },
   "outputs": [],
   "source": [
    "def categorize(sentence):\n",
    "    return word_tokenize(sentence)[1]"
   ]
  },
  {
   "cell_type": "code",
   "execution_count": 6,
   "id": "8d7c11ed",
   "metadata": {
    "execution": {
     "iopub.execute_input": "2024-09-19T07:53:01.602563Z",
     "iopub.status.busy": "2024-09-19T07:53:01.602112Z",
     "iopub.status.idle": "2024-09-19T07:53:04.903310Z",
     "shell.execute_reply": "2024-09-19T07:53:04.902043Z"
    },
    "papermill": {
     "duration": 3.326317,
     "end_time": "2024-09-19T07:53:04.906482",
     "exception": false,
     "start_time": "2024-09-19T07:53:01.580165",
     "status": "completed"
    },
    "tags": []
   },
   "outputs": [],
   "source": [
    "df['category'] = df['instruction'].apply(categorize)"
   ]
  },
  {
   "cell_type": "code",
   "execution_count": 7,
   "id": "824c9043",
   "metadata": {
    "execution": {
     "iopub.execute_input": "2024-09-19T07:53:04.948871Z",
     "iopub.status.busy": "2024-09-19T07:53:04.948416Z",
     "iopub.status.idle": "2024-09-19T07:53:04.962057Z",
     "shell.execute_reply": "2024-09-19T07:53:04.960864Z"
    },
    "papermill": {
     "duration": 0.037304,
     "end_time": "2024-09-19T07:53:04.964627",
     "exception": false,
     "start_time": "2024-09-19T07:53:04.927323",
     "status": "completed"
    },
    "tags": []
   },
   "outputs": [
    {
     "data": {
      "text/html": [
       "<div>\n",
       "<style scoped>\n",
       "    .dataframe tbody tr th:only-of-type {\n",
       "        vertical-align: middle;\n",
       "    }\n",
       "\n",
       "    .dataframe tbody tr th {\n",
       "        vertical-align: top;\n",
       "    }\n",
       "\n",
       "    .dataframe thead th {\n",
       "        text-align: right;\n",
       "    }\n",
       "</style>\n",
       "<table border=\"1\" class=\"dataframe\">\n",
       "  <thead>\n",
       "    <tr style=\"text-align: right;\">\n",
       "      <th></th>\n",
       "      <th>input</th>\n",
       "      <th>instruction</th>\n",
       "      <th>response</th>\n",
       "      <th>category</th>\n",
       "    </tr>\n",
       "  </thead>\n",
       "  <tbody>\n",
       "    <tr>\n",
       "      <th>0</th>\n",
       "      <td>Biology is the study of life, from microscopic...</td>\n",
       "      <td>Generate Biology based Multiple Choice Questio...</td>\n",
       "      <td>&lt;question&gt; Which of the following is NOT a ste...</td>\n",
       "      <td>Biology</td>\n",
       "    </tr>\n",
       "    <tr>\n",
       "      <th>1</th>\n",
       "      <td>Biology is the study of life, from microscopic...</td>\n",
       "      <td>Generate Biology based Multiple Choice Questio...</td>\n",
       "      <td>&lt;question&gt; Which of the following organisms we...</td>\n",
       "      <td>Biology</td>\n",
       "    </tr>\n",
       "    <tr>\n",
       "      <th>2</th>\n",
       "      <td>Biology is the study of life, from microscopic...</td>\n",
       "      <td>Generate Biology based Multiple Choice Questio...</td>\n",
       "      <td>&lt;question&gt; How long ago did mammals, birds, an...</td>\n",
       "      <td>Biology</td>\n",
       "    </tr>\n",
       "    <tr>\n",
       "      <th>3</th>\n",
       "      <td>Biology is the study of life, from microscopic...</td>\n",
       "      <td>Generate Biology based Multiple Choice Questio...</td>\n",
       "      <td>&lt;question&gt; What is the purpose of the scientif...</td>\n",
       "      <td>Biology</td>\n",
       "    </tr>\n",
       "    <tr>\n",
       "      <th>4</th>\n",
       "      <td>Biology is the study of life, from microscopic...</td>\n",
       "      <td>Generate Biology based Multiple Choice Questio...</td>\n",
       "      <td>&lt;question&gt; Which of the following is NOT a rec...</td>\n",
       "      <td>Biology</td>\n",
       "    </tr>\n",
       "  </tbody>\n",
       "</table>\n",
       "</div>"
      ],
      "text/plain": [
       "                                               input  \\\n",
       "0  Biology is the study of life, from microscopic...   \n",
       "1  Biology is the study of life, from microscopic...   \n",
       "2  Biology is the study of life, from microscopic...   \n",
       "3  Biology is the study of life, from microscopic...   \n",
       "4  Biology is the study of life, from microscopic...   \n",
       "\n",
       "                                         instruction  \\\n",
       "0  Generate Biology based Multiple Choice Questio...   \n",
       "1  Generate Biology based Multiple Choice Questio...   \n",
       "2  Generate Biology based Multiple Choice Questio...   \n",
       "3  Generate Biology based Multiple Choice Questio...   \n",
       "4  Generate Biology based Multiple Choice Questio...   \n",
       "\n",
       "                                            response category  \n",
       "0  <question> Which of the following is NOT a ste...  Biology  \n",
       "1  <question> Which of the following organisms we...  Biology  \n",
       "2  <question> How long ago did mammals, birds, an...  Biology  \n",
       "3  <question> What is the purpose of the scientif...  Biology  \n",
       "4  <question> Which of the following is NOT a rec...  Biology  "
      ]
     },
     "execution_count": 7,
     "metadata": {},
     "output_type": "execute_result"
    }
   ],
   "source": [
    "df.head()"
   ]
  },
  {
   "cell_type": "code",
   "execution_count": 8,
   "id": "9e39de10",
   "metadata": {
    "execution": {
     "iopub.execute_input": "2024-09-19T07:53:05.007405Z",
     "iopub.status.busy": "2024-09-19T07:53:05.006973Z",
     "iopub.status.idle": "2024-09-19T07:53:05.019369Z",
     "shell.execute_reply": "2024-09-19T07:53:05.018126Z"
    },
    "papermill": {
     "duration": 0.03638,
     "end_time": "2024-09-19T07:53:05.022065",
     "exception": false,
     "start_time": "2024-09-19T07:53:04.985685",
     "status": "completed"
    },
    "tags": []
   },
   "outputs": [
    {
     "data": {
      "text/plain": [
       "array(['Biology', 'Physics', 'Chemistry', 'General'], dtype=object)"
      ]
     },
     "execution_count": 8,
     "metadata": {},
     "output_type": "execute_result"
    }
   ],
   "source": [
    "df['category'].unique()"
   ]
  },
  {
   "cell_type": "code",
   "execution_count": 9,
   "id": "7660bd05",
   "metadata": {
    "execution": {
     "iopub.execute_input": "2024-09-19T07:53:05.065068Z",
     "iopub.status.busy": "2024-09-19T07:53:05.064644Z",
     "iopub.status.idle": "2024-09-19T07:53:05.071087Z",
     "shell.execute_reply": "2024-09-19T07:53:05.069841Z"
    },
    "papermill": {
     "duration": 0.031784,
     "end_time": "2024-09-19T07:53:05.073904",
     "exception": false,
     "start_time": "2024-09-19T07:53:05.042120",
     "status": "completed"
    },
    "tags": []
   },
   "outputs": [],
   "source": [
    "def word_count(sentence):\n",
    "    return len(word_tokenize(sentence))"
   ]
  },
  {
   "cell_type": "code",
   "execution_count": 10,
   "id": "aa0d7888",
   "metadata": {
    "execution": {
     "iopub.execute_input": "2024-09-19T07:53:05.118366Z",
     "iopub.status.busy": "2024-09-19T07:53:05.117301Z",
     "iopub.status.idle": "2024-09-19T07:54:25.630197Z",
     "shell.execute_reply": "2024-09-19T07:54:25.629022Z"
    },
    "papermill": {
     "duration": 80.537412,
     "end_time": "2024-09-19T07:54:25.633279",
     "exception": false,
     "start_time": "2024-09-19T07:53:05.095867",
     "status": "completed"
    },
    "tags": []
   },
   "outputs": [],
   "source": [
    "df['length_input'] = df['input'].apply(word_count)"
   ]
  },
  {
   "cell_type": "code",
   "execution_count": 11,
   "id": "0674dbf0",
   "metadata": {
    "execution": {
     "iopub.execute_input": "2024-09-19T07:54:25.676276Z",
     "iopub.status.busy": "2024-09-19T07:54:25.675871Z",
     "iopub.status.idle": "2024-09-19T07:54:25.690429Z",
     "shell.execute_reply": "2024-09-19T07:54:25.689192Z"
    },
    "papermill": {
     "duration": 0.039954,
     "end_time": "2024-09-19T07:54:25.693271",
     "exception": false,
     "start_time": "2024-09-19T07:54:25.653317",
     "status": "completed"
    },
    "tags": []
   },
   "outputs": [
    {
     "data": {
      "text/html": [
       "<div>\n",
       "<style scoped>\n",
       "    .dataframe tbody tr th:only-of-type {\n",
       "        vertical-align: middle;\n",
       "    }\n",
       "\n",
       "    .dataframe tbody tr th {\n",
       "        vertical-align: top;\n",
       "    }\n",
       "\n",
       "    .dataframe thead th {\n",
       "        text-align: right;\n",
       "    }\n",
       "</style>\n",
       "<table border=\"1\" class=\"dataframe\">\n",
       "  <thead>\n",
       "    <tr style=\"text-align: right;\">\n",
       "      <th></th>\n",
       "      <th>input</th>\n",
       "      <th>instruction</th>\n",
       "      <th>response</th>\n",
       "      <th>category</th>\n",
       "      <th>length_input</th>\n",
       "    </tr>\n",
       "  </thead>\n",
       "  <tbody>\n",
       "    <tr>\n",
       "      <th>0</th>\n",
       "      <td>Biology is the study of life, from microscopic...</td>\n",
       "      <td>Generate Biology based Multiple Choice Questio...</td>\n",
       "      <td>&lt;question&gt; Which of the following is NOT a ste...</td>\n",
       "      <td>Biology</td>\n",
       "      <td>358</td>\n",
       "    </tr>\n",
       "    <tr>\n",
       "      <th>1</th>\n",
       "      <td>Biology is the study of life, from microscopic...</td>\n",
       "      <td>Generate Biology based Multiple Choice Questio...</td>\n",
       "      <td>&lt;question&gt; Which of the following organisms we...</td>\n",
       "      <td>Biology</td>\n",
       "      <td>358</td>\n",
       "    </tr>\n",
       "    <tr>\n",
       "      <th>2</th>\n",
       "      <td>Biology is the study of life, from microscopic...</td>\n",
       "      <td>Generate Biology based Multiple Choice Questio...</td>\n",
       "      <td>&lt;question&gt; How long ago did mammals, birds, an...</td>\n",
       "      <td>Biology</td>\n",
       "      <td>358</td>\n",
       "    </tr>\n",
       "    <tr>\n",
       "      <th>3</th>\n",
       "      <td>Biology is the study of life, from microscopic...</td>\n",
       "      <td>Generate Biology based Multiple Choice Questio...</td>\n",
       "      <td>&lt;question&gt; What is the purpose of the scientif...</td>\n",
       "      <td>Biology</td>\n",
       "      <td>358</td>\n",
       "    </tr>\n",
       "    <tr>\n",
       "      <th>4</th>\n",
       "      <td>Biology is the study of life, from microscopic...</td>\n",
       "      <td>Generate Biology based Multiple Choice Questio...</td>\n",
       "      <td>&lt;question&gt; Which of the following is NOT a rec...</td>\n",
       "      <td>Biology</td>\n",
       "      <td>358</td>\n",
       "    </tr>\n",
       "  </tbody>\n",
       "</table>\n",
       "</div>"
      ],
      "text/plain": [
       "                                               input  \\\n",
       "0  Biology is the study of life, from microscopic...   \n",
       "1  Biology is the study of life, from microscopic...   \n",
       "2  Biology is the study of life, from microscopic...   \n",
       "3  Biology is the study of life, from microscopic...   \n",
       "4  Biology is the study of life, from microscopic...   \n",
       "\n",
       "                                         instruction  \\\n",
       "0  Generate Biology based Multiple Choice Questio...   \n",
       "1  Generate Biology based Multiple Choice Questio...   \n",
       "2  Generate Biology based Multiple Choice Questio...   \n",
       "3  Generate Biology based Multiple Choice Questio...   \n",
       "4  Generate Biology based Multiple Choice Questio...   \n",
       "\n",
       "                                            response category  length_input  \n",
       "0  <question> Which of the following is NOT a ste...  Biology           358  \n",
       "1  <question> Which of the following organisms we...  Biology           358  \n",
       "2  <question> How long ago did mammals, birds, an...  Biology           358  \n",
       "3  <question> What is the purpose of the scientif...  Biology           358  \n",
       "4  <question> Which of the following is NOT a rec...  Biology           358  "
      ]
     },
     "execution_count": 11,
     "metadata": {},
     "output_type": "execute_result"
    }
   ],
   "source": [
    "df.head()"
   ]
  },
  {
   "cell_type": "code",
   "execution_count": 12,
   "id": "a48d60ca",
   "metadata": {
    "execution": {
     "iopub.execute_input": "2024-09-19T07:54:25.737152Z",
     "iopub.status.busy": "2024-09-19T07:54:25.736681Z",
     "iopub.status.idle": "2024-09-19T07:54:26.010692Z",
     "shell.execute_reply": "2024-09-19T07:54:26.009550Z"
    },
    "papermill": {
     "duration": 0.300064,
     "end_time": "2024-09-19T07:54:26.013516",
     "exception": false,
     "start_time": "2024-09-19T07:54:25.713452",
     "status": "completed"
    },
    "tags": []
   },
   "outputs": [],
   "source": [
    "import matplotlib.pyplot as plt\n",
    "import seaborn as sns\n",
    "import numpy as np"
   ]
  },
  {
   "cell_type": "code",
   "execution_count": 13,
   "id": "ab22315c",
   "metadata": {
    "execution": {
     "iopub.execute_input": "2024-09-19T07:54:26.057417Z",
     "iopub.status.busy": "2024-09-19T07:54:26.056949Z",
     "iopub.status.idle": "2024-09-19T07:54:26.589245Z",
     "shell.execute_reply": "2024-09-19T07:54:26.587684Z"
    },
    "papermill": {
     "duration": 0.558249,
     "end_time": "2024-09-19T07:54:26.592854",
     "exception": false,
     "start_time": "2024-09-19T07:54:26.034605",
     "status": "completed"
    },
    "tags": []
   },
   "outputs": [
    {
     "data": {
      "image/png": "[encoded data removed]",
      "text/plain": [
       "<Figure size 640x480 with 1 Axes>"
      ]
     },
     "metadata": {},
     "output_type": "display_data"
    }
   ],
   "source": [
    "sns.kdeplot(df['length_input'] , shade=True)\n",
    "plt.show()"
   ]
  },
  {
   "cell_type": "code",
   "execution_count": 14,
   "id": "28bf080c",
   "metadata": {
    "execution": {
     "iopub.execute_input": "2024-09-19T07:54:26.638896Z",
     "iopub.status.busy": "2024-09-19T07:54:26.638403Z",
     "iopub.status.idle": "2024-09-19T07:54:27.223509Z",
     "shell.execute_reply": "2024-09-19T07:54:27.221857Z"
    },
    "papermill": {
     "duration": 0.612429,
     "end_time": "2024-09-19T07:54:27.226746",
     "exception": false,
     "start_time": "2024-09-19T07:54:26.614317",
     "status": "completed"
    },
    "tags": []
   },
   "outputs": [
    {
     "name": "stdout",
     "output_type": "stream",
     "text": [
      "\n",
      "DataFrame after deleting rows where input length is greater than 550:\n"
     ]
    },
    {
     "data": {
      "image/png": "[encoded data removed]",
      "text/plain": [
       "<Figure size 640x480 with 1 Axes>"
      ]
     },
     "metadata": {},
     "output_type": "display_data"
    }
   ],
   "source": [
    "# Condition: Age less than 30\n",
    "df_filtered = df[df['length_input'] <= 550]\n",
    "\n",
    "print(\"\\nDataFrame after deleting rows where input length is greater than 550:\")\n",
    "sns.kdeplot(df_filtered['length_input'] , shade=True)\n",
    "plt.show()"
   ]
  },
  {
   "cell_type": "code",
   "execution_count": 15,
   "id": "980e4557",
   "metadata": {
    "execution": {
     "iopub.execute_input": "2024-09-19T07:54:27.272695Z",
     "iopub.status.busy": "2024-09-19T07:54:27.271640Z",
     "iopub.status.idle": "2024-09-19T07:54:27.277728Z",
     "shell.execute_reply": "2024-09-19T07:54:27.276619Z"
    },
    "papermill": {
     "duration": 0.03187,
     "end_time": "2024-09-19T07:54:27.280738",
     "exception": false,
     "start_time": "2024-09-19T07:54:27.248868",
     "status": "completed"
    },
    "tags": []
   },
   "outputs": [
    {
     "name": "stdout",
     "output_type": "stream",
     "text": [
      "(15812, 5) (15668, 5)\n"
     ]
    }
   ],
   "source": [
    "print(df.shape, df_filtered.shape)"
   ]
  },
  {
   "cell_type": "code",
   "execution_count": 16,
   "id": "8caae922",
   "metadata": {
    "execution": {
     "iopub.execute_input": "2024-09-19T07:54:27.325959Z",
     "iopub.status.busy": "2024-09-19T07:54:27.325516Z",
     "iopub.status.idle": "2024-09-19T07:54:41.918171Z",
     "shell.execute_reply": "2024-09-19T07:54:41.916962Z"
    },
    "papermill": {
     "duration": 14.618723,
     "end_time": "2024-09-19T07:54:41.921233",
     "exception": false,
     "start_time": "2024-09-19T07:54:27.302510",
     "status": "completed"
    },
    "tags": []
   },
   "outputs": [],
   "source": [
    "df_filtered['length_qna'] = df_filtered['response'].apply(word_count)"
   ]
  },
  {
   "cell_type": "code",
   "execution_count": 17,
   "id": "1606a525",
   "metadata": {
    "execution": {
     "iopub.execute_input": "2024-09-19T07:54:41.967453Z",
     "iopub.status.busy": "2024-09-19T07:54:41.967020Z",
     "iopub.status.idle": "2024-09-19T07:54:42.420850Z",
     "shell.execute_reply": "2024-09-19T07:54:42.419584Z"
    },
    "papermill": {
     "duration": 0.479453,
     "end_time": "2024-09-19T07:54:42.423541",
     "exception": false,
     "start_time": "2024-09-19T07:54:41.944088",
     "status": "completed"
    },
    "tags": []
   },
   "outputs": [
    {
     "data": {
      "image/png": "[encoded data removed]",
      "text/plain": [
       "<Figure size 640x480 with 1 Axes>"
      ]
     },
     "metadata": {},
     "output_type": "display_data"
    }
   ],
   "source": [
    "sns.kdeplot(df_filtered['length_qna'] , shade=True)\n",
    "plt.show()"
   ]
  },
  {
   "cell_type": "code",
   "execution_count": 18,
   "id": "8e3abcad",
   "metadata": {
    "execution": {
     "iopub.execute_input": "2024-09-19T07:54:42.469485Z",
     "iopub.status.busy": "2024-09-19T07:54:42.469034Z",
     "iopub.status.idle": "2024-09-19T07:54:42.887811Z",
     "shell.execute_reply": "2024-09-19T07:54:42.886480Z"
    },
    "papermill": {
     "duration": 0.445134,
     "end_time": "2024-09-19T07:54:42.890642",
     "exception": false,
     "start_time": "2024-09-19T07:54:42.445508",
     "status": "completed"
    },
    "tags": []
   },
   "outputs": [
    {
     "name": "stdout",
     "output_type": "stream",
     "text": [
      "\n",
      "DataFrame after deleting rows where response length is greater than 120:\n"
     ]
    },
    {
     "data": {
      "image/png": "[encoded data removed]",
      "text/plain": [
       "<Figure size 640x480 with 1 Axes>"
      ]
     },
     "metadata": {},
     "output_type": "display_data"
    }
   ],
   "source": [
    "df_filtered = df_filtered[df_filtered['length_qna'] <= 120]\n",
    "\n",
    "print(\"\\nDataFrame after deleting rows where response length is greater than 120:\")\n",
    "sns.kdeplot(df_filtered['length_qna'] , shade=True)\n",
    "plt.show()"
   ]
  },
  {
   "cell_type": "code",
   "execution_count": 19,
   "id": "a2bacfab",
   "metadata": {
    "execution": {
     "iopub.execute_input": "2024-09-19T07:54:42.939559Z",
     "iopub.status.busy": "2024-09-19T07:54:42.939092Z",
     "iopub.status.idle": "2024-09-19T07:54:42.945849Z",
     "shell.execute_reply": "2024-09-19T07:54:42.944358Z"
    },
    "papermill": {
     "duration": 0.034636,
     "end_time": "2024-09-19T07:54:42.948666",
     "exception": false,
     "start_time": "2024-09-19T07:54:42.914030",
     "status": "completed"
    },
    "tags": []
   },
   "outputs": [
    {
     "name": "stdout",
     "output_type": "stream",
     "text": [
      "(15812, 5) (15178, 6)\n"
     ]
    }
   ],
   "source": [
    "print(df.shape, df_filtered.shape)"
   ]
  },
  {
   "cell_type": "code",
   "execution_count": 20,
   "id": "919ba7f7",
   "metadata": {
    "execution": {
     "iopub.execute_input": "2024-09-19T07:54:42.997070Z",
     "iopub.status.busy": "2024-09-19T07:54:42.996640Z",
     "iopub.status.idle": "2024-09-19T07:54:43.010978Z",
     "shell.execute_reply": "2024-09-19T07:54:43.009574Z"
    },
    "papermill": {
     "duration": 0.042274,
     "end_time": "2024-09-19T07:54:43.013647",
     "exception": false,
     "start_time": "2024-09-19T07:54:42.971373",
     "status": "completed"
    },
    "tags": []
   },
   "outputs": [
    {
     "name": "stdout",
     "output_type": "stream",
     "text": [
      "category\n",
      "Chemistry    5116\n",
      "General      3757\n",
      "Physics      3375\n",
      "Biology      2930\n",
      "Name: count, dtype: int64\n"
     ]
    }
   ],
   "source": [
    "value_count = df_filtered['category'].value_counts()\n",
    "print(value_count)"
   ]
  },
  {
   "cell_type": "code",
   "execution_count": 21,
   "id": "d690acbf",
   "metadata": {
    "execution": {
     "iopub.execute_input": "2024-09-19T07:54:43.062538Z",
     "iopub.status.busy": "2024-09-19T07:54:43.062081Z",
     "iopub.status.idle": "2024-09-19T07:54:43.071706Z",
     "shell.execute_reply": "2024-09-19T07:54:43.070380Z"
    },
    "papermill": {
     "duration": 0.037097,
     "end_time": "2024-09-19T07:54:43.074196",
     "exception": false,
     "start_time": "2024-09-19T07:54:43.037099",
     "status": "completed"
    },
    "tags": []
   },
   "outputs": [
    {
     "name": "stdout",
     "output_type": "stream",
     "text": [
      "Which of the following is NOT a step in the scientific method?\n"
     ]
    }
   ],
   "source": [
    "def extract_question(text):\n",
    "    start_tag = \"<question>\"\n",
    "    end_tag = \"</question>\"\n",
    "    \n",
    "    # Find the start and end positions\n",
    "    start = text.find(start_tag) + len(start_tag)\n",
    "    end = text.find(end_tag)\n",
    "    \n",
    "    # Extract the text between the tags\n",
    "    if start != -1 and end != -1:\n",
    "        return text[start:end].strip()\n",
    "    else:\n",
    "        return None\n",
    "\n",
    "# Example usage\n",
    "data = \"\"\"<question> Which of the following is NOT a step in the scientific method? </question> <answer> d. Drawing conclusions based on results </answer> <distractor> <d> Making observations </d> <d> Forming hypotheses </d> <d> Conducting experiments </d> <d> Drawing conclusions based on results</d> </distractor>\"\"\"\n",
    "\n",
    "question_text = extract_question(data)\n",
    "print(question_text)"
   ]
  },
  {
   "cell_type": "code",
   "execution_count": 22,
   "id": "aa349b46",
   "metadata": {
    "execution": {
     "iopub.execute_input": "2024-09-19T07:54:43.190719Z",
     "iopub.status.busy": "2024-09-19T07:54:43.189635Z",
     "iopub.status.idle": "2024-09-19T07:54:43.205489Z",
     "shell.execute_reply": "2024-09-19T07:54:43.204277Z"
    },
    "papermill": {
     "duration": 0.111344,
     "end_time": "2024-09-19T07:54:43.208583",
     "exception": false,
     "start_time": "2024-09-19T07:54:43.097239",
     "status": "completed"
    },
    "tags": []
   },
   "outputs": [
    {
     "name": "stdout",
     "output_type": "stream",
     "text": [
      "Drawing conclusions based on results\n",
      "To enhance ion selectivity\n",
      "DIBAH\n"
     ]
    }
   ],
   "source": [
    "def extract_answer(text):\n",
    "    start_tag = \"<answer>\"\n",
    "    end_tag = \"</answer>\"\n",
    "    \n",
    "    # Find the start and end positions\n",
    "    start = text.find(start_tag) + len(start_tag)\n",
    "    end = text.find(end_tag)\n",
    "    \n",
    "    # Extract the text between the tags\n",
    "    if start != -1 and end != -1:\n",
    "        if len(text[start:end].strip()) >= 2:\n",
    "    #         print(f\"\\n\\n{text[start:end].strip()}\")\n",
    "            if text[start:end].strip()[1] == '.':\n",
    "                return  text[start:end].strip()[3:] \n",
    "            if text[start:end].strip()[0] == ')':\n",
    "                return  text[start:end].strip()[2:] \n",
    "            elif text[start:end].strip()[:4] == \"rect\":\n",
    "                return  text[start:end].strip()[16:] \n",
    "            else:\n",
    "                return text[start:end].strip()\n",
    "        else:\n",
    "            return text[start:end].strip()\n",
    "    else:\n",
    "        return None\n",
    "def extract_correct_option(text):\n",
    "    start_tag = \"<answer>\"\n",
    "    end_tag = \"</answer>\"\n",
    "    \n",
    "    # Find the start and end positions\n",
    "    start = text.find(start_tag) + len(start_tag)\n",
    "    end = text.find(end_tag)\n",
    "    \n",
    "    # Extract the text between the tags\n",
    "    if start != -1 and end != -1:\n",
    "        return text[start:end].strip()[0] \n",
    "    else:\n",
    "        return None\n",
    "\n",
    "# Example usage\n",
    "data = \"\"\"<question> Which of the following is NOT a step in the scientific method? </question> <answer> d. Drawing conclusions based on results </answer> <distractor> <d> Making observations </d> <d> Forming hypotheses </d> <d> Conducting experiments </d> <d> Drawing conclusions based on results</d> </distractor>\"\"\"\n",
    "data2 = \"\"\"\n",
    "<question> What is the purpose of using crown ethers in the transportation of specific metal cations through biological membranes? </question> <answer> rect answer: b) To enhance ion selectivity </answer> <distractor> <d> To inhibit ion binding </d> <d> To enhance ion selectivity </d> <d> To promote bacterial growth </d> <d> To neutralize toxins</d> </distractor>\n",
    "\"\"\"\n",
    "data3 = \"\"\"\n",
    "<question> What reagent is commonly used for the partial reduction of carboxylic acid derivatives to aldehydes? </question> <answer> DIBAH </answer> <distractor> <d> LiAlH4 </d> <d> NaBH4 </d> <d> DIBAH </d> <d> PCC</d> </distractor>\n",
    "\"\"\"\n",
    "answer_text = extract_answer(data)\n",
    "# correct_option = extract_correct_option(data)\n",
    "print(answer_text)\n",
    "# print(correct_option)\n",
    "\n",
    "answer_text = extract_answer(data2)\n",
    "# correct_option = extract_correct_option(data)\n",
    "print(answer_text)\n",
    "# print(correct_option)\n",
    "\n",
    "answer_text = extract_answer(data3)\n",
    "# correct_option = extract_correct_option(data)\n",
    "print(answer_text)\n",
    "# print(correct_option)"
   ]
  },
  {
   "cell_type": "code",
   "execution_count": 23,
   "id": "8ace23b9",
   "metadata": {
    "execution": {
     "iopub.execute_input": "2024-09-19T07:54:43.259344Z",
     "iopub.status.busy": "2024-09-19T07:54:43.258855Z",
     "iopub.status.idle": "2024-09-19T07:54:43.270262Z",
     "shell.execute_reply": "2024-09-19T07:54:43.268718Z"
    },
    "papermill": {
     "duration": 0.041274,
     "end_time": "2024-09-19T07:54:43.273073",
     "exception": false,
     "start_time": "2024-09-19T07:54:43.231799",
     "status": "completed"
    },
    "tags": []
   },
   "outputs": [
    {
     "name": "stdout",
     "output_type": "stream",
     "text": [
      "['Making observations', 'Forming hypotheses', 'Conducting experiments']\n"
     ]
    }
   ],
   "source": [
    "import re\n",
    "hashmap = {\n",
    "    'a':0,\n",
    "    'b':1,\n",
    "    'c':2,\n",
    "    'd':3\n",
    "}\n",
    "def extract_distractors(text):\n",
    "    distractors = []\n",
    "    distractor_section = re.search(r'<distractor>(.*?)</distractor>', text, re.DOTALL)\n",
    "    \n",
    "    if distractor_section:\n",
    "        # Extract all text between <d> and </d> tags within the distractor section\n",
    "        distractors = re.findall(r'<d>(.*?)</d>', distractor_section.group(1), re.DOTALL)\n",
    "        \n",
    "        # Strip any leading/trailing whitespace from each distractor\n",
    "        distractors = [d.strip() for d in distractors]\n",
    "    correct_answer = extract_answer(text)\n",
    "    if correct_answer in distractors:\n",
    "        distractors.remove(correct_answer)\n",
    "        return distractors\n",
    "    else:\n",
    "        print(f\"{distractors}-----{correct_answer}\")\n",
    "        return f\"<d>\"\n",
    "\n",
    "# Example usage\n",
    "data = \"\"\"<question> Which of the following is NOT a step in the scientific method? </question> <answer> d. Drawing conclusions based on results </answer> <distractor> <d> Making observations </d> <d> Forming hypotheses </d> <d> Conducting experiments </d> <d> Drawing conclusions based on results</d> </distractor>\"\"\"\n",
    "\n",
    "distractors_list = extract_distractors(data)\n",
    "print(distractors_list)"
   ]
  },
  {
   "cell_type": "code",
   "execution_count": 24,
   "id": "0232bd03",
   "metadata": {
    "execution": {
     "iopub.execute_input": "2024-09-19T07:54:43.322624Z",
     "iopub.status.busy": "2024-09-19T07:54:43.322215Z",
     "iopub.status.idle": "2024-09-19T07:54:43.773191Z",
     "shell.execute_reply": "2024-09-19T07:54:43.771758Z"
    },
    "papermill": {
     "duration": 0.478712,
     "end_time": "2024-09-19T07:54:43.776085",
     "exception": false,
     "start_time": "2024-09-19T07:54:43.297373",
     "status": "completed"
    },
    "tags": []
   },
   "outputs": [
    {
     "name": "stdout",
     "output_type": "stream",
     "text": [
      "['To lipids', 'To proteins', 'To nucleic acids', 'To phospholipids']-----To lipids and b) To proteins\n",
      "['wer: False', 'What is the main function of primary active transport?', 'To maintain the balance of sodium and potassium levels in a cell', 'To create an electrochemical gradient']-----To move substances against their concentration gradient\n",
      "['wer: a. To maintain the balance of sodium and potassium levels in a cell', 'Which gradient affects the movement of ions in living systems?', 'Concentration gradient', 'Electrical gradient']-----Both concentration and electrical gradients\n",
      "['wer: c. Both concentration and electrical gradients', 'Which type of carrier protein carries two different substances in the same direction?', 'Uniporters', 'Symporters']-----Antiporters\n",
      "['wer: b. Symporters', \"True or False: Active transport processes rely on the cell's metabolism for energy.\", 'wer: True', 'Which type of active transport is driven by the charge difference created by primary active transport?']-----Primary active transport\n",
      "['Uniporters', 'Antiporters', 'wer: b. Secondary active transport', 'What is the role of ATP in active transport?']-----To maintain the concentrations of ions and other substances that cells need\n",
      "['To move substances from an area of low concentration to an area of high concentration', 'To aid in the movement of substances across the membrane', 'wer: a. To maintain the concentrations of ions and other substances that cells need', 'True or False: Active transport processes are not affected by metabolic poisons.']-----False\n",
      "['wer: True', 'Which compound connects carbohydrate, protein, and lipid metabolic pathways?', 'Glucose 1-phosphate', 'Glycogen']-----Citric acid\n",
      "['wer: D) Acetyl-CoA', 'What is the common product of breaking down sucrose, a disaccharide composed of glucose and fructose?', 'Glucose', 'Fructose']-----Lactic acid\n",
      "['wer: A) Glucose', 'In glucose metabolism, excess amino acids can be shunted into the pathways of glucose catabolism. True or False?', 'wer: True', 'What is the conversion product of the amino group of each amino acid in glucose metabolism?']-----Glucose\n",
      "['Carbon dioxide', 'Ammonia', 'wer: D) Ammonia', 'Which organ synthesizes urea from ammonia and carbon dioxide in glucose metabolism?']-----Liver\n",
      "['Pancreas', 'Lung', 'wer: A) Liver', 'All forms of fermentation, except lactic acid fermentation, produce gas. True or False?']-----True\n",
      "['3.5 years ago', '3.5 million years ago', '3.5 billion years ago', '3.5 trillion years ago']----- billion years ago\n",
      "['Euglenid protists', 'Dinoflagellates', 'Apicomplexans', 'Stramenopiles']-----Dinoflagellates, c) Apicomplexans, and d) Stramenopiles\n",
      "['Aquatic environments', 'Human skin', 'Tundra', 'Dry, sandy soil']-----Tundra and d) Dry, sandy soil\n",
      "['Decompose organic matter', 'Recycle nutrients', 'Form symbiotic relationships', 'Break down toxins']-----Decompose organic matter and b) Recycle nutrients\n",
      "['Hypothermia', 'Physical therapy', 'Surgery', 'Medication']-----Stem cell transplants\n",
      "['Stem cell transplants', 'Physical therapy', 'Surgery', 'Medication']-----Hypothermia\n",
      "['Reptiles', 'Birds', 'Amphibians', 'Mammals']-----Birds and d) Mammals\n",
      "['Birds', 'Reptiles', 'Amphibians', 'Mammals']-----Amphibians and b) Reptiles\n",
      "['Asexual reproduction produces offspring that are genetically identical to the parent', 'Asexual reproduction allows for rapid reproduction and colonization of new habitats', 'Asexual reproduction creates genetically diverse offspring', 'Asexual reproduction can be advantageous in stable environments.']-----Asexual reproduction creates genetically diverse offspring.\n",
      "['They increase reproductive rates of individuals as population density increases', 'They decrease reproductive rates of individuals as population density increases', 'They increase mortality rate as population density increases', 'They decrease mortality rate as population density increases']-----They decrease reproductive rates of individuals as population density increases.\n",
      "['Temperature', 'pH', 'Enzymes', 'A and B only']-----A and B only (Temperature and pH)\n",
      "['A single layer of phospholipids with hydrophilic heads facing the aqueous environments', 'A double layer of phospholipids with hydrophobic tails in contact with each other and hydrophilic heads facing the aqueous environments', 'A triple layer of phospholipids with alternating hydrophobic and hydrophilic regions', 'A network of proteins held together by phospholipids']-----B\n",
      "['They transport materials into or out of the cell', 'They serve as receptors for signaling molecules', 'They provide structural support to the membrane', 'They anchor the membrane to the cytoskeleton']-----A\n",
      "['The constant rotation of proteins within the membrane', 'The movement and rotation of phospholipids', 'The presence of cholesterol molecules in the membrane', 'The arrangement of peripheral proteins on the surface of the membrane']-----B\n",
      "['The presence of integral proteins', 'The arrangement of peripheral proteins', 'The hydrophilic interior of the lipid bilayer', 'The hydrophobic exterior of the lipid bilayer']-----C\n",
      "['Nonpolar and small polar molecules', 'Large polar molecules and ions', 'Proteins and carbohydrates', 'DNA and RNA molecules']-----A\n",
      "['It determines the shape and size of the cell', 'It allows the cell to interact with its environment', 'It protects the cell from harmful substances', 'It controls the movement of substances into and out of the cell']-----B\n",
      "['By actively transporting them across the membrane', 'By passively allowing them to diffuse through the membrane', 'By engulfing them through endocytosis', 'By releasing enzymes that break down the substances outside the cell']-----C\n",
      "['They transport materials into or out of the cell', 'They serve as receptors for signaling molecules', 'They provide structural support to the membrane', 'They anchor the membrane to the cytoskeleton']-----B\n",
      "['It allows the membrane to adapt to changes in the environment', 'It prevents the movement of substances into and out of the cell', 'It stabilizes the overall structure of the membrane', 'It allows for the formation of lipid rafts within the membrane']-----A\n",
      "['By actively transporting waste molecules out of the cell', 'By passively allowing waste molecules to diffuse through the membrane', 'By breaking down waste molecules within the cell', 'By releasing waste molecules through exocytosis']-----D\n",
      "['1.5', '2', '2.5', '3']-----\n",
      "['0.5', '1', '1.5', '2']-----\n",
      "['Animals', 'Fungi', 'Bacteria', 'Photosynthetic organisms (correct answer)']-----Photosynthetic organisms\n",
      "['Light-dependent reactions and dark reactions', 'Light-dependent reactions and Calvin cycle (correct answer)', 'Light-independent reactions and dark reactions', 'Calvin cycle and noncyclic pathway']-----Light-dependent reactions and Calvin cycle\n",
      "['Endoplasmic reticulum', 'Cytoplasm', 'Mitochondria', 'Chloroplasts (correct answer)']-----Chloroplasts\n",
      "['Chlorophylls (correct answer)', 'Carotenoids', 'Xanthophylls', 'Phycobilins']-----Chlorophylls\n",
      "['Absorbing light energy', 'Producing oxygen (correct answer)', 'Pumping hydrogen ions', 'Accepting electrons']-----Producing oxygen\n",
      "['Noncyclic pathway (correct answer)', 'Cyclic pathway', 'Linear pathway', 'Calvin cycle pathway']-----Noncyclic pathway\n",
      "['They are released as oxygen', 'They pass through an electron transport chain (correct answer)', 'They are used to pump hydrogen ions', 'They enter the Calvin cycle']-----They pass through an electron transport chain\n",
      "['Absorbing light energy (correct answer)', 'Producing oxygen', 'Pumping hydrogen ions', 'Accepting electrons']-----Absorbing light energy\n",
      "['Photosynthesis provides the raw materials for our food', 'Photosynthesis produces food directly (correct answer)', 'Photosynthesis breaks down food molecules to release energy', 'Photosynthesis converts sunlight into energy for animals to consume']-----Photosynthesis produces food directly\n",
      "['Discovering new plants for food, medicine, and clothing', 'Determining the origin of diseases and how to treat them', 'Classifying organisms based on their kingdom, phylum, class, etc.', 'Modifying phylogenetic classifications based on genetic analysis']-----Discovering new plants for food, medicine, and clothing // b) Determining the origin of diseases and how to treat them\n",
      "['Healthcare', 'Protein synthesis', 'Movement', 'Food processing']-----Healthcare (and water treatment and food processing)\n",
      "[') Nitrification', ') Denitrification', ') Nitrogen fixation', ') Ammonification']-----Nitrogen fixation\n",
      "[') Nitrification', ') Denitrification', ') Nitrogen fixation', ') Ammonification']-----Denitrification\n",
      "[') Thermophiles', ') Halophiles', ') Acidophiles', ') Methanogens']-----Thermophiles\n",
      "[') Overuse of antibiotics', ') Bacterial mutations', ') Genetic predisposition', ') Poor hygiene']-----Overuse of antibiotics\n",
      "[') Pneumonia', ') Influenza', ') Malaria', ') Dengue fever']-----Pneumonia\n",
      "[') Influenza', ') Smallpox', ') Malaria', ') Dengue fever']-----Smallpox\n",
      "[') Nitrogen fixation', ') Denitrification', ') Nitrification', ') Biofilm formation']-----Biofilm formation\n",
      "[') Fungus', ') Plant', ') Archaea', ') Animal']-----Archaea\n",
      "[') Fungi', ') Plants', ') Prokaryotes', ') Viruses']-----Prokaryotes\n",
      "[') Drug-resistant', ') Mutated', ') Bacterial', ') Super bugs']-----Super bugs\n",
      "['a) Innate immunity and adaptive immunity', 'b) T cells and B cells', 'c) Cell-mediated response and humoral response', 'd) Antigens and antibodies']-----Innate immunity and adaptive immunity\n",
      "['a) Innate immunity', 'b) Adaptive immunity', 'c) T cells', 'd) B cells']-----Innate immunity\n",
      "['a) Innate immunity', 'b) Adaptive immunity', 'c) T cells', 'd) B cells']-----Adaptive immunity\n",
      "['a) Innate response and adaptive response', 'b) Innate response and humoral response', 'c) Cell-mediated response and humoral response', 'd) Cell-mediated response and antibody response']-----Cell-mediated response and humoral response\n",
      "['a) T cells', 'b) B cells', 'c) Antigen-presenting cells', 'd) Memory cells']-----T cells\n",
      "['a) T cells', 'b) B cells', 'c) Antigen-presenting cells', 'd) Memory cells']-----B cells\n",
      "['a) Antigens', 'b) Antibodies', 'c) Antigen-presenting cells', 'd) Memory cells']-----Antibodies\n",
      "['a) The ability to recognize and tolerate normal cells and tissues in the body', 'b) The ability to recognize and tolerate pathogens', 'c) The ability to mount an immune response against normal cells and tissues in the body', 'd) The ability to mount an immune response against pathogens']-----The ability to recognize and tolerate normal cells and tissues in the body\n",
      "['a) Molecules on the surface of pathogens that trigger an immune response', 'b) Molecules on the surface of normal cells and tissues', 'c) Molecules produced by T cells', 'd) Molecules produced by B cells']-----Molecules on the surface of pathogens that trigger an immune response\n",
      "['a) To recognize and tolerate normal cells and tissues in the body', 'b) To produce antigens', 'c) To produce antibodies', 'd) To provide long-term protection']-----To provide long-term protection\n",
      "['Implement stricter fishing regulations', 'Increase government subsidies for fishermen', \"Set aside 40% of the world's oceans as no-fishing zones\", 'Encourage international cooperation for sustainable fishing practices']-----Set aside 40% of the world's oceans as no-fishing zones with international cooperation for enforcement\n",
      "['Lipid', 'Protein', 'Carbohydrate', 'Oxygen']-----Oxygen.\n",
      "['In the mitochondria', 'In the nucleus', 'In the chloroplasts', 'In the vacuoles']-----In the chloroplasts.\n",
      "['The light-dependent reactions and the light-independent reactions', 'The light reactions and the dark reactions', 'The Calvin cycle and the Krebs cycle', 'The stroma reactions and the thylakoid reactions']-----The light-dependent reactions and the light-independent reactions (also known as the Calvin cycle).\n",
      "['Glucose and oxygen', 'ATP and NADPH', 'Carbon dioxide and water', 'Chlorophyll and pigments']-----ATP and NADPH.\n",
      "['In the chlorophyll', 'In the mitochondria', 'In the stroma of the chloroplasts', 'In the thylakoids']-----In the stroma of the chloroplasts.\n",
      "['To absorb light energy', 'To convert ATP and NADPH into glucose', 'To convert carbon dioxide into glucose', 'To release oxygen into the atmosphere']-----To convert carbon dioxide into glucose.\n",
      "['Light intensity, temperature, and carbon dioxide concentration', 'Water availability, soil fertility, and wind speed', 'Humidity, pH level, and nutrient availability', 'Oxygen concentration, pressure, and altitude']-----Light intensity, temperature, and carbon dioxide concentration.\n",
      "['The process by which plants convert glucose into carbon dioxide and water', 'The process by which plants convert sunlight into oxygen and glucose', 'The process by which plants convert carbon dioxide into oxygen and glucose', 'The process by which plants consume ATP and NADPH, reducing the efficiency of photosynthesis']-----The process by which plants consume ATP and NADPH, reducing the efficiency of photosynthesis.\n",
      "['When the concentration of carbon dioxide is high', 'When the concentration of oxygen is high', 'When the concentration of carbon dioxide is low', 'When the concentration of oxygen is low']-----When the concentration of carbon dioxide is low.\n",
      "['It helps us understand how plants convert glucose into carbon dioxide and water', 'It helps us understand how plants consume sunlight and oxygen', 'It helps us understand how plants and other organisms produce and consume energy', 'It helps us understand how plants interact with the atmosphere and soil']-----It helps us understand how plants and other organisms produce and consume energy.\n",
      "['To convert ADP into ATP using light energy', 'To transfer electrons to NADP+ molecules', 'To split water molecules into oxygen and hydrogen ions', 'To pump hydrogen ions across the thylakoid membrane']-----To convert ADP into ATP using the concentration gradient of hydrogen ions\n",
      "['Stroma', 'Thylakoid membrane', 'Chloroplasts', 'Photosystem I']-----Photosystem II\n",
      "['A and T', 'A and C', 'C and G', 'T and G']-----A and T, c) C and G\n",
      "['Unwinding of the DNA molecule', 'Separation of the double strands', 'Attachment of DNA polymerases to each DNA strand', 'Addition of complementary nucleotides to the exposed bases']-----Joining of the newly formed strands to form two identical DNA molecules\n",
      "['RNA polymerase', 'DNA polymerase', 'DNA helicase', 'DNA ligase']-----RNA helicase\n",
      "['Cytoplasm', 'Nucleus', 'Both cytoplasm and nucleus', 'Mitochondria']-----Golgi apparatus\n",
      "['Unwinding of the DNA molecule', 'Separation of the double strands', 'Attachment of RNA polymerase to the DNA molecule', 'Addition of complementary nucleotides to one of the DNA strands']-----Release of the newly formed RNA molecule from the DNA\n",
      "['Unwinding of the DNA molecule', 'Attachment to each DNA strand', 'Addition of complementary nucleotides', 'Proofreading of the replicated DNA']-----Joining of the newly formed strands\n",
      "['Cytoplasm', 'Nucleus', 'Both cytoplasm and nucleus', 'Mitochondria']-----Golgi apparatus\n",
      "['RNA polymerase', 'DNA polymerase', 'DNA helicase', 'DNA ligase']-----RNA helicase\n",
      "['Unwinding of the DNA molecule', 'Attachment to the DNA molecule', 'Addition of complementary nucleotides', 'Proofreading of the transcribed RNA']-----Joining of the newly formed RNA molecule\n",
      "['None', 'One', 'Two', 'Three']-----Four\n",
      "['Scalar quantity', 'Vector quantity', 'wer: B) Vector quantity', 'How is speed calculated?']-----Dividing displacement by time of travel\n",
      "['Dividing change in position by time of travel', 'Dividing elapsed time by change in position', 'wer: B) Dividing distance traveled by time taken', 'What is the difference between velocity and speed?']-----Velocity has magnitude and direction, while speed only has magnitude\n",
      "['Its velocity is zero', 'Cannot be determined', 'wer: B) Its velocity is large', 'If a car travels 200 miles in 5 hours, what is its speed?']-----20 miles per hour\n",
      "['50 miles per hour', '60 miles per hour', 'wer: B) 40 miles per hour', 'Can speed be negative?']-----Yes\n",
      "['wer: B) No', 'Which of the following is an example of a vector quantity?', 'Distance', 'Time']-----Speed\n",
      "['Lighter objects fall slower than heavier objects.', 'Heavier objects fall slower than lighter objects.', 'All objects fall towards the center of the Earth at the same acceleration.', 'Objects do not fall towards the center of the Earth.']-----C\n",
      "['Air resistance and friction.', 'Neglecting air resistance and friction.', 'Gravity.', 'Inertia.']-----B\n",
      "['To identify errors in problem solving.', 'To measure the accuracy of the answer.', 'To compare the result with other similar problems.', 'To determine the weight of the object.']-----A\n",
      "['1', '2', '3', '4']-----C\n",
      "['The answer is larger than expected.', 'The answer has the wrong sign.', 'The answer has improper units.', 'All of the above.']-----D\n",
      "['Improper calculations.', 'Incorrect units used.', 'Unreasonable premise.', 'All of the above.']-----D\n",
      "['Final velocity of 40 m/s after 100 seconds of acceleration.', 'Final velocity of 20 m/s after 5 seconds of acceleration.', 'Final velocity of 10 m/s after 2 seconds of acceleration.', 'Final velocity of 30 m/s after 7 seconds of acceleration.']-----A\n",
      "['By identifying errors in problem solving.', 'By improving problem-solving skills.', 'By accurately describing nature.', 'By understanding the effects of air resistance.']-----C\n",
      "['The magnitude of the answer.', 'The sign of the answer.', 'The units of the answer.', 'The color of the object.']-----D\n",
      "['Because lighter objects are usually slower.', 'Because heavier objects are usually slower.', 'Because of air resistance and friction.', \"Because of the Earth's magnetic field.\"]-----C\n",
      "['wer: False', 'What is the purpose of using vectors in two-dimensional motion?', 'To simplify the calculations', 'To represent quantities with both magnitude and direction']-----To make the motion more complicated\n",
      "['The rate of change of the rotation angle', 'The distance from the center of rotation', 'The linear velocity', 'The gravitational force']-----The rate of change of the rotation angle with respect to time.\n",
      "['Net work = force x displacement', 'Net work = displacement x velocity', 'Net work = force x velocity', 'Net work = force x displacement x cos(theta)']-----Net work = force x displacement x cos(theta), where theta is the angle between the force and displacement vectors\n",
      "['wer: True.', 'True or False: The assumption of a constant force in the definition of impulse is similar to the assumption of constant acceleration in kinematics.', 'wer: True.', 'The conservation of momentum applies to which of the following?']-----Collisions between objects.\n",
      "['Both a and b.', 'None of the above.', 'wer: c) Both a and b.', 'The conservation of momentum is a fundamental principle in physics because it helps us understand:']-----How momentum is conserved in collisions.\n",
      "['How momentum is conserved in a wide range of events and systems.', 'All of the above.', 'wer: d) All of the above.', 'Which of the following is NOT a key idea related to conservation of momentum?']-----Total momentum remains constant if no external forces act on the system.\n",
      "['Net external force', 'Net external torque', 'Magnitude of the force', 'Tendency for the system to rotate']-----Net external force and B) Net external torque\n",
      "['wer: False', 'Stability of an object is increased if the center of gravity is high. True or False?', 'wer: False', 'Statics can be used to analyze and solve problems in various real-life situations. True or False?']-----True\n",
      "['5.00 rad/s', '10.5 rad/s^2', '250 rpm', '5.00 s']-----0 s\n",
      "['Sugar', 'Salt', 'They have the same density', 'Cannot be determined']-----nnot be determined (based on the given information)\n",
      "['ΔU = Q - W', 'ΔU = Q / W', 'ΔU = Q * W', 'What is the sign convention for heat transfer and work in relation to the first law of thermodynamics?']-----Positive Q indicates net heat transfer into the system, and positive W indicates net work done by the system.\n",
      "['The first law of thermodynamics is an alternative explanation to the conservation of energy principle.', 'In everyday situations, what is an example of a process where the first law of thermodynamics can be seen?', 'The boiling of water in a tea kettle on a stove.', 'The freezing of water in a refrigerator.']-----The melting of ice in a glass.\n",
      "['Which of the following is not a method of transferring energy into or out of a system?', 'Heat transfer', 'Work', 'Temperature change']-----Both a) and b) are correct\n",
      "['It is stored as internal energy.', 'It is released as heat.', 'It is converted into work done on the system.', 'It is transferred out of the system.']-----According to the first law of thermodynamics, which of the following can cause a temperature increase in a system?\n",
      "['Work', 'Both a) and b) are correct', 'Neither a) nor b) are correct', 'True or False: The first law of thermodynamics states that the total energy change in a system is equal to the energy transferred as heat minus the energy transferred as work.']-----True\n",
      "['Which term represents the sum of all heat transfer into and out of the system in the equation for the first law of thermodynamics?', 'Q', 'W', 'ΔU']-----None of the above\n",
      "['It decreases.', 'It increases.', 'It becomes inaudible.', 'When a sound source is moving away from a stationary observer, what happens to the frequency of the sound waves received by the observer?']-----It stays the same.\n",
      "['It increases.', 'It becomes inaudible.', 'If a stationary sound source emits sound waves in a moving medium and the observer is moving towards the source, what will happen to the frequency of the sound waves received by the observer?', 'It will stay the same.']-----It will decrease.\n",
      "['It will become inaudible.', 'If a stationary sound source emits sound waves in a moving medium and the observer is moving away from the source, what will happen to the frequency of the sound waves received by the observer?', 'It will stay the same.', 'It will decrease.']-----It will increase.\n",
      "['The Doppler effect is only applicable to sound waves. True or False?', 'Sonic booms are created when an object travels at what speed?', 'The speed of light.', 'The speed of sound.']-----The speed of gravity.\n",
      "['Sonic booms produce a loud sound known as a:', 'Light boom.', 'Sound boom.', 'Sonic wave.']-----Shockwave.\n",
      "['Creating specific tones in musical instruments', 'Cancelling out noise in headphones', 'Determining the frequency of a sound wave', 'Identifying the natural frequency of an object']-----Creating specific tones in musical instruments and b) Cancelling out noise in headphones\n",
      "['Newtons per coulomb', 'Volts', 'Meters', 'Coulombs']-----B\n",
      "['The amount of electric potential energy per unit charge at a specific point in an electric field', 'A region of space around a charged object where a force is exerted on other charged objects', 'The relationship between voltage and electric field strength', 'The difference in electric potential between two points']-----B\n",
      "['V = Ed', 'V = F/q', 'V = kQ/r^2', 'V = W/q']-----A\n",
      "['A region of space around a charged object where a force is exerted on other charged objects', 'The difference in electric potential between two points', 'One in which the electric field strength is constant', 'The amount of electric potential energy per unit charge at a specific point in an electric field']-----C\n",
      "['The amount of electric potential energy per unit charge at a specific point in an electric field', 'A region of space around a charged object where a force is exerted on other charged objects', 'The difference in electric potential between two points', 'The relationship between voltage and electric field strength']-----C\n",
      "['1 million volts per meter', '2 million volts per meter', '3 million volts per meter', '4 million volts per meter']-----C\n",
      "['Newtons per coulomb', 'Volts', 'Meters', 'Coulombs']-----A\n",
      "['V = Ed', 'V = F/q', 'V = kQ/r^2', 'V = W/q']-----A\n",
      "['1 million volts', '2 million volts', '3 million volts', '4 million volts']-----V = Ed = 3 million V/m * distance\n",
      "['The amount of electric potential energy per unit charge at a specific point in an electric field', 'A region of space around a charged object where a force is exerted on other charged objects', 'The difference in electric potential between two points', 'The relationship between voltage and electric field strength']-----A\n",
      "['emf = N(dΦ/dt)', 'emf = dΦ/dt', 'emf = N + (dΦ/dt)', 'emf = N - (dΦ/dt)']-----emf = -N(dΦ/dt)\n",
      "['0.112 Ω', '0.376 Ω', '0.905 Ω', '18.85 Ω']-----05 Ω\n",
      "['0.053 A', '0.337 A', '0.596 A', '5.96 A']-----53 A\n",
      "['Diverging lens', 'Positive power lens', 'Converging lens', 'Laser vision correction']-----Converging lens or d) Laser vision correction\n",
      "['Relativistic mechanics is a subset of classical mechanics.', 'Classical mechanics is a subset of relativistic mechanics.', 'Relativistic mechanics becomes the same as classical mechanics for large, fast-moving objects.', 'Classical mechanics and relativistic mechanics are completely separate theories.']-----Relativistic mechanics becomes the same as classical mechanics for objects larger than submicroscopic and moving slower than about 1% of the speed of light.\n",
      "['They have higher frequencies and therefore higher energy photons', 'They have lower frequencies and therefore lower energy photons', 'They have longer wavelengths', 'They have shorter wavelengths']-----They have higher frequencies and therefore higher energy photons.\n",
      "['Alpha radiation', 'Beta radiation', 'Gamma radiation', 'None of the above']-----None of the above (Geiger tube produces an audio output)\n",
      "['Using the equation E=mc^2 and the atomic masses of the reactants', 'Using the equation E=mc^2 and the atomic masses of the products', 'Using the equation E=mc^2 and the atomic masses of both the reactants and products', 'It cannot be calculated using the given information.']-----Using the equation E=mc^2 and the atomic masses of both the reactants and products.\n",
      "['wer: False', 'What is one example of a nonstandard unit mentioned in the paragraph?', 'Meter per second', 'Kilometer']-----Firkin\n",
      "['wer: c. Firkin', 'Which fundamental unit should be used to measure the time it takes for a hummingbird to beat its wings once?', 'Seconds', 'Kilograms']-----Meters\n",
      "['wer: a. Seconds', 'True or False: The scientist is likely to measure the time in milliseconds.', 'wer: True', 'What is the relationship between one cubic centimeter and one milliliter?']-----They are equal measurements of volume.\n",
      "['One milliliter is larger than one cubic centimeter.', 'The relationship depends on the fundamental unit of length.', 'wer: a. They are equal measurements of volume.', 'What is the fundamental unit of length used to create the derived unit of volume?']-----Centimeter\n",
      "['Meter', 'Liter', 'wer: c. Meter', 'True or False: The milliliter is dependent on the centimeter.']-----True\n",
      "['Acceleration is constant in all situations', 'Acceleration is variable in all situations', 'Acceleration is zero in all situations', 'Acceleration is negative in all situations']-----Acceleration is constant in many situations\n",
      "['wer: True', 'When a swimmer pushes off from the side of a pool, the force exerted by the swimmer on the pool wall is considered the:', 'Action force', 'Reaction force']-----External force\n",
      "['wer: a) Action force', \"According to Newton's Third Law of Motion, forces always occur in pairs. True or False?\", 'wer: True', 'When two objects exert equal and opposite forces on each other, these forces will always cancel each other out. True or False?']-----False\n",
      "['Centripetal force', 'Fictitious force', 'Gravitational force', 'Frictional force']-----Fictitious force (centrifugal force)\n",
      "['the motion of planets', 'the behavior of falling bodies', 'both a) and b)', 'none of the above']-----both a) the motion of planets and b) the behavior of falling bodies\n",
      "['Yes', 'No', 'wer: B) No', 'What does the potential energy of a spring depend on?']-----The distance the spring is stretched or compressed\n",
      "['The temperature of the environment', 'The mass of the object attached to the spring', 'wer: A) The distance the spring is stretched or compressed', 'Is the potential energy of a spring fully recoverable?']-----Yes\n",
      "['Physics', 'Chemistry', 'Fluid dynamics', 'Biomedical applications']-----Fluid dynamics and d) Biomedical applications\n",
      "['wer: False', 'Which of the following best describes heat transfer?', 'The transfer of energy due to temperature differences.', 'The transfer of energy due to a macroscopic force exerted through a distance.']-----The transfer of energy due to both temperature differences and a macroscopic force exerted through a distance.\n",
      "['wer: A) The transfer of energy due to temperature differences.', 'True or False: Heat transfer and work are both methods of bringing energy into or taking energy out of a system.', 'wer: True', 'True or False: Heat transfer and work can produce identical results, such as causing a temperature increase in a system.']-----True\n",
      "['It uses irreversible processes', 'It operates on a theoretical engine', 'It has the highest efficiency', 'It involves dissipative factors like friction and turbulence']-----It uses reversible processes\n",
      "['It helps in the study of plate tectonics', 'It aids in the search for oil fields and mineral deposits', 'It provides insights into the behavior of alternating current circuits', 'It helps in understanding the motion of rotating objects']-----It helps in the study of plate tectonics and b) It aids in the search for oil fields and mineral deposits\n",
      "['It is ignored', 'It is subtracted from the total resistance of the circuit', 'It is added to the total resistance of the circuit', 'It is divided by the total resistance of the circuit']-----It is ignored or included in the resistance of the circuit\n",
      "['The relationship between current, voltage, and resistance in a circuit', 'The relationship between current and voltage in a circuit', 'The relationship between voltage and resistance in a circuit', 'The relationship between current and resistance in a circuit']-----The relationship between current, voltage, and resistance in a circuit.\n",
      "['A shorter and thicker object', 'A longer and thinner object', 'wer: b) A longer and thinner object', \"What is the equation for Ohm's Law?\"]-----I = V/R\n",
      "['V = I/R', 'I = R/V', 'wer: a) I = V/R', 'How does the resistance of an object change with its length and cross-sectional area?']-----It is directly proportional to length and inversely proportional to cross-sectional area\n",
      "['wer: a) It is directly proportional to length and inversely proportional to cross-sectional area', 'What do conductors have in terms of resistivity and resistance?', 'High resistivity and high resistance', 'Low resistivity and low resistance']-----High resistivity and low resistance\n",
      "['wer: b) Low resistivity and low resistance', 'What unit is resistivity measured in?', 'Amperes', 'Volts']-----Ohms\n",
      "['wer: d) Ohm-meters', 'How can the change in resistance of a material with temperature be calculated?', 'By multiplying the initial resistance by the change in temperature', 'By multiplying the initial resistance by the thermal coefficient of resistivity']-----By multiplying the initial resistance by the change in temperature and the thermal coefficient of resistivity\n",
      "['wer: c) By multiplying the initial resistance by the change in temperature and the thermal coefficient of resistivity', 'What does the thermal coefficient of resistivity represent?', 'The rate at which resistance changes per degree Celsius', 'The rate at which resistivity changes per degree Celsius']-----The rate at which current changes per degree Celsius\n",
      "['wer: b) The rate at which resistivity changes per degree Celsius', 'True or False: Resistivity can be used to calculate the resistance of a material given its length and cross-sectional area.', 'wer: True', 'True or False: Resistance can change with temperature.']-----True\n",
      "['Albert Einstein', 'James Clerk Maxwell', 'Isaac Newton', 'Nikola Tesla']-----Correct answer: B. James Clerk Maxwell\n",
      "['Visible light', 'Sound wave', 'X-rays', 'Gamma rays']-----Correct answer: B. Sound wave\n",
      "['By converting sound waves into radio waves and transmitting them.', 'By converting radio waves into sound waves and transmitting them.', 'By converting electromagnetic waves into radio waves and transmitting them.', 'By converting radio waves into electromagnetic waves and transmitting them.']-----Correct answer: A. By converting sound waves into radio waves and transmitting them.\n",
      "['A set of mathematical equations that describe the behavior of electric and magnetic fields.', 'A set of equations used to calculate the speed of electromagnetic waves.', 'A set of equations used to determine the frequency of sound waves.', 'A set of equations that prove the existence of electromagnetic waves.']-----Correct answer: A. A set of mathematical equations that describe the behavior of electric and magnetic fields.\n",
      "['By observing the behavior of electromagnetic waves in a laboratory setting.', 'By calculating the speed of electromagnetic waves using the equations.', 'By measuring the frequency of electromagnetic waves using the equations.', 'By comparing the predictions of the equations to experimental observations.']-----Correct answer: D. By comparing the predictions of the equations to experimental observations.\n",
      "['Mathematics can accurately describe and predict the behavior of electromagnetic waves.', \"Maxwell's equations show how mathematics can elegantly express complex concepts.\", 'Mathematics is essential for conducting experiments and verifying scientific theories.', 'The discovery of electromagnetic waves was only possible because of mathematical calculations.']-----Correct answer: B. Maxwell's equations show how mathematics can elegantly express complex concepts.\n",
      "['Infrared', 'Radio waves', 'Sound waves', 'Ultraviolet']-----Correct answer: C. Sound waves\n",
      "['The existence of sound waves', 'The behavior of electric and magnetic effects', 'The behavior of electromagnetic waves', 'The mathematical representation of electromagnetic fields']-----Correct answer: C. The behavior of electromagnetic waves\n",
      "['wer: False', 'What is the speed of light?', 'It varies depending on the material it passes through', 'It is a constant value for all materials']-----It is dependent on the velocity of the source or observer\n",
      "['wer: b) It is a constant value for all materials', 'Who first measured the speed of light?', 'Albert Michelson', 'Isaac Newton']-----Ole Roemer\n",
      "['wer: c) Ole Roemer', 'How did Ole Roemer measure the speed of light?', 'By using rotating mirrors and measuring the time it took for light to travel', \"By observing the orbital period of Jupiter's moons\"]-----By using a refractometer to measure the bending of light\n",
      "[\"wer: b) By observing the orbital period of Jupiter's moons\", 'True or False: Albert Michelson used rotating mirrors to measure the speed of light.', 'wer: True', 'Which of the following is NOT an implication of the speed of light?']-----Its influence on refraction\n",
      "['Its relationship to the velocity of the source or observer', 'Its status as one of the four fundamental SI units', 'wer: c) Its relationship to the velocity of the source or observer', \"How did Albert Michelson's method of measuring the speed of light differ from Ole Roemer's method?\"]-----Michelson used rotating mirrors, while Roemer observed the orbital period of Jupiter's moons\n",
      "['It was significantly different from the current accepted value', 'It could not be accurately measured', 'wer: c) It was significantly different from the current accepted value', 'True or False: The speed of light is considered one of the four fundamental SI units.']-----True\n",
      "['wer: Waves propagate at a slower speed in a medium compared to a vacuum.', 'Which part of the wavefront is a source of wavelets?', 'wer: Every point on the wavefront is a source of wavelets.', \"What is Huygens's principle used for?\"]-----Huygens's principle is used to understand how waves propagate and interact with different mediums.\n",
      "['It allows us to study and analyze the behavior of particles and waves on the quantum level', 'It determines the energy and momentum of particles', 'It explains interference effects in electromagnetic radiation', 'It demonstrates the quantized energy of discrete particles']-----It allows us to study and analyze the behavior of particles and waves on the quantum level.\n",
      "['wer: True', 'True or False: Electric charge is not conserved in nuclear and elementary particle reactions.', 'wer: False', 'What property is conserved in nuclear reactions?']-----Energy\n",
      "['Nucleon number', 'Mass', 'wer: c. Nucleon number', 'What is the connection between probability and quantum mechanics?']-----Probability is not related to quantum mechanics.\n",
      "['Quantum mechanics does not involve probability.', 'Probability is only used in classical physics.', 'wer: b. Probability is used to describe the microscopic world in quantum mechanics.', 'Who discovered nuclear radioactivity?']-----Albert Einstein\n",
      "['Antoine Henri Becquerel', 'Niels Bohr', 'wer: c. Antoine Henri Becquerel', 'Which type of radiation has a charge of +2 and is a helium nucleus?']-----Alpha emission\n",
      "['Gamma emission', 'Neutron emission', 'wer: a. Alpha emission', 'Which type of radiation is an electromagnetic wave with no charge?']-----Alpha emission\n",
      "['Gamma emission', 'Neutron emission', 'wer: c. Gamma emission', 'True or False: Radiation can strip electrons from atoms, creating positively charged ions.']-----True\n",
      "['Grams (g)', 'Curies (Ci)', 'Becquerels (Bq)', 'Volts (V)']-----Curies (Ci) or c) Becquerels (Bq)\n",
      "['Dark matter will eventually stop the expansion', 'Dark matter has no effect on the expansion', 'Dark matter causes the expansion to accelerate', 'Dark matter causes the expansion to decelerate']-----unknown\n",
      "['The combination of gravitational attraction and dark matter', 'The combination of gravitational attraction and visible matter', 'The combination of gravitational attraction and neutrinos', 'The combination of gravitational attraction and the effects of gravity']-----unknown\n",
      "['It involves more steps', 'It can work with both alkyl and aryl ketones', 'It requires a higher temperature', 'It produces a different byproduct']-----It can work with both alkyl and aryl ketones.\n",
      "['A. Reduction', 'B. Nucleophilic acyl substitution', 'C. Esterification', 'D. Hydrolysis']-----Esterification\n",
      "['A. SN1', 'B. SN2', 'C. E1', 'D. E2']-----SN2\n",
      "['A. Dehydration of primary alcohols', 'B. Dehydration of primary amines', 'C. SN2 reactions of cyanide ions with alkyl halides', 'D. Esterification reactions']-----SN2 reactions of cyanide ions with alkyl halides\n",
      "['A. Contains a hydroxyl group', 'B. Can undergo reduction reactions', 'C. Contains a carbonyl group', 'D. Can only undergo SN2 reactions']-----Contains a carbonyl group\n",
      "['A. Alcohol', 'B. Ester', 'C. Aldehyde', 'D. Amide']-----Amide\n",
      "['A. Esterification', 'B. Reduction', 'C. Hydrolysis', 'D. Oxidation']-----Hydrolysis\n",
      "['A. Reduction', 'B. Acidic behavior', 'C. Nucleophilic acyl substitution', 'D. α substitution']-----Nucleophilic acyl substitution\n",
      "['A. Both can undergo oxidation reactions', 'B. Both contain a hydroxyl group', 'C. Both can be deprotonated to give anions', 'D. Both can only undergo SN2 reactions']-----Both can be deprotonated to give anions\n",
      "['A. Acidic behavior', 'B. Esterification', 'C. Reduction', 'D. α substitution']-----Esterification\n",
      "['A. They contain a π bond', 'B. They are common in living organisms', 'C. They can undergo nucleophilic addition reactions', 'D. They can be prepared through SN2 reactions with alkyl halides']-----They are common in living organisms\n",
      "['Aldehydes and ketones have a leaving group bonded to the acyl carbon.', 'Aldehydes and ketones do not form tetrahedral intermediates.', 'Carboxylic acid derivatives undergo nucleophilic addition reactions.', 'Aldehydes and ketones have a leaving group that can be expelled.']-----D\n",
      "['The nucleophile is bonded to the acyl carbon.', 'One of the substituents originally bonded to the acyl carbon is eliminated.', 'The leaving group is converted into a nucleophile.', 'A new leaving group is added to the carbonyl group.']-----B\n",
      "['Amides are more reactive than acid chlorides.', 'Acid chlorides are the least reactive.', 'Acid chlorides are the most reactive.', 'Thioesters are more reactive than acyl phosphates.']-----C\n",
      "['Unhindered carbonyl groups react more readily.', 'Sterically hindered carbonyl groups are more reactive.', 'Less polarized acyl compounds are more reactive.', 'Thioesters are more reactive than acid chlorides.']-----A\n",
      "['They have the same mechanism.', 'The leaving group is not substituted in SN2 reactions.', 'They involve the addition of a nucleophile to a polar bond.', 'The reactivity order is the same for both reactions.']-----B\n",
      "['They have a less polarized carbonyl group.', 'They have a smaller leaving group.', 'They do not form tetrahedral intermediates.', 'They have a more electronegative acyl carbon.']-----B\n",
      "['Electronic factors', 'Solvent polarity', 'Steric hindrance', 'Leaving group ability']-----B\n",
      "['They have a large leaving group.', 'They are less polarized.', 'They have a bulky acyl carbon.', 'They form stable tetrahedral intermediates.']-----D\n",
      "['Aldehydes and ketones have leaving groups.', 'Nucleophilic addition reactions form alcohols.', 'Nucleophilic acyl substitution reactions involve the addition of a nucleophile to the carbonyl group.', 'Aldehydes and ketones undergo substitution reactions.']-----B\n",
      "['Acyl phosphates have a less stable leaving group.', 'Thioesters are highly hindered.', 'Acyl phosphates are more polarized.', 'Thioesters have a larger acyl carbon.']-----C\n",
      "['Alcohol', 'Alkene', 'Acid Chloride', 'Ketone']-----Correct  C. Acid Chloride\n",
      "['Presence of an ester', 'Presence of a carboxylic acid', 'Presence of an alcohol', 'Presence of a ketone']-----Correct  B. Presence of a carboxylic acid\n",
      "['2 δ', '5 δ', '10 δ', '15 δ']-----Correct  A. 2 δ\n",
      "['Alcohol', 'Alkene', 'Ketone', 'Ester']-----Correct  C. Ketone\n",
      "['50-100 δ', '100-150 δ', '160-180 δ', '200-250 δ']-----Correct  C. 160-180 δ\n",
      "['Alcohol', 'Alkene', 'Carboxylic Acid', 'Ester']-----Correct  A. Alcohol\n",
      "['Aldehyde', 'Ketone', 'Ester', 'Acid Chloride']-----Correct  C. Ester\n",
      "['Alcohol', 'Alkene', 'Ester', 'Acid Chloride']-----Correct  C. Ester\n",
      "['50-100 δ', '100-150 δ', '160-180 δ', '200-250 δ']-----Correct  D. 200-250 δ\n",
      "['500-1000 cm-1', '1050-1300 cm-1', '1650-1850 cm-1', '1900-2200 cm-1']-----Correct  C. 1650-1850 cm-1\n",
      "['A. 2-hydroxy-2-methylpentanal', 'B. 5-ethyl-4-methyl-4-hepten-3-one', 'C. 3-methylbutanal', 'D. 1-butanol']-----5-ethyl-4-methyl-4-hepten-3-one\n",
      "['A. Acetaldehyde', 'B. Butanal', 'C. Benzaldehyde', 'D. Propanal']-----Butanal\n",
      "['A. Ethanol', 'B. 1-butanol', 'C. Isopropyl alcohol', 'D. Methanol']-----1-butanol\n",
      "['A. Acid', 'B. Enzyme', 'C. Base', 'D. Transition metal']-----Base\n",
      "['A. Propanal', 'B. Butanal', 'C. 1-butanol', 'D. 2-hexanone']-----1-butanol\n",
      "['A. Benzene', 'B. Butanal', 'C. Acetone', 'D. Methanol']-----Butanal\n",
      "['A. Enzyme', 'B. Enol', 'C. Enolate', 'D. Ether']-----Enolate\n",
      "['A. Hydroxyl and carboxyl', 'B. Amine and ketone', 'C. Hydroxyl and aldehyde or ketone', 'D. Ester and ester']-----Hydroxyl and aldehyde or ketone\n",
      "['A. Carboxyl group', 'B. Hydroxyl group', 'C. Alpha carbon hydrogen', 'D. Amine group']-----Alpha carbon hydrogen\n",
      "['A. Formation of a ketone', 'B. Formation of an alkyne', 'C. Formation of an alcohol', 'D. Formation of an ester']-----Formation of an alcohol\n",
      "['It can form an enolate ion', 'It acts as a nucleophilic donor', 'It prefers to form a mixed aldol product', 'It is a good electrophilic acceptor']-----Correct  D. It is a good electrophilic acceptor\n",
      "['More nucleophilic', 'More basic', 'More acidic', 'Less stable']-----Correct  C. More acidic\n",
      "['Formaldehyde', 'Benzaldehyde', 'Monoketone', '2,5-hexanedione']-----Correct  C. Monoketone\n",
      "['Acid', 'Base', 'Catalyst', 'Heat']-----Correct  B. Base\n",
      "['Both partners are in separate molecules', 'Both partners are in the same molecule', 'A catalyst is required', 'Heat is necessary']-----Correct  B. Both partners are in the same molecule\n",
      "['Reactant concentration', 'Temperature', 'Stability of the products', 'Time of reaction']-----Correct  C. Stability of the products\n",
      "['Cyclopentenone', 'Cyclopropene', 'Acylcyclobutenes', 'Cyclohexenone']-----Correct  A. Cyclopentenone\n",
      "['Cyclohexenone', 'Cyclopentenone', 'Acylcyclobutenes', 'Cyclohexadienone']-----Correct  C. Acylcyclobutenes\n",
      "['Formaldehyde can form an enolate ion', 'Mixed aldol reactions occur when one partner is more acidic', 'Intramolecular aldol reactions lead to cyclic products', 'Stability of products does not play a role in selectivity']-----Correct  D. Stability of products does not play a role in selectivity\n",
      "['Nucleophilic donor', 'Electrophilic acceptor', 'Nucleophilic acceptor', 'Lewis acid']-----Correct  B. Electrophilic acceptor\n",
      "['It involves many reaction steps', 'It leads to the formation of simple molecules', 'It allows for the construction of polycyclic molecules efficiently', 'It requires harsh reaction conditions']-----It allows for the construction of polycyclic molecules efficiently.\n",
      "['7.3', '1.3', '14', '0']-----\n",
      "['7.3', '1.3', '14', '0']-----\n",
      "['Diastereomers', 'Enantiomers', 'Epimers', 'Anomers']-----Enantiomers.\n",
      "['All 20 amino acids are essential for the body.', 'Nonessential amino acids must be obtained through diet.', 'Essential amino acids can be synthesized by the body.', 'Nonessential amino acids cannot be produced by the body.']-----Correct  C. Essential amino acids can be synthesized by the body.\n",
      "['0', '1', '2', '3']-----Correct  C. 2\n",
      "['Glycine', 'Aspartic acid', 'Threonine', 'Cysteine']-----Correct  D. Cysteine\n",
      "['Calculating the ratio of [A-] to [HA] in a solution', 'Determining the number of chirality centers in an amino acid', 'Predicting the isoelectric point of a molecule', 'Synthesizing nonessential amino acids']-----Correct  A. Calculating the ratio of [A-] to [HA] in a solution\n",
      "['pH 2', 'pH 6.01', 'pH 9', 'pH 12']-----Correct  B. pH 6.01\n",
      "['0', '1', '18', '19']-----Correct  C. 18\n",
      "['Tyrosine', 'Glycine', 'Serine', 'Leucine']-----Correct  A. Tyrosine\n",
      "['The pH at which it is most acidic', 'The pH at which it is least soluble', 'The pH at which it is positively charged', 'The pH at which it exists in its neutral form']-----Correct  D. The pH at which it exists in its neutral form\n",
      "['5', '9', '11', '20']-----Correct  B. 9\n",
      "['Alanine', 'Threonine', 'Cysteine', 'Phenylalanine']-----Correct  B. Threonine\n",
      "['Least soluble', 'Most soluble', 'Moderately soluble', 'Solubility depends on the specific amino acids present']-----Correct  A. Least soluble\n",
      "['Towards the positive electrode', 'Towards the negative electrode', 'They do not migrate', 'Proteins do not have a charge in electrophoresis']-----Correct  A. Towards the positive electrode\n",
      "['Neutral', 'Positive', 'Negative', 'Depends on the specific amino acids present in hemoglobin']-----Correct  B. Positive\n",
      "['5.3', '6.8', '7.3', '8.0']-----Correct  B. 6.8\n",
      "['Forming a dipeptide', 'Forming an amino acid', 'Forming a peptide bond', 'Forming a triglyceride']-----Correct  B. Forming an amino acid\n",
      "['Homochiral mixture', 'Racemic mixture', 'Diastereomer mixture', 'Epimeric mixture']-----Correct  B. Racemic mixture\n",
      "['Alkylation of an enolate ion', 'Hydrolysis of a carbonyl compound', 'Formation of an imine', 'Generation of an amino acid']-----Correct  A. Alkylation of an enolate ion\n",
      "['Enolate ion', 'Imine', 'Peptide bond', 'Triglyceride']-----Correct  B. Imine\n",
      "['Neutral', 'Positive', 'Negative', 'Depends on the specific amino acids present in hemoglobin']-----Correct  C. Negative\n",
      "['Pesticides', 'Fungicides', 'New drugs and treatments', 'Chemical weapons']-----New drugs and treatments.\n",
      "['A. Sugar (ribose) - Adenine - Phosphate group', 'B. Sugar (deoxyribose) - Adenine - Phosphate group', 'C. Sugar (ribose) - Uracil - Phosphate group', 'D. Sugar (deoxyribose) - Guanine - Phosphate group']-----Sugar (deoxyribose) - Adenine - Phosphate group\n",
      "['A. Peptide bond', 'B. Glycosidic bond', 'C. Hydrogen bond', 'D. Phosphodiester bond']-----Glycosidic bond\n",
      "['A. Cytosine', 'B. Guanine', 'C. Thymine', 'D. Adenine']-----Adenine\n",
      "['A. 8', 'B. 10', 'C. 12', 'D. 14']-----10\n",
      "['A. 6 Å', 'B. 10 Å', 'C. 12 Å', 'D. 16 Å']-----12 Å\n",
      "['A. Simple sugars', 'B. Amino acids', 'C. Polycyclic aromatic compounds', 'D. Alkanes']-----Polycyclic aromatic compounds\n",
      "['A. Adenine - Thymine', 'B. Adenine - Cytosine', 'C. Guanine - Thymine', 'D. Cytosine - Uracil']-----Adenine - Thymine\n",
      "['A. 20 Å', 'B. 24 Å', 'C. 30 Å', 'D. 34 Å']-----34 Å\n",
      "['A. Sugar (deoxyribose) - Uracil - Phosphate group', 'B. Sugar (ribose) - Adenine - Phosphate group', 'C. Sugar (ribose) - Uracil - Phosphate group', 'D. Sugar (deoxyribose) - Guanine - Phosphate group']-----Sugar (ribose) - Uracil - Phosphate group\n",
      "['A. Covalent bond', 'B. Ionic bond', 'C. Hydrogen bond', 'D. Van der Waals bond']-----Hydrogen bond\n",
      "['Chain-growth polymer', 'Step-growth polymer', 'Branched polymer', 'Cross-linked polymer']-----Correct  B. Step-growth polymer\n",
      "['Adipic acid and hexamethylenediamine', 'Caprolactam and adipic acid', 'Hexamethylenediamine and caprolactam', 'Bisphenol A and diphenyl carbonate']-----Correct  A. Adipic acid and hexamethylenediamine\n",
      "['Adipic acid', 'Hexamethylenediamine', 'Caprolactam', 'Bisphenol A']-----Correct  C. Caprolactam\n",
      "['Polyethylene', 'Polypropylene', 'Polyesters', 'Polyvinyl chloride']-----Correct  C. Polyesters\n",
      "['Hydroxyl group', 'Carbonyl group', 'Amine group', 'Ester group']-----Correct  B. Carbonyl group\n",
      "['Adipic acid and hexamethylenediamine', 'Caprolactam and bisphenol A', 'Diphenyl carbonate and bisphenol A', 'Hexamethylenediamine and caprolactam']-----Correct  C. Diphenyl carbonate and bisphenol A\n",
      "['Carbonyl and hydroxyl groups', 'Carbonyl and amine groups', 'Ester and hydroxyl groups', 'Ester and amine groups']-----Correct  B. Carbonyl and amine groups\n",
      "['Caprolactam', 'Hexamethylenediamine', 'Bisphenol A', 'Water']-----Correct  D. Water\n",
      "['Polycarbonates', 'Polyurethanes', 'Polyesters', 'Polyethylene']-----Correct  B. Polyurethanes\n",
      "['Simultaneously', 'Through a stepwise process', 'In a branched structure', 'By cross-linking reactions']-----Correct  B. Through a stepwise process\n",
      "['4.0 g/cm3', '7.87 g/cm3', '18.0 g/cm3', '0.496 g/cm3']-----7 g/cm3\n",
      "['4.0 g/cm3', '7.87 g/cm3', '18.0 g/cm3', '0.496 g/cm3']-----96 g/cm3\n",
      "['1.0000 amu', '1.0073 amu', '1.0087 amu', '0.00055 amu']-----087 amu\n",
      "['1.0073 amu', '1.0087 amu', '0.00055 amu', '0.0001 amu']-----0055 amu\n",
      "['5.0%', '7.5%', '10.0%', '15.0%']-----\n",
      "['6.7%', '15.0%', '16.7%', '25.0%']-----\n",
      "['The amount of solute in one million parts of the entire solution.', 'The mass of solute in one million grams of the entire solution.', 'The volume of solute in one million milliliters of the entire solution.', 'The molarity of the solute in one million liters of the entire solution.']-----unt of solute in one million parts of the entire solution.\n",
      "['0.5 ppb', '0.25 ppb', '0.0005 ppb', '0.00025 ppb']-----\n",
      "['Mass percentage', 'Volume percentage', 'Parts-per-million (ppm)', 'Mass-volume percentage']-----er-million (ppm)\n",
      "['65 mL', '100 mL', '150 mL', '250 mL']-----\n",
      "['0.05%', '0.1%', '0.15%', '0.2%']-----\n",
      "['250 ppm', '100 ppm', '50 ppm', '25 ppm']-----\n",
      "['40 g', '50 g', '60 g', '70 g']-----\n",
      "['0.75 moles', '1 moles', '1.5 moles', '2 moles']-----1 mole\n",
      "['The maximum amount of product that can be obtained', 'The actual amount of product obtained in an experiment', 'The amount of excess reactant left after the reaction', 'The amount of product lost during the reaction']-----Correct  A. The maximum amount of product that can be obtained\n",
      "['The reactant that is completely consumed first', 'The reactant that is present in excess', 'The reactant that produces the most product', 'The reactant that is added last to the reaction']-----Correct  A. The reactant that is completely consumed first\n",
      "['The reactant that is completely consumed first', 'The reactant that produces the most product', 'The reactant that is added last to the reaction', 'The reactant that is present in excess after the limiting reactant is consumed']-----Correct  D. The reactant that is present in excess after the limiting reactant is consumed\n",
      "['By dividing the actual yield by the limiting reactant', 'By dividing the actual yield by the excess reactant', 'By dividing the actual yield by the theoretical yield and multiplying by 100', 'By dividing the theoretical yield by the actual yield and multiplying by 100']-----Correct  C. By dividing the actual yield by the theoretical yield and multiplying by 100\n",
      "['The efficiency of the reaction', 'The amount of product that can be formed', 'The amount of reactant that is consumed', 'The amount of byproduct produced']-----Correct  A. The efficiency of the reaction\n",
      "['By comparing the molar amounts of each reactant to the stoichiometric amounts in the balanced equation', 'By choosing the reactant with the highest molar mass', 'By adding the molar amounts of each reactant', 'By subtracting the molar amounts of each reactant']-----Correct  A. By comparing the molar amounts of each reactant to the stoichiometric amounts in the balanced equation\n",
      "['The amount of excess reactant', 'The amount of product obtained experimentally', 'The amount of limiting reactant', 'The amount of byproduct formed']-----Correct  C. The amount of limiting reactant\n",
      "['To determine the color of the product', 'To identify the limiting reactant', 'To predict and optimize reactions', 'To calculate the molar mass of the product']-----Correct  C. To predict and optimize reactions\n",
      "['Theoretical yield is always higher than the actual yield', 'Theoretical yield considers all possible products', 'Actual yield accounts for losses during the reaction', 'Actual yield is calculated based on the stoichiometry of the reaction']-----Correct  C. Actual yield accounts for losses during the reaction\n",
      "['The ratio of products to reactants', 'The efficiency of the reaction', 'The amount of excess reactant used', 'The number of moles of reactants present']-----Correct  B. The efficiency of the reaction\n",
      "['Thomas Young', 'James Clerk Maxwell', 'Isaac Newton', 'None of the above']-----Correct  C. Isaac Newton\n",
      "['Thomas Young', 'James Clerk Maxwell', 'Isaac Newton', 'None of the above']-----Correct  A. Thomas Young\n",
      "['Thomas Young', 'James Clerk Maxwell', 'Isaac Newton', 'None of the above']-----Correct  B. James Clerk Maxwell\n",
      "['Classical mechanics and quantum electromagnetism', 'Wave-particle duality', 'Classical mechanics and classical electromagnetism', 'None of the above']-----Correct  C. Classical mechanics and classical electromagnetism\n",
      "['Classical mechanics', 'Classical electromagnetism', 'Wave-particle duality', 'Quantum mechanics']-----Correct  C. Wave-particle duality\n",
      "['Mobile phones', 'X-rays', 'Microwave ovens', 'Mechanical engines']-----Correct  D. Mechanical engines\n",
      "['Shaking a rope', 'Lightning generating sound waves', 'Ripples in water', 'A solid rock']-----Correct  D. A solid rock\n",
      "['Potential energy', 'Thermal energy', 'Kinetic energy', 'Electrical energy']-----Correct  C. Kinetic energy\n",
      "['Light only behaves as particles', 'Light only behaves as waves', 'Light behaves both as particles and waves', 'Light behaves neither as particles nor waves']-----Correct  C. Light behaves both as particles and waves\n",
      "['Only as particles', 'Only as waves', 'Both as particles and waves', 'Neither as particles nor waves']-----Correct  C. Both as particles and waves\n",
      "['Continuous', 'Quantized', 'Negative', 'Undefined']-----Correct  B. Quantized\n",
      "['Moves to a lower energy level', 'Moves to a ground state', 'Moves to an excited state', 'Remains in the same energy level']-----Correct  C. Moves to an excited state\n",
      "['Wavelength', 'Speed', 'Frequency', 'Charge']-----Correct  C. Frequency\n",
      "['Atomic mass', 'Ionization energy', 'Binding energy', 'Energy difference between two orbitals']-----Correct  D. Energy difference between two orbitals\n",
      "['Excited state', 'Ground state', 'Orbital state', 'Radical state']-----Correct  B. Ground state\n",
      "['It remains in the same orbit', 'It moves to a different orbit', 'It is stationary', 'It reaches the highest energy level']-----Correct  B. It moves to a different orbit\n",
      "['E = -k/n', 'E = k/n', 'E = -k/n^2', 'E = k/n^2']-----Correct  C. E = -k/n^2\n",
      "['Classical mechanics', 'Quantum mechanics', 'Special relativity', 'Thermodynamics']-----Correct  B. Quantum mechanics\n",
      "['Helium', 'Nitrogen', 'Hydrogen', 'Carbon']-----Correct  C. Hydrogen\n",
      "['Gravitational forces', 'Electromagnetic forces', 'Nuclear forces', 'Quantization']-----Correct  D. Quantization\n",
      "['18', '20', '22', '24']-----\n",
      "['+1', '0', '-1', '-2']-----\n",
      "['1', '2', '3', '4']-----\n",
      "['0', '1', '2', '3']-----\n",
      "['The one with the lowest formal charges', 'The one with the highest formal charges', 'The one that follows the octet rule', 'The one that satisfies the overall charge of the molecule']----- with the highest formal charges\n",
      "['1', '2', '3', '4']-----\n",
      "['The sum of formal charges should be positive for a neutral molecule', 'Formal charges help determine the correct molecular formula', 'A formal charge of 0 means the atom is not participating in bonding', 'Formal charges are always integers']-----l charge of 0 means the atom is not participating in bonding\n",
      "['Ozone (O3)', 'Nitrate ion (NO3-)', 'Carbon dioxide (CO2)', 'Water (H2O)']-----H2O)\n",
      "['1', '2', '3', '4']-----\n",
      "['Determines the electronic geometry', 'Predicts the bond angles', 'Identifies the most stable Lewis structure', 'Determines the state of matter of the molecule']-----ies the most stable Lewis structure\n",
      "['sp', 'sp2', 'sp3', 'sp3d']-----**Correct  B. sp2**\n",
      "['Linear', 'Trigonal planar', 'Tetrahedral', 'Octahedral']-----**Correct  B. Trigonal planar**\n",
      "['1', '2', '3', '4']-----**Correct  B. 2**\n",
      "['sp', 'sp2', 'sp3', 'sp3d']-----**Correct  B. sp2**\n",
      "['Linear', 'Trigonal planar', 'Tetrahedral', 'Octahedral']-----**Correct  B. Trigonal planar**\n",
      "['Diamagnetic', 'Para-electric', 'Ferromagnetic', 'Paramagnetic']-----**Correct  D. Paramagnetic**\n",
      "['0', '1', '2', '3']-----**Correct  C. 2**\n",
      "['Hybridization', 'Electron-pair geometry', 'Molecular stabilities', 'Lewis structures']-----**Correct  C. Molecular stabilities**\n",
      "['Hybridization theory', 'Molecular orbital theory', 'VSEPR theory', 'Valence bond theory']-----**Correct  B. Molecular orbital theory**\n",
      "['Linear', 'Trigonal planar', 'Tetrahedral', 'Octahedral']-----**Correct  D. Octahedral**\n",
      "['They are constantly attracted to each other', 'They have kinetic energy', 'They have high densities', 'They have strong intermolecular forces']-----Correct answer: B. They have kinetic energy\n",
      "['The density of gas molecules', 'The volume of the container', 'Collisions between gas molecules and the walls of a container', 'Elastic collisions between gas molecules']-----Correct answer: C. Collisions between gas molecules and the walls of a container\n",
      "['Postulate 1', 'Postulate 2', 'Postulate 3', 'Postulate 4']-----Correct answer: A. Postulate 1\n",
      "['Postulate 1', 'Postulate 2', 'Postulate 3', 'Postulate 4']-----Correct answer: D. Postulate 4\n",
      "['They have no kinetic energy', 'Their collisions are inelastic', 'They are very small compared to the distances between them', 'Their collisions are elastic']-----Correct answer: D. Their collisions are elastic\n",
      "[\"Boyle's law\", \"Charles's law\", \"Amontons's law\", \"Dalton's law\"]-----Correct answer: C. Amontons's law\n",
      "['Postulate 1', 'Postulate 2', 'Postulate 3', 'Postulate 5']-----Correct answer: D. Postulate 5\n",
      "['Because of strong intermolecular forces', 'Because gas molecules are very large', 'Because gas molecules are small compared to the distances between them', 'Because of low kinetic energy of gas molecules']-----Correct answer: C. Because gas molecules are small compared to the distances between them\n",
      "[\"Boyle's law\", \"Charles's law\", \"Amontons's law\", \"Avogadro's law\"]-----Correct answer: A. Boyle's law\n",
      "['The container walls', 'Individual gas molecules', 'Intermolecular forces', 'The volume of the gas']-----Correct answer: B. Individual gas molecules\n",
      "['4.5 kJ', '45 kJ', '450 kJ', '4500 kJ']----- kJ\n",
      "['Chemical nature of the reacting substances', 'Physical state of the reactants', 'Temperature', 'Concentration of the reactants']-----ration of the reactants\n",
      "['Determines the identity of the reactants', 'Affects the energy of the reactant particles', 'Influences the chances of collisions at the interface between phases', 'Changes the activation energy of the reaction']-----ces the chances of collisions at the interface between phases\n",
      "['Increases the activation energy', 'Reduces the frequency of collisions', 'Lowers the energy of the reactant particles', 'Slows down the reaction rate']-----the energy of the reactant particles\n",
      "['Physical state of the reactants', 'Temperature', 'Concentration of the reactants', 'Presence of a catalyst']-----e of a catalyst\n",
      "['By increasing the concentration of the reactants', 'By changing the physical state of the reactants', 'By decreasing the activation energy of the reaction', 'By affecting the chemical nature of the reacting substances']-----easing the activation energy of the reaction\n",
      "['Physical state of the reactants', 'Temperature', 'Chemical nature of the reacting substances', 'Presence of a catalyst']-----l nature of the reacting substances\n",
      "['By changing the physical state of the reactants', 'By increasing the chances of collisions and successful reactions', 'By lowering the energy of the reactant particles', 'By decreasing the activation energy of the reaction']-----easing the chances of collisions and successful reactions\n",
      "['Physical state of the reactants', 'Temperature', 'Concentration of the reactants', 'Presence of a catalyst']-----ture\n",
      "['Determines the identity of the reactants', 'Affects the energy of the reactant particles', 'Determines the reaction rate', 'Influences the chances of collisions at the interface between phases']-----ces the chances of collisions at the interface between phases\n",
      "['They increase the energy of the reactant particles', 'They decrease the chances of collisions', 'They have a larger surface area for reactions to occur', 'They slow down the reaction rate']-----ve a larger surface area for reactions to occur.\n",
      "['1.61 x 10^-4 M', '3.39 x 10^-4 M', '5.22 x 10^-4 M', '7.44 x 10^-4 M']-----9 x 10^-4 M\n",
      "['It can accept more than one hydrogen ion', 'It forms a strong acid in solution', 'It has three ionizable hydrogen atoms', 'It reacts with a weak acid']-----It can accept more than one hydrogen ion.\n",
      "['1.0 x 10^-10', '1.0 x 10^-5', '1.0 x 10^-2', '1.0 x 10^5']----- x 10^-10\n",
      "['1.0 x 10^-12', '1.0 x 10^-8', '1.0 x 10^-6', '1.0 x 10^-4']----- x 10^-12\n",
      "['Oxygen gas', 'Sodium metal', 'Chlorine gas', 'Hydrogen gas']-----Oxygen gas and D. Hydrogen gas\n",
      "['Water', 'Chloride ions', 'Sodium metal', 'Oxygen gas']-----Water and B. Chloride ions\n",
      "['Cyanide', 'Ammonia', 'Chloride', 'Nitrate']-----Correct  D. Nitrate\n",
      "['[Cu(NH3)4(H2O)2]2+', '[Ag(CN)2]-', '[Fe(CN)6]3-', '[Co(en)3]3+']-----2]-\n",
      "['trans-diamminedichloroplatinum(II)', 'cis-diamminedichloroplatinum(II)', 'trans-diamminetetrachloroplatinum(II)', 'cis-diamminetetrachloroplatinum(II)']-----mminedichloroplatinum(II)\n",
      "['They have a higher coordination number', 'They have a square planar geometry', 'They interact differently with DNA', 'They are more stable in biological environments']-----Correct  C. They interact differently with DNA\n",
      "['VSEPR theory', 'Valence bond theory', 'Crystal field theory', 'Molecular orbital theory']-----Correct  C. Crystal field theory\n",
      "['Hybridization of orbitals', 'Electron delocalization', 'Electrostatic interactions between ligands and d orbitals', 'Sigma bond formation']-----Correct  C. Electrostatic interactions between ligands and d orbitals\n",
      "['They increase the thickness of the coatings', 'They prevent metal atoms from clumping together', 'They decrease the adhesion of the coatings', 'They change the color of the coatings']-----Correct  B. They prevent metal atoms from clumping together\n",
      "['They are all trans isomers', 'They are all unstable in biological environments', 'They all have the same mechanism of action', 'They are all approved by the FDA']-----Correct  D. They are all approved by the FDA\n",
      "['By focusing on molecular geometry', 'By describing bond strength', 'By considering electron-electron repulsions', 'By explaining magnetic properties and colors']-----Correct  D. By explaining magnetic properties and colors\n",
      "['To increase the coordination number of the metal ion', 'To stabilize the metal ion by forming bonds', 'To increase the reactivity of the metal complex', 'To decrease the solubility of the metal complex']-----Correct  B. To stabilize the metal ion by forming bonds\n",
      "['8.793 MeV/nucleon', '7.810 MeV/nucleon', '6.922 MeV/nucleon', '9.235 MeV/nucleon']-----10 MeV/nucleon\n",
      "['6.543 MeV/nucleon', '8.793 MeV/nucleon', '5.234 MeV/nucleon', '9.107 MeV/nucleon']-----93 MeV/nucleon\n",
      "['7.810 MeV/nucleon', '9.235 MeV/nucleon', '6.500 MeV/nucleon', '5.342 MeV/nucleon']-----10 MeV/nucleon\n",
      "['A. Density', 'B. Melting and boiling points', 'C. Color', 'D. Volume']-----Melting and boiling points\n",
      "['A. Decreases', 'B. Remains the same', 'C. Increases', 'D. Solidifies']-----Increases\n",
      "['A. Antoine Lavoisier', 'B. Joseph Priestley', 'C. J.A.C. Charles', 'D. Michael Faraday']-----J.A.C. Charles\n",
      "['A. It expands', 'B. It condenses into a liquid', 'C. It freezes into a solid', 'D. It evaporates']-----It condenses into a liquid\n",
      "['A. Decreases temperature', 'B. Has no effect on temperature', 'C. Increases temperature', 'D. Solidifies the gas']-----Increases temperature\n",
      "['A. It evaporates', 'B. It condenses', 'C. It solidifies', 'D. It expands']-----It solidifies\n",
      "['A. They move slower', 'B. They collide less frequently', 'C. They have less energy', 'D. They move faster and collide more frequently']-----They move faster and collide more frequently\n",
      "['A. Inverse relationship', 'B. Direct relationship', 'C. No relationship', 'D. Curvilinear relationship']-----Direct relationship\n",
      "['A. Kinetic energy', 'B. Potential energy', 'C. Thermal energy', 'D. Latent heat']-----Thermal energy\n",
      "['A. Increases collisions', 'B. Decreases collisions', 'C. No effect on collisions', 'D. Changes the direction of collisions']-----Increases collisions\n",
      "['Air', 'Brass', 'Iron(II) sulfide', 'Sea water']-----) sulfide\n",
      "['Through chemical reactions', 'By using filtration', 'Only by distillation', 'By undergoing a phase change']-----Correct  B. By using filtration\n",
      "['Compounds can be separated using physical means', 'Compounds have variable compositions', 'Compounds are formed through physical changes', 'Compounds have fixed compositions']-----Correct  D. Compounds have fixed compositions\n",
      "['Formation of iron(III) sulfide', 'Formation of iron sulfate', 'Formation of iron(II) sulfide', 'Formation of iron sulfide']-----on of iron(II) sulfide\n",
      "['Filtration', 'Distillation', 'Using a magnet', 'Chemical reaction']-----Correct  C. Using a magnet\n",
      "['Mixtures have undergone a chemical reaction', 'Mixtures have fixed compositions', 'Mixtures can only be separated through chemical reactions', 'Mixtures can be easily separated and retain individual properties']-----Correct  D. Mixtures can be easily separated and retain individual properties\n",
      "['Brass', 'Air', 'Iron filings', 'Iron(II) sulfide']-----) sulfide\n",
      "['Elements', 'A mixture', 'A new substance', 'A solution']-----Correct  C. A new substance\n",
      "['By using physical means', 'Through distillation', 'By undergoing a phase change', 'Only through chemical reactions']-----Correct  D. Only through chemical reactions\n",
      "['They remain the same', 'They are lost', 'They change to new properties', 'They become mixtures']-----Correct  C. They change to new properties\n",
      "['They contain equal numbers of neutrons and protons', 'They contain equal numbers of electrons and protons', 'They contain equal numbers of electrons and neutrons', 'None of the above']-----They contain equal numbers of electrons and protons.\n",
      "['6.002 x 10^23', '6.022 x 10^21', '6.022 x 10^22', '6.022 x 10^23']-----22 x 10^23\n",
      "['1.8066 x 10^24', '3.012 x 10^23', '6.022 x 10^23', '9.033 x 10^24']-----066 x 10^24\n",
      "['0.4 g', '0.8 g', '1.6 g', '3.2 g']----- g\n",
      "['Aluminium is a precious metal', 'Aluminium is a reactive metal', 'Aluminium is abundant in its ore', 'Aluminium is easily extracted using chemical reactions']-----Correct  B. Aluminium is a reactive metal\n",
      "['Improves the conductivity of the molten aluminium oxide', 'Reduces the working temperature of the electrolysis cell', 'Acts as an electrolyte', 'All of the above']-----Correct  D. All of the above\n",
      "['Attract negative oxide ions', 'Attract positive aluminium ions', 'Provide electrons to the cathode', 'None of the above']-----Correct  A. Attract negative oxide ions\n",
      "['To reduce energy consumption', 'To make the process economic', 'To minimize environmental impact', 'To increase the purity of the extracted aluminium']-----Correct  B. To make the process economic\n",
      "['They attract unwanted ions', 'They are easily corroded by the cryolite', 'They react with the liberated oxygen to produce carbon dioxide', 'They reduce the conductivity of the electrolyte']-----Correct  C. They react with the liberated oxygen to produce carbon dioxide\n",
      "['Aluminium', 'Copper', 'Iron', 'Silver']-----Correct  A. Aluminium\n",
      "['Aluminium oxide', 'Cryolite', 'Graphite', 'Oxygen']-----Correct  B. Cryolite\n",
      "['Move towards the anode and gain electrons', 'Move towards the cathode and lose electrons', 'Remain stationary', 'Join with the negatively charged oxide ions']-----Correct  B. Move towards the cathode and lose electrons\n",
      "['Gold', 'Silver', 'Copper', 'Aluminium']-----Correct  D. Aluminium\n",
      "['Catalase converting hydrogen peroxide into water and carbon dioxide', 'Lipase converting lipids into amino acids', 'Amylase converting proteins into simple sugars', 'Protease converting carbohydrates into fatty acids']-----Catalase converting hydrogen peroxide into water and oxygen\n",
      "['Increasing atomic number', 'Decreasing atomic weight', 'Increasing atomic weight', 'Decreasing atomic number']-----Correct  C. Increasing atomic weight\n",
      "['Families', 'Groups', 'Periods', 'Blocks']-----Correct  B. Groups\n",
      "['Eka-silicon', 'Proto-germanium', 'Beta-carbon', 'Gamma-helium']-----Correct  A. Eka-silicon\n",
      "['Increasing atomic number', 'Decreasing atomic weight', 'Increasing atomic weight', 'Decreasing atomic number']-----Correct  C. Increasing atomic weight\n",
      "['Increasing atomic weight', 'Decreasing atomic weight', 'Increasing atomic number', 'Decreasing atomic number']-----Correct  C. Increasing atomic number\n",
      "['Similar atomic weight', 'Similar atomic number', 'Similar chemical behavior', 'Similar physical properties']-----Correct  C. Similar chemical behavior\n",
      "['By their atomic weight', 'By their atomic mass', 'By their atomic number', 'By their atomic structure']-----Correct  C. By their atomic number\n",
      "['Families', 'Groups', 'Periods', 'Blocks']-----Correct  C. Periods\n",
      "['Lithium', 'Silicon', 'Germanium', 'Francium']-----Correct  C. Germanium\n",
      "['It categorizes elements by their color', 'It allows predictions of element properties and reactions', 'It organizes elements alphabetically', 'It is a historical document']-----Correct  B. It allows predictions of element properties and reactions\n",
      "['Ammonium nitrate', 'Nitric acid', 'Aluminum sulfate', 'Potassium chloride']-----m sulfate\n",
      "['Remove chlorine gas', 'Adjust acidity', 'Add fluoride', 'Allow small particles to settle']-----mall particles to settle\n",
      "['Carbon slurry filtration', 'Haber process', 'Lime slurry adjustment', 'Sodium hydroxide addition']-----rocess\n",
      "['Oxygen, carbon, hydrogen', 'Nitrogen, phosphorus, potassium', 'Sodium, magnesium, calcium', 'Iron, zinc, copper']-----n, phosphorus, potassium\n",
      "['Remove bacteria', 'Adjust acidity', 'Remove unwanted tastes and odors', 'Remove larger particles']-----unwanted tastes and odors\n",
      "['Adjust acidity', 'Remove bacteria', 'Remove unwanted tastes and odors', 'Allow small particles to settle']-----bacteria\n",
      "['Remove bacteria', 'Adjust acidity', 'Remove unwanted tastes and odors', 'Remove larger particles']-----acidity\n",
      "['Decreased crop yield', 'Soil enhancement', 'Nutrient runoff into water sources', 'Improved plant growth']-----t runoff into water sources\n",
      "['Toxins', 'Nutrients', 'Microbes', 'Large particles']-----ts\n",
      "['Disease resistance in plants', 'Weed growth', 'Healthy plant growth', 'Soil degradation']----- plant growth\n",
      "['1.505 x 10^24 atoms', '3.011 x 10^24 atoms', '6.022 x 10^23 atoms', '1.205 x 10^24 atoms']-----05 x 10^24 atoms\n",
      "['1.2 dm3', '2.4 dm3', '0.6 dm3', '3.6 dm3']----- dm3\n",
      "['To make the objects heavier', 'To make the objects magnetic', 'To produce useful products', 'To create a shiny surface']-----To produce useful products.\n",
      "['0.25 V', '1 V', '10 V', '100 V']-----5 V\n",
      "['Carbon dioxide', 'Water', 'Nitrogen', 'Methane']-----Correct  B. Water\n",
      "['It is stored as a liquid at room temperature and pressure', 'It is easy to store in a car', 'It is stored in a solid form', 'It is a gas at room temperature and pressure']-----Correct  D. It is a gas at room temperature and pressure\n",
      "['To increase corrosion', 'To reduce appearance', 'To reduce protection', 'To provide a protective coating and improve appearance']-----Correct  D. To provide a protective coating and improve appearance\n",
      "['Anode', 'Cathode', 'Electrolyte', 'Cell']-----Correct  B. Cathode\n",
      "['Polyethylene', 'PVC', 'Poly(pyrrole)', 'PET']-----rrole)\n",
      "['Water', 'Oil', 'Air', 'Solution of a metal salt']-----Correct  D. Solution of a metal salt\n",
      "['Fuel cells', 'Batteries', 'Solar panels', 'Wind turbines']-----Correct  A. Fuel cells\n",
      "['To make them brittle', 'To make them transparent', 'To provide resistance to corrosion and improved appearance', 'To make them conductive']-----Correct  C. To provide resistance to corrosion and improved appearance\n",
      "['Reduction of oxygen', 'Reduction of nitrogen', 'Reduction of hydrogen ions', 'Reduction of silver ions to silver atoms']-----Correct  D. Reduction of silver ions to silver atoms\n",
      "['Fuel cells are more economical', 'Fuel cells are easier to store', 'Fuel cells are less efficient', 'Fuel cells require specific refueling stations']-----Correct  D. Fuel cells require specific refueling stations\n",
      "['Safe to store and transport', 'Causes no pollution', 'Releases greenhouse gases in small amounts', 'Cheap and available in large quantities']-----Correct  C. Releases greenhouse gases in small amounts\n",
      "['Exothermic', 'Endothermic', 'Neutral', 'Reversible']-----Correct  A. Exothermic\n",
      "['Carbon dioxide', 'Water', 'Carbon monoxide', 'Oxygen']-----Correct  C. Carbon monoxide\n",
      "['Nuclear', 'Solar', 'Coal', 'Wind']-----Correct  C. Coal\n",
      "['Energy is released to the surroundings', 'A decrease in temperature', 'Breaking of chemical bonds', 'Absorption of thermal energy']-----Correct  D. Absorption of thermal energy\n",
      "['Absorbing heat from the surroundings', 'Releasing thermal energy', 'Breaking or forming chemical bonds', 'Initiating the reaction']-----Correct  C. Breaking or forming chemical bonds\n",
      "['Exothermic', 'Endothermic', 'Neutral', 'Spontaneous']-----Correct  B. Endothermic\n",
      "['Fossil fuels cause pollution', 'Fossil fuels are renewable resources', 'Fossil fuels are cheap and widely available', 'Fossil fuels are being used up faster than they are being replaced']-----Correct  D. Fossil fuels are being used up faster than they are being replaced\n",
      "['Coal', 'Natural Gas', 'Biomass', 'Petroleum']-----Correct  C. Biomass\n",
      "['Exothermic', 'Endothermic', 'Reversible', 'Neutral']-----Correct  B. Endothermic\n",
      "['H⁺ ions and OH⁺ ions', 'Na⁺ ions and Cl⁻ ions', 'H⁺ ions and Na⁺ ions', 'OH⁻ ions and Cl⁻ ions']-----H⁺ ions and OH⁻ ions\n",
      "['Sodium sulfate', 'Sodium carbonate', 'Sodium chloride', 'Sodium nitrate']-----sulfate\n",
      "['Hydroxide ions', 'Hydrogen ions', 'Oxide ions', 'Nitrate ions']-----de ions\n",
      "['Acids only', 'Bases only', 'Both acids and alkalis', 'Salts']-----ids and alkalis\n",
      "['Reacting an acid with excess metal', 'Reacting an acid with excess insoluble carbonate', 'Reacting an acid with excess insoluble base', 'Reacting an alkali with an acid by titration']-----g an acid with excess insoluble base\n",
      "['Magnesium carbonate', 'Magnesium chloride', 'Magnesium sulfate', 'Magnesium nitrate']-----um chloride\n",
      "['Hydroxide ions', 'Hydrogen ions', 'Oxide ions', 'Nitrate ions']-----n ions\n",
      "['Reacting an acid with excess metal', 'Reacting an acid with excess insoluble carbonate', 'Reacting an acid with excess insoluble base', 'Reacting an alkali with an acid by titration']-----g an acid with excess metal\n",
      "['Salt, water, and carbon dioxide', 'Salt and water', 'Salt and carbon dioxide', 'Only a salt']-----ater, and carbon dioxide\n",
      "['Magnesium nitrate', 'Magnesium chloride', 'Magnesium sulfate', 'Magnesium carbonate']-----um nitrate\n",
      "['Reacting an acid with excess metal', 'Reacting an acid with excess insoluble carbonate', 'Reacting an acid with excess insoluble base', 'Reacting an alkali with an acid by titration']-----g an alkali with an acid by titration\n",
      "['A. Acetic acid', 'B. Hydrochloric acid', 'C. Citric acid', 'D. Carbonic acid']-----Hydrochloric acid\n",
      "['A. Magnesium oxide', 'B. Magnesium sulfate', 'C. Magnesium chloride', 'D. Magnesium hydroxide']-----Magnesium sulfate\n",
      "['A. Sodium chloride', 'B. Potassium sulfate', 'C. Lead iodide', 'D. Calcium carbonate']-----Lead iodide\n",
      "['A. Add hydrochloric acid and look for effervescence', 'B. Add silver nitrate solution and look for a white precipitate', 'C. Add barium chloride solution and look for a white precipitate', 'D. Add sodium hydroxide solution and look for a colored precipitate']-----Add hydrochloric acid and look for effervescence\n",
      "['A. To increase solubility in water', 'B. To stabilize the crystal structure', 'C. To provide a source of hydrogen bonding', 'D. To decrease the boiling point of the salt']-----To stabilize the crystal structure\n",
      "['A. Wear gloves', 'B. Keep the windows closed', 'C. Use an open flame', 'D. Handle chemicals without protective gear']-----Wear gloves\n",
      "['A. 14.5%', 'B. 25%', 'C. 48%', 'D. 52%']-----48%\n",
      "['A. Calcium carbonate and lead nitrate', 'B. Lead nitrate and sodium carbonate', 'C. Potassium chloride and lead acetate', 'D. Sodium chloride and lead sulfate']-----Lead nitrate and sodium carbonate\n",
      "['A. 2Na+ + CO32- → Na2CO3', 'B. Pb2+ + CO32- → PbCO3', 'C. 2Na+ + Pb2+ → 2NaPb', 'D. 2NO3- + CO32- → 2NO3CO3']-----Pb2+ + CO32- → PbCO3\n",
      "['A. Add dilute nitric acid and look for a white precipitate', 'B. Add barium chloride solution and look for a white precipitate', 'C. Add silver nitrate solution and look for a colored precipitate', 'D. Add potassium iodide solution and look for a yellow precipitate']-----Add barium chloride solution and look for a white precipitate\n",
      "['They reduce hardness of metals', 'They decrease resistance to corrosion', 'They allow for materials with improved properties', 'They enhance malleability of metals']-----They allow for materials with improved properties.\n",
      "['Effervescence', 'Evaporation', 'Precipitation', 'Sublimation']-----scence\n",
      "['Oxygen', 'Hydrogen', 'Carbon dioxide', 'Chlorine']-----n\n",
      "['Sodium chloride', 'Sodium carbonate', 'Sodium hydroxide', 'Sodium nitrate']-----carbonate\n",
      "['Nitrogen', 'Oxygen', 'Hydrogen', 'Carbon dioxide']-----n\n",
      "['Keep it still', 'Shake it gently', 'Heat it', 'Shake it vigorously']-----t vigorously\n",
      "['Hydrogen', 'Oxygen', 'Nitrogen', 'Carbon dioxide']-----dioxide\n",
      "['Ionic bond', 'Covalent bond', 'Hydrogen bond', 'Amide bond']-----ond\n",
      "['Through a condensation reaction', 'By mixing with water', 'By freezing the polymer', 'By evaporating the solvent']----- a condensation reaction\n",
      "['1,6-diaminohexane and hexanedioic acid', 'Ethanol and water', 'Sodium carbonate and ethanoic acid', 'Hydrochloric acid and magnesium ribbon']-----minohexane and hexanedioic acid\n",
      "['Filtration', 'Distillation', 'Polymerization', 'Cooling and stretching']----- and stretching\n",
      "['Alcohol and alkene', 'Amine and carboxylic acid', 'Aldehyde and ketone', 'Ether and ester']-----Correct  B. Amine and carboxylic acid\n",
      "['5', '10', '15', '20']-----Correct  D. 20\n",
      "['Lysine and phenylalanine', 'Glycine and alanine', 'Serine and threonine', 'Asparagine and glutamine']-----Correct  B. Glycine and alanine\n",
      "['50', '75', '100', '125']-----Correct  C. 100\n",
      "['X', 'R', 'Y', 'Z']-----Correct  B. R\n",
      "['Glucagon', 'Insulin', 'Estrogen', 'Testosterone']-----Correct  B. Insulin\n",
      "['Hydrolysis', 'Dehydration synthesis', 'Enzymatic degradation', 'Oxidation']-----Correct  B. Dehydration synthesis\n",
      "['5%', '10%', '15%', '20%']-----Correct  C. 15%\n",
      "['Nitrogen', 'Oxygen', 'Carbon', 'Hydrogen']-----Correct  A. Nitrogen\n",
      "['One', 'Three', 'Five', 'Two']-----Correct  D. Two\n",
      "['Protons', 'Electrons', 'Neutrons', 'Positrons']-----Correct  C. Neutrons\n",
      "['Atomic number', 'Mass number', 'Number of neutrons', 'Number of electrons']-----Correct  A. Atomic number\n",
      "['Average of the number of protons', 'Weight of one mole of atoms', 'Total number of electrons', 'Total number of protons']-----Correct  B. Weight of one mole of atoms\n",
      "['In grams', 'In atomic mass units', 'In moles', 'In milliliters']-----Correct  B. In atomic mass units\n",
      "['Bohr model', 'Dalton model', 'Quantum mechanical model', 'Rutherford model']-----Correct  C. Quantum mechanical model\n",
      "['The path an electron follows around the nucleus', 'A region where an electron is exactly located', 'The exact location of an electron', 'The region where an electron is most likely to be found']-----Correct  D. The region where an electron is most likely to be found\n",
      "['The mass of one electron', 'The mass of one proton', 'One-twelfth the mass of a carbon-12 atom', 'The mass of one neutron']-----Correct  C. One-twelfth the mass of a carbon-12 atom\n",
      "['Isomers', 'Molecules', 'Isotopes', 'Compounds']-----Correct  C. Isotopes\n",
      "['Electrons', 'Protons', 'Neutrons', 'Overall particles']-----Correct  B. Protons\n",
      "['The exact location of an electron', 'The path an electron follows around the nucleus', 'Where an electron spends 50% of its time', 'Where an electron spends 90% to 95% of its time']-----Correct  D. Where an electron spends 90% to 95% of its time\n",
      "['Both electrons spinning in the same direction', 'Both electrons spinning in opposite directions', 'Only one electron can be in an orbital', 'Three electrons can be in an orbital']-----Both electrons spinning in opposite directions.\n",
      "['Ionic bond', 'Van der Waals bond', 'Covalent bond', 'Hydrogen bond']-----Covalent bond.\n",
      "['A bond where electrons are equally shared between atoms', 'A bond where there is an unequal sharing of electrons between atoms', 'A bond where one atom completely strips electrons from another', 'A bond where electrons are shared in a nonpolar manner']-----Correct answer: B. A bond where there is an unequal sharing of electrons between atoms\n",
      "['Coulombs', 'Amps', 'Joules', 'Debyes']-----Correct answer: D. Debyes\n",
      "['Because polar substances vaporize easily', 'Because like dissolves like', 'Because polar substances have a high melting point', 'Because polar substances have a very low dipole moment']-----Correct answer: B. Because like dissolves like\n",
      "['The number of lone pairs in the molecule', 'The sum of all the polar bonds and lone-pair contributions', 'The molecular weight of the molecule', 'The total number of atoms in the molecule']-----Correct answer: B. The sum of all the polar bonds and lone-pair contributions\n",
      "['They influence solubility and reactivity', 'They primarily determine color of the molecules', 'They affect the density of the molecules', 'They have no influence on the properties of molecules']-----Correct answer: A. They influence solubility and reactivity\n",
      "['Toward the less electronegative atom', 'Towards the lone pairs in the molecule', 'Toward the more electronegative atom', 'In the direction of decreasing molecular weight']-----Correct answer: C. Toward the more electronegative atom\n",
      "['It increases the dipole moment', 'It decreases the dipole moment', 'It results in a zero dipole moment', 'It makes the dipole moment unpredictable']-----Correct answer: C. It results in a zero dipole moment\n",
      "['The number of atoms in the molecule', 'The overall charge of the molecule', 'The electronegativity of the atoms in the molecule', 'The molecular weight of the molecule']-----Correct answer: C. The electronegativity of the atoms in the molecule\n",
      "['Resonance forms represent different molecules altogether.', 'The position and hybridization of atoms change in resonance forms.', 'The only difference between resonance forms is the position of atoms.', 'Curved arrows in resonance forms represent the movement of atoms.']-----The only difference between resonance forms is the position of pi electrons or nonbonding electrons.\n",
      "['Molecules that have the same physical properties and rotate plane-polarized light in opposite directions', 'Molecules that have different physical properties and do not rotate plane-polarized light', 'Molecules that have identical atomic arrangements and properties', 'Molecules that have different atomic arrangements but similar properties']-----A\n",
      "['Identical physical properties', 'Different ways of rotating plane-polarized light', 'Asymmetric arrangement of atoms', 'Ability to be superimposed on each other']-----C\n",
      "['Dextrorotatory', 'S configuration', 'R configuration', 'Levorotatory']-----C\n",
      "['Based on their location in the molecule', 'Alphabetically', 'Based on their atomic number', 'By their molecular weight']-----C\n",
      "['They can be perfectly superimposed', 'They can be superimposed with slight adjustments', 'They cannot be superimposed', 'They have mirror-image symmetry']-----C\n",
      "['R configuration', 'Dextrorotatory', 'Levorotatory', 'S configuration']-----D\n",
      "['The type of bonds in a molecule', 'The arrangement of groups around a chirality center', 'The direction in which light is rotated', 'The configuration of a molecule']-----B\n",
      "['They have the same physical properties', 'They have a mirror-image relationship', 'They can rotate plane-polarized light in the same direction', 'They have an asymmetric arrangement of atoms']-----C\n",
      "['As having higher atomic numbers than single-bonded atoms', 'As having equivalent status to single-bonded atoms', 'By counting each bond separately', 'By ignoring their presence in the ranking']-----B\n",
      "['Cahn-Ingold-Prelog rules', 'Octet rule', 'Stoichiometry rule', \"Avogadro's rule\"]-----A\n",
      "['Diastereomers', 'Enantiomers', 'Meso compound', 'An achiral compound']-----Not provided\n",
      "['Meso compound', 'Enantiomers', 'Diastereomers', 'Achiral compound']-----Not provided\n",
      "['Enantiomers', 'Diastereomers', 'Meso compound', 'Racemic mixture']-----Not provided\n",
      "['A compound that exists in two non-superimposable mirror image forms', 'A compound that can be converted from an achiral form to a chiral form in a single chemical step', 'A compound with tetrahedral, sp3-hybridized atoms', 'A compound that interacts differently with chiral molecules such as enzymes']-----B\n",
      "['Chirality involves two non-superimposable mirror image forms, while prochirality involves conversion from achiral to chiral in a single step.', 'Chirality refers to the interaction with enzymes, while prochirality involves tetrahedral atoms.', 'Chirality is specific to nitrogen compounds, while prochirality occurs in phosphorus and sulfur compounds.', 'Chirality is observed in stable chiral phosphines, while prochirality is related to sulfonium salts.']-----A\n",
      "['R and S', 'Re and Si', 'Clockwise and counterclockwise', 'Chiral and achiral']-----B\n",
      "['Si hydrogen', 'Pro-R hydrogen', 'Pro-S hydrogen', 'Re hydrogen']-----B\n",
      "['Pro-S', 'Pro-R', 'Si', 'Re']-----B\n",
      "['Chiral phosphines', 'Chiral sulfur compounds', 'Chiral nitrogen compounds', 'Chiral phosphorus compounds']-----C\n",
      "['The attached groups', 'The rate of inversion', 'The physical properties', 'The chemical properties']-----A\n",
      "['Clockwise face', 'Counterclockwise face', 'R face', 'S face']-----B\n",
      "['Citric acid cycle', 'Glycolysis', 'Electron transport chain', 'Krebs cycle']-----A\n",
      "['Nitrogen atoms', 'Oxygen atoms', 'Tetrahedral, sp3-hybridized atoms', 'Alkene atoms']-----C\n",
      "['The measure of heat released or absorbed during a reaction', 'A measure of the randomness or disorder in a system', 'The overall favorability of a reaction', 'The amount of energy needed to break a specific bond']-----Correct  B. A measure of the randomness or disorder in a system\n",
      "['The reaction is exergonic', 'The product has less randomness than the reactants', 'The reaction is energetically unfavorable', 'The reaction has an increased level of randomness']-----Correct  D. The reaction has an increased level of randomness\n",
      "['Bond dissociation energies', 'The randomness or disorder in a system', 'The heat released or absorbed during a reaction', 'The overall favorability of a reaction']-----Correct  C. The heat released or absorbed during a reaction\n",
      "['Positive ΔG° indicates a spontaneous reaction', 'It is a measure of heat released or absorbed during a reaction', 'Negative ΔG° means the reaction is endergonic', 'It is a combination of enthalpy and entropy']-----Correct  D. It is a combination of enthalpy and entropy\n",
      "['The reaction is more energetically favored', 'The reaction is endergonic', 'The reaction is not spontaneous', 'The reaction is exergonic']-----Correct  A. The reaction is more energetically favored\n",
      "['The equilibrium constant of a reaction', 'The amount of energy needed to break a specific bond', 'The heat released during bond formation', 'The overall favorability of a reaction']-----Correct  B. The amount of energy needed to break a specific bond\n",
      "['The favorability of a reaction', 'The rate of reaction', 'The stability of molecules', 'The energy changes in a reaction']-----Correct  B. The rate of reaction\n",
      "['The reaction is exergonic', 'The reaction is endergonic', 'The reaction is energetically favored', 'The reaction is spontaneous']-----Correct  C. The reaction is energetically favored\n",
      "['Positive', 'Negative', 'Zero', 'Indeterminate']-----Correct  B. Negative\n",
      "['Positive', 'Negative', 'Zero', 'Indeterminate']-----Correct  A. Positive\n",
      "['Methane', 'Water', 'Cyclohexane', '1-methylcyclohexene']-----lcyclohexene\n",
      "['Hydroxyl group (OH)', 'Acyl group', 'Carbonyl group', 'Halogen atom']-----l group (OH)\n",
      "['Temperature', 'Catalyst used', 'Stereochemistry', 'Nature of the leaving group']-----hemistry\n",
      "['Substitution', 'Elimination', 'Addition', 'Polymerization']-----n\n",
      "['Methanol', 'Ethylene dichloride', 'Acetic acid', 'Butyl acetate']-----e dichloride\n",
      "['Electrophilic addition', 'Bromonium ion', 'Anti addition', 'Shielding effect']-----um ion\n",
      "['Cis', 'Trans', 'Geometric', 'Optical']-----\n",
      "['Catalyst', 'Leaving group', 'Electrophile', 'Nucleophile']----- group\n",
      "['Acetone coenzyme A', 'Acyl carrier protein', 'Alpha-carbonyl phosphate', 'Aminoacyl-tRNA synthetase']-----rrier protein\n",
      "['Fluorine', 'Chlorine', 'Iodine', 'Astatine']-----e\n",
      "['Addition', 'Substitution', 'Elimination', 'Oxidation']-----Correct  B. Substitution\n",
      "['They are positively charged.', 'They are not nucleophilic.', 'They are formed by adding a proton to an alkyne.', 'They have an unshared electron pair on the carbon atom.']-----Correct  D. They have an unshared electron pair on the carbon atom.\n",
      "['NaCl', 'LiOH', 'NaNH2', 'KOH']-----Correct  C. NaNH2\n",
      "['They are too reactive.', 'Acetylide ions undergo addition reactions with them.', 'Acetylide ions tend to undergo elimination reactions.', 'They do not contain halogen atoms.']-----Correct  C. Acetylide ions tend to undergo elimination reactions.\n",
      "['Catalyst', 'Electrophile', 'Nucleophile', 'Solvent']-----Correct  C. Nucleophile\n",
      "['Alkane', 'Alkene', 'Alkyne with an alkyl group attached', 'Ether']-----Correct  C. Alkyne with an alkyl group attached\n",
      "['Formation of the acetylide anion', 'Reaction with a strong acid', 'Reaction with an alkyl halide', 'Depronatation with NaNH2']-----Correct  B. Reaction with a strong acid\n",
      "['Primary only', 'Secondary only', 'Tertiary only', 'Primary and secondary']-----Correct  A. Primary only\n",
      "['Formation of a new triple bond', 'Formation of a new double bond', 'Elimination reactions', 'Addition reactions']-----Correct  C. Elimination reactions\n",
      "['Alkenes', 'Alkanes', 'Alkynes', 'Aromatics']-----Correct  C. Alkynes\n",
      "['Chloromethane', 'CH3I', 'Sucralose', 'Methyl iodide']-----A\n",
      "['Identifying the halogen first', 'Naming the longest carbon chain as the parent', 'Numbering the halogens first', 'Starting the numbering from the end farthest from the first substituent']-----B\n",
      "['C-I bond', 'C-F bond', 'C-Cl bond', 'C-Br bond']-----D\n",
      "['Makes the halogen atom more positive', 'Increases the bond strength', 'Creates a dipole moment', 'Makes the carbon atom more negative']-----C\n",
      "['They only contain alkynyl groups', 'They do not contain any aromatic rings', 'They can be bonded to alkyl groups', 'They are never found in nature']-----C\n",
      "['Increases', 'Decreases', 'Remains constant', 'Varies randomly']-----A\n",
      "['The halogen atom gains electrons', 'The carbon atom gains electrons', 'The C-X bond has a dipole moment', 'The halogen atom becomes positively charged']-----C\n",
      "['Chloromethane', 'Sucralose', 'CH3I', 'Methyl iodide']-----B\n",
      "['By naming the halogen first', 'By listing the halogens in alphabetical order', 'By using Greek letters to identify the alkyl group', 'By naming the alkyl group and then the halogen']-----D\n",
      "['C-Cl bond', 'C-I bond', 'C-F bond', 'C-Br bond']-----B\n",
      "['Lowering the energy of the transition state', 'Lowering the energy of the reactant', 'Raising the energy of the transition state', 'Raising the energy of the reactant']-----A\n",
      "['1° > 2° > 3° > methyl', '2° > 3° > 1° > methyl', '3° > 2° > 1° > methyl', 'methyl > 1° > 2° > 3°']-----C\n",
      "['Aliphatic carbocation', 'Benzylic carbocation', 'Allylic carbocation', 'Methyl carbocation']-----B\n",
      "['Secondary alcohols', 'Tertiary alcohols', 'Primary alcohols', 'Quaternary alcohols']-----B\n",
      "['The conjugate base of a weak acid', 'The conjugate base of a strong acid', 'A neutral molecule', 'An anion']-----B\n",
      "['They are less stable than secondary alkyl carbocations', 'They are as stable as tertiary alkyl carbocations', 'They are more reactive in SN2 reactions', 'They are not formed in SN1 reactions']-----B\n",
      "['Nucleophile', 'Leaving group', 'Solvent', 'Transition state']-----B\n",
      "['Raising the energy of the reactant', 'Lowering the energy of the transition state', 'Using a weaker leaving group', 'Increasing the concentration of the substrate']-----A\n",
      "['Transition state', 'Carbocation intermediate', 'Leaving group', 'Nucleophile']-----B\n",
      "['Tertiary', 'Secondary', 'Methyl', 'Quaternary']-----C\n",
      "['Tertiary substrate', 'Protic solvent', 'Good leaving group', 'Polar aprotic solvent']-----Correct  D. Polar aprotic solvent\n",
      "['Tertiary', 'Benzylic', 'Primary', 'Allylic']-----Correct  C. Primary\n",
      "['Halide ion', 'Good nucleophile', 'Weak base', 'Divalent metal cation']-----Correct  A. Halide ion\n",
      "['Nonbasic nucleophile', 'Tertiary substrate', 'Protic solvent', 'Strong nucleophile']-----Correct  D. Strong nucleophile\n",
      "['Divalent metal cation', 'Diphosphate ion', 'Halide ion', 'Allylic carbocation']-----Correct  B. Diphosphate ion\n",
      "['SN1', 'SN2', 'Substitution', 'Elimination']-----Correct  A. SN1\n",
      "['S-adenosylmethionine', 'SAM', 'Allylic carbocation', 'Isopentenyl diphosphate']-----Correct  A. S-adenosylmethionine\n",
      "['Divalent metal cation', 'S-adenosylhomocysteine', 'Halide ion', 'Allylic carbocation']-----Correct  B. S-adenosylhomocysteine\n",
      "['Nonbasic', 'Weak nucleophile', 'Protic solvent', 'Basic']-----Correct  A. Nonbasic\n",
      "['Weak nucleophile', 'Polar aprotic solvent', 'Primary substrate', 'Good leaving group']-----Correct  D. Good leaving group\n",
      "['Concentration of the sample', 'Parts per million relative to spectrometer frequency', 'Molecular weight of the compound', 'Temperature of the NMR spectrometer']-----Parts per million relative to the spectrometer frequency\n",
      "['The chemical shift of the protons', 'The number of protons causing each peak', 'The multiplet pattern of the peaks', 'The coupling constant between protons']-----Correct  B. The number of protons causing each peak\n",
      "['There are four types of protons in the compound', 'There are different chemical shifts for the protons', 'There are three times as many protons causing one peak compared to the other peak', 'There is no coupling between the protons']-----Correct  C. There are three times as many protons causing one peak compared to the other peak\n",
      "['Different chemical shifts of the protons', 'Interaction of the spins of nearby nuclei', 'Peak integration of the protons', 'Changing the magnetic field strength']-----Correct  B. Interaction of the spins of nearby nuclei\n",
      "['Due to peak integration', 'Due to the chemical shift effect', 'Due to spin-spin splitting', 'Due to decoupling of protons']-----Correct  C. Due to spin-spin splitting\n",
      "['It provides information about chemical shifts', 'It shows the coupling between protons', 'It determines the number of protons causing each peak', 'It reveals the presence of neighboring protons']-----Correct  C. It determines the number of protons causing each peak\n",
      "['Different chemical shifts of the protons', 'Coupling and interaction with nearby nuclei', 'Integration of peak areas', 'Variation in the magnetic field strength']-----Correct  B. Coupling and interaction with nearby nuclei\n",
      "['Different chemical shifts of the protons', 'Variation in the pulse sequence', 'Coupling between the spins of neighboring protons', 'Increased relaxation time of the protons']-----Correct  C. Coupling between the spins of neighboring protons\n",
      "['The chemical shift of the protons', 'The number of neighboring protons', 'The relative number of protons causing that peak', 'The splitting pattern of the protons']-----Correct  C. The relative number of protons causing that peak\n",
      "['It determines the chemical formula of the compound', 'It provides information about the number of protons causing each peak', 'It reveals the exact position of the protons in the molecule', 'It shows the coupling constants between protons']-----Correct  B. It provides information about the number of protons causing each peak\n",
      "['It causes broadening of the peaks', 'It results in the appearance of multiple peaks, known as multiplets', 'It reduces the signal-to-noise ratio', 'It changes the chemical shift values of the peaks']-----Correct  B. It results in the appearance of multiple peaks, known as multiplets\n",
      "['Peaks at 29.5, 31.8, 50.2, 125.5, 127.5, 130.3, and 139.8 δ', 'Peaks at 125.5, 127.5, and 130.3 δ', 'Positive peaks at 29.5, 125.5, 127.5, and 130.3 δ', 'A negative peak at 50.2 δ']-----Correct  C\n",
      "['DEPT-90', 'Broadband decoupled', 'DEPT-135', 'IR']-----Correct  A\n",
      "['By analyzing the proton resonances', 'By comparing the mass spectra', 'By analyzing the carbon resonances', 'By using IR spectroscopy']-----Correct  C\n",
      "['Number of protons attached', 'Number of nonequivalent carbon atoms', 'Electronic environment', 'All of the above']-----Correct  D\n",
      "['IR spectroscopy', 'Mass spectrometry', 'UV-vis spectroscopy', '1H NMR spectroscopy']-----Correct  C\n",
      "['Steric hindrance', 'The amount of HBr added', 'Br atom bonding to the less substituted carbon', 'Br atom bonding to the more substituted carbon']-----Correct  D\n",
      "['Peaks at 29.5, 31.8, 50.2, 125.5, 127.5, 130.3, and 139.8 δ', 'Peaks at 125.5, 127.5, and 130.3 δ', 'Positive peaks at 29.5, 125.5, 127.5, and 130.3 δ', 'A negative peak at 50.2 δ']-----Correct  B\n",
      "['Anti-Markovnikov addition product', 'Markovnikov addition product', 'Radical product', 'No product is formed']-----Correct  B\n",
      "['Number of protons attached to each carbon', 'Number of nonequivalent carbon atoms', 'Chemical shifts (δ) for each peak', 'Electronic environment of each carbon']-----Correct  C\n",
      "['It provides information about the mass of the compound', 'It can identify the type of functional group present', 'It reveals the number of nonequivalent carbon atoms', 'It shows the energy levels of electrons in the molecule']-----Correct  C\n",
      "['It is mainly applicable to non-conjugated compounds', 'It is only applicable to inorganic molecules', 'It is used to study the absorption of visible light by organic molecules', 'It involves the promotion of an electron from a higher-energy orbital to a lower-energy orbital']-----Correct  D. It involves the promotion of an electron from a higher-energy orbital to a lower-energy orbital\n",
      "['100 to 200 nm', '200 to 400 nm', '400 to 600 nm', '600 to 800 nm']-----Correct  B. 200 to 400 nm\n",
      "['σ → π* excitation', 'σ → σ* excitation', 'π → σ* excitation', 'π → π* excitation']-----Correct  D. π → π* excitation\n",
      "['300 nm', '217 nm', '500 nm', '100 nm']-----Correct  B. 217 nm\n",
      "['By measuring the emission of UV light from the sample', 'By irradiating the sample with X-ray light', 'By irradiating a sample with UV light of continuously changing wavelength and measuring the absorbance of the light', 'By measuring the color change of the sample']-----Correct  C. By irradiating a sample with UV light of continuously changing wavelength and measuring the absorbance of the light\n",
      "['No absorption', 'Absorption', 'Emission', 'Reflection']-----Correct  B. Absorption\n",
      "[\"A measure of the sample's mass\", \"A measure of the sample's volume\", 'A physical constant characteristic of the particular substance being observed', \"A measure of the sample's color intensity\"]-----Correct  C. A physical constant characteristic of the particular substance being observed\n",
      "['Mass spectrometry', 'Infrared spectroscopy', 'Nuclear magnetic resonance spectroscopy', 'X-ray crystallography']-----Correct  D. X-ray crystallography\n",
      "['Infrared region', 'Visible region', 'X-ray region', 'Microwave region']-----Correct  C. X-ray region\n",
      "['Non-conjugated compounds', 'Saturated compounds', 'Aromatic compounds', 'Conjugated compounds']-----Correct  D. Conjugated compounds\n",
      "['Absorbance', 'Molar absorptivity', 'Concentration', 'Pathlength']-----Correct  B. Molar absorptivity\n",
      "['It measures the concentration of a sample in solution.', 'It is represented by the symbol A.', 'It depends on the pathlength.', 'It indicates how strongly a compound absorbs light at a specific wavelength.']-----Correct  D. It indicates how strongly a compound absorbs light at a specific wavelength.\n",
      "['0.00025 M', '0.001 M', '0.004 M', '0.01 M']-----Correct  C. 0.004 M\n",
      "['Concentration', 'Absorbance', 'Structure', 'Pathlength']-----Correct  C. Structure\n",
      "['Lambda max', 'Absorbance max', 'Pathlength max', 'Molar absorptivity max']-----Correct  A. Lambda max\n",
      "['217 nm', '256 nm', '258 nm', '290 nm']-----Correct  A. 217 nm\n",
      "['It increases', 'It stays the same', 'It decreases', 'It fluctuates']-----Correct  C. It decreases\n",
      "['2-methyl-1,3-butadiene', '1,3-cyclohexadiene', '1,3,5-hexatriene', '1,3,5,7-octatetraene']-----Correct  B. 1,3-cyclohexadiene\n",
      "['Measure pathlength', 'Determine concentration', 'Gain structural information', 'Calculate molar absorptivity']-----Correct  C. Gain structural information\n",
      "['220 nm', '256 nm', '258 nm', '290 nm']-----Correct  C. 258 nm\n",
      "['Methanol', 'Ethanol', 'Propanol', 'Butanol']-----None of the above\n",
      "['Aldehyde', 'Ketone', 'Ester', 'Carboxylic acid']-----Correct  A. Aldehyde\n",
      "['Aldehyde', 'Ketone', 'Ester', 'Carboxylic acid']-----Correct  B. Ketone\n",
      "['Primary', 'Secondary', 'Tertiary', 'Quaternary']-----Correct  C. Tertiary\n",
      "['i-Pr2NMgCl-LiCl', 'H2SO4', 'NaOH', 'LiAlH4']-----Correct  A. i-Pr2NMgCl-LiCl\n",
      "['Other reactive functional groups are present in the same molecule.', 'The organohalide is too reactive.', 'The organohalide is too large.', 'The organohalide is too basic.']-----Correct  A. Other reactive functional groups are present in the same molecule.\n",
      "['Alkyl halide and ketone', 'Alkyl halide and ester', 'Alkyl halide and carboxylic acid', 'Alkyl halide and alcohol']-----Correct  A. Alkyl halide and ketone\n",
      "['Carbonyl reduction', 'Grignard reaction', 'Hydrolysis', 'Esterification']-----Correct  B. Grignard reaction\n",
      "['Hydride ion', 'Carbanion nucleophile', 'Alkoxide ion', 'Tautomer']-----Correct  B. Carbanion nucleophile\n",
      "['They are too reactive.', 'They are too acidic.', 'They are too basic to exist in an aqueous medium.', 'They are too stable.']-----Correct  C. They are too basic to exist in an aqueous medium.\n",
      "['Only primary alcohols are oxidized to aldehydes.', 'Secondary alcohols are oxidized to carboxylic acids.', 'Tertiary alcohols are always oxidized to ketones.', 'Chromium-based reagents are commonly used due to their effectiveness.']-----Tertiary alcohols are usually not oxidized.\n",
      "['Thiols have the formula R-OH.', 'Sulfides have the formula R-S-OH.', 'Thiols contain oxygen atoms.', \"Sulfides have the formula R-S-R', where R and R' are the same organic group.\"]-----Correct  D. Sulfides have the formula R-S-R', where R and R' are the same organic group.\n",
      "['R-S-OH', 'R-OH', 'R-S-S', 'R-S-H']-----Correct  D. R-S-H\n",
      "['By identifying the organic substituents and adding \"ether\" at the end.', 'By identifying the organic substituents and adding \"alcohol\" at the end.', 'By identifying the organic substituents and adding \"sulfide\" at the end.', 'By identifying the organic substituents and adding \"alkene\" at the end.']-----Correct  A. By identifying the organic substituents and adding \"ether\" at the end.\n",
      "['Linear', 'Bent', 'Tetrahedral', 'Trigonal planar']-----Correct  C. Tetrahedral\n",
      "['Due to sp2-hybridization of the oxygen atom', 'Due to the presence of sulfur atoms', 'Due to the electronegativity of the oxygen atom', 'Due to the linear geometry']-----Correct  C. Due to the electronegativity of the oxygen atom\n",
      "['Ethers have lower boiling points compared to alkanes.', 'Ethers have higher boiling points compared to alkanes.', 'Boiling points of ethers do not depend on the carbon chain length.', 'Ethers have the same boiling points as alcohols.']-----Correct  B. Ethers have higher boiling points compared to alkanes.\n",
      "['-25°C', '34.6°C', '36°C', '-45°C']-----Correct  B. 34.6°C\n",
      "['R-S-H', 'R-OH', 'R-S-S', \"R-S-R'\"]-----Correct  D. R-S-R'\n",
      "['sp-hybridized', 'sp2-hybridized', 'sp3-hybridized', 'Unhybridized']-----Correct  C. sp3-hybridized\n",
      "['Thiols', 'Sulfides', 'Alcohols', 'Ethers']-----Correct  B. Sulfides\n",
      "['1.', '2.', '3.', '4.']-----\n",
      "['1.', '2.', '3.', '4.']-----\n",
      "['5. 00 PM', '5. 30 PM', '7. 05 PM', '7. 30 PM']-----30 PM\n",
      "['2.', '3.', '4.', '5.']-----\n",
      "['U.S Telethon Raises Money for Attack Victims', 'Best-known names Pledge Donations', 'Seeking More Support', 'More People Join']----- Telethon Raises Money for Attack Victims\n",
      "['2.', '1.', '3.', '4.']-----\n"
     ]
    }
   ],
   "source": [
    "df_filtered['question'] = df_filtered['response'].apply(extract_question)\n",
    "df_filtered['answer'] = df_filtered['response'].apply(extract_answer)\n",
    "# df_filtered['correct_option'] = df_filtered['response'].apply(extract_correct_option)\n",
    "df_filtered['distractors'] = df_filtered['response'].apply(extract_distractors)"
   ]
  },
  {
   "cell_type": "code",
   "execution_count": 25,
   "id": "b7711b8e",
   "metadata": {
    "execution": {
     "iopub.execute_input": "2024-09-19T07:54:43.831341Z",
     "iopub.status.busy": "2024-09-19T07:54:43.830931Z",
     "iopub.status.idle": "2024-09-19T07:54:43.850323Z",
     "shell.execute_reply": "2024-09-19T07:54:43.849155Z"
    },
    "papermill": {
     "duration": 0.05039,
     "end_time": "2024-09-19T07:54:43.852921",
     "exception": false,
     "start_time": "2024-09-19T07:54:43.802531",
     "status": "completed"
    },
    "tags": []
   },
   "outputs": [
    {
     "data": {
      "text/html": [
       "<div>\n",
       "<style scoped>\n",
       "    .dataframe tbody tr th:only-of-type {\n",
       "        vertical-align: middle;\n",
       "    }\n",
       "\n",
       "    .dataframe tbody tr th {\n",
       "        vertical-align: top;\n",
       "    }\n",
       "\n",
       "    .dataframe thead th {\n",
       "        text-align: right;\n",
       "    }\n",
       "</style>\n",
       "<table border=\"1\" class=\"dataframe\">\n",
       "  <thead>\n",
       "    <tr style=\"text-align: right;\">\n",
       "      <th></th>\n",
       "      <th>input</th>\n",
       "      <th>instruction</th>\n",
       "      <th>response</th>\n",
       "      <th>category</th>\n",
       "      <th>length_input</th>\n",
       "      <th>length_qna</th>\n",
       "      <th>question</th>\n",
       "      <th>answer</th>\n",
       "      <th>distractors</th>\n",
       "    </tr>\n",
       "  </thead>\n",
       "  <tbody>\n",
       "    <tr>\n",
       "      <th>0</th>\n",
       "      <td>Biology is the study of life, from microscopic...</td>\n",
       "      <td>Generate Biology based Multiple Choice Questio...</td>\n",
       "      <td>&lt;question&gt; Which of the following is NOT a ste...</td>\n",
       "      <td>Biology</td>\n",
       "      <td>358</td>\n",
       "      <td>72</td>\n",
       "      <td>Which of the following is NOT a step in the sc...</td>\n",
       "      <td>Drawing conclusions based on results</td>\n",
       "      <td>[Making observations, Forming hypotheses, Cond...</td>\n",
       "    </tr>\n",
       "    <tr>\n",
       "      <th>1</th>\n",
       "      <td>Biology is the study of life, from microscopic...</td>\n",
       "      <td>Generate Biology based Multiple Choice Questio...</td>\n",
       "      <td>&lt;question&gt; Which of the following organisms we...</td>\n",
       "      <td>Biology</td>\n",
       "      <td>358</td>\n",
       "      <td>73</td>\n",
       "      <td>Which of the following organisms were the firs...</td>\n",
       "      <td>Microorganisms in the ocean</td>\n",
       "      <td>[Mammals, birds, and flowers, Humans, Plants]</td>\n",
       "    </tr>\n",
       "    <tr>\n",
       "      <th>2</th>\n",
       "      <td>Biology is the study of life, from microscopic...</td>\n",
       "      <td>Generate Biology based Multiple Choice Questio...</td>\n",
       "      <td>&lt;question&gt; How long ago did mammals, birds, an...</td>\n",
       "      <td>Biology</td>\n",
       "      <td>358</td>\n",
       "      <td>78</td>\n",
       "      <td>How long ago did mammals, birds, and flowers o...</td>\n",
       "      <td>130 to 250 million years ago</td>\n",
       "      <td>[2.5 million years ago, 300,000 years ago, Bil...</td>\n",
       "    </tr>\n",
       "    <tr>\n",
       "      <th>3</th>\n",
       "      <td>Biology is the study of life, from microscopic...</td>\n",
       "      <td>Generate Biology based Multiple Choice Questio...</td>\n",
       "      <td>&lt;question&gt; What is the purpose of the scientif...</td>\n",
       "      <td>Biology</td>\n",
       "      <td>358</td>\n",
       "      <td>73</td>\n",
       "      <td>What is the purpose of the scientific method?</td>\n",
       "      <td>All of the above</td>\n",
       "      <td>[To make careful observations, To formulate hy...</td>\n",
       "    </tr>\n",
       "    <tr>\n",
       "      <th>4</th>\n",
       "      <td>Biology is the study of life, from microscopic...</td>\n",
       "      <td>Generate Biology based Multiple Choice Questio...</td>\n",
       "      <td>&lt;question&gt; Which of the following is NOT a rec...</td>\n",
       "      <td>Biology</td>\n",
       "      <td>358</td>\n",
       "      <td>102</td>\n",
       "      <td>Which of the following is NOT a recent news to...</td>\n",
       "      <td>Global effort to protect the environment and a...</td>\n",
       "      <td>[Outbreaks of Escherichia coli in spinach, Sal...</td>\n",
       "    </tr>\n",
       "  </tbody>\n",
       "</table>\n",
       "</div>"
      ],
      "text/plain": [
       "                                               input  \\\n",
       "0  Biology is the study of life, from microscopic...   \n",
       "1  Biology is the study of life, from microscopic...   \n",
       "2  Biology is the study of life, from microscopic...   \n",
       "3  Biology is the study of life, from microscopic...   \n",
       "4  Biology is the study of life, from microscopic...   \n",
       "\n",
       "                                         instruction  \\\n",
       "0  Generate Biology based Multiple Choice Questio...   \n",
       "1  Generate Biology based Multiple Choice Questio...   \n",
       "2  Generate Biology based Multiple Choice Questio...   \n",
       "3  Generate Biology based Multiple Choice Questio...   \n",
       "4  Generate Biology based Multiple Choice Questio...   \n",
       "\n",
       "                                            response category  length_input  \\\n",
       "0  <question> Which of the following is NOT a ste...  Biology           358   \n",
       "1  <question> Which of the following organisms we...  Biology           358   \n",
       "2  <question> How long ago did mammals, birds, an...  Biology           358   \n",
       "3  <question> What is the purpose of the scientif...  Biology           358   \n",
       "4  <question> Which of the following is NOT a rec...  Biology           358   \n",
       "\n",
       "   length_qna                                           question  \\\n",
       "0          72  Which of the following is NOT a step in the sc...   \n",
       "1          73  Which of the following organisms were the firs...   \n",
       "2          78  How long ago did mammals, birds, and flowers o...   \n",
       "3          73      What is the purpose of the scientific method?   \n",
       "4         102  Which of the following is NOT a recent news to...   \n",
       "\n",
       "                                              answer  \\\n",
       "0               Drawing conclusions based on results   \n",
       "1                        Microorganisms in the ocean   \n",
       "2                       130 to 250 million years ago   \n",
       "3                                   All of the above   \n",
       "4  Global effort to protect the environment and a...   \n",
       "\n",
       "                                         distractors  \n",
       "0  [Making observations, Forming hypotheses, Cond...  \n",
       "1      [Mammals, birds, and flowers, Humans, Plants]  \n",
       "2  [2.5 million years ago, 300,000 years ago, Bil...  \n",
       "3  [To make careful observations, To formulate hy...  \n",
       "4  [Outbreaks of Escherichia coli in spinach, Sal...  "
      ]
     },
     "execution_count": 25,
     "metadata": {},
     "output_type": "execute_result"
    }
   ],
   "source": [
    "df_filtered.head()"
   ]
  },
  {
   "cell_type": "code",
   "execution_count": 26,
   "id": "e4b15be8",
   "metadata": {
    "execution": {
     "iopub.execute_input": "2024-09-19T07:54:43.908784Z",
     "iopub.status.busy": "2024-09-19T07:54:43.908275Z",
     "iopub.status.idle": "2024-09-19T07:54:43.925827Z",
     "shell.execute_reply": "2024-09-19T07:54:43.924627Z"
    },
    "papermill": {
     "duration": 0.048778,
     "end_time": "2024-09-19T07:54:43.928481",
     "exception": false,
     "start_time": "2024-09-19T07:54:43.879703",
     "status": "completed"
    },
    "tags": []
   },
   "outputs": [],
   "source": [
    "df_filtered['len_distractors'] = df_filtered['distractors'].apply(len)"
   ]
  },
  {
   "cell_type": "code",
   "execution_count": 27,
   "id": "61c20537",
   "metadata": {
    "execution": {
     "iopub.execute_input": "2024-09-19T07:54:43.984445Z",
     "iopub.status.busy": "2024-09-19T07:54:43.983623Z",
     "iopub.status.idle": "2024-09-19T07:54:44.003344Z",
     "shell.execute_reply": "2024-09-19T07:54:44.001948Z"
    },
    "papermill": {
     "duration": 0.050241,
     "end_time": "2024-09-19T07:54:44.005849",
     "exception": false,
     "start_time": "2024-09-19T07:54:43.955608",
     "status": "completed"
    },
    "tags": []
   },
   "outputs": [
    {
     "data": {
      "text/html": [
       "<div>\n",
       "<style scoped>\n",
       "    .dataframe tbody tr th:only-of-type {\n",
       "        vertical-align: middle;\n",
       "    }\n",
       "\n",
       "    .dataframe tbody tr th {\n",
       "        vertical-align: top;\n",
       "    }\n",
       "\n",
       "    .dataframe thead th {\n",
       "        text-align: right;\n",
       "    }\n",
       "</style>\n",
       "<table border=\"1\" class=\"dataframe\">\n",
       "  <thead>\n",
       "    <tr style=\"text-align: right;\">\n",
       "      <th></th>\n",
       "      <th>input</th>\n",
       "      <th>instruction</th>\n",
       "      <th>response</th>\n",
       "      <th>category</th>\n",
       "      <th>length_input</th>\n",
       "      <th>length_qna</th>\n",
       "      <th>question</th>\n",
       "      <th>answer</th>\n",
       "      <th>distractors</th>\n",
       "      <th>len_distractors</th>\n",
       "    </tr>\n",
       "  </thead>\n",
       "  <tbody>\n",
       "    <tr>\n",
       "      <th>0</th>\n",
       "      <td>Biology is the study of life, from microscopic...</td>\n",
       "      <td>Generate Biology based Multiple Choice Questio...</td>\n",
       "      <td>&lt;question&gt; Which of the following is NOT a ste...</td>\n",
       "      <td>Biology</td>\n",
       "      <td>358</td>\n",
       "      <td>72</td>\n",
       "      <td>Which of the following is NOT a step in the sc...</td>\n",
       "      <td>Drawing conclusions based on results</td>\n",
       "      <td>[Making observations, Forming hypotheses, Cond...</td>\n",
       "      <td>3</td>\n",
       "    </tr>\n",
       "    <tr>\n",
       "      <th>1</th>\n",
       "      <td>Biology is the study of life, from microscopic...</td>\n",
       "      <td>Generate Biology based Multiple Choice Questio...</td>\n",
       "      <td>&lt;question&gt; Which of the following organisms we...</td>\n",
       "      <td>Biology</td>\n",
       "      <td>358</td>\n",
       "      <td>73</td>\n",
       "      <td>Which of the following organisms were the firs...</td>\n",
       "      <td>Microorganisms in the ocean</td>\n",
       "      <td>[Mammals, birds, and flowers, Humans, Plants]</td>\n",
       "      <td>3</td>\n",
       "    </tr>\n",
       "    <tr>\n",
       "      <th>2</th>\n",
       "      <td>Biology is the study of life, from microscopic...</td>\n",
       "      <td>Generate Biology based Multiple Choice Questio...</td>\n",
       "      <td>&lt;question&gt; How long ago did mammals, birds, an...</td>\n",
       "      <td>Biology</td>\n",
       "      <td>358</td>\n",
       "      <td>78</td>\n",
       "      <td>How long ago did mammals, birds, and flowers o...</td>\n",
       "      <td>130 to 250 million years ago</td>\n",
       "      <td>[2.5 million years ago, 300,000 years ago, Bil...</td>\n",
       "      <td>3</td>\n",
       "    </tr>\n",
       "    <tr>\n",
       "      <th>3</th>\n",
       "      <td>Biology is the study of life, from microscopic...</td>\n",
       "      <td>Generate Biology based Multiple Choice Questio...</td>\n",
       "      <td>&lt;question&gt; What is the purpose of the scientif...</td>\n",
       "      <td>Biology</td>\n",
       "      <td>358</td>\n",
       "      <td>73</td>\n",
       "      <td>What is the purpose of the scientific method?</td>\n",
       "      <td>All of the above</td>\n",
       "      <td>[To make careful observations, To formulate hy...</td>\n",
       "      <td>3</td>\n",
       "    </tr>\n",
       "    <tr>\n",
       "      <th>4</th>\n",
       "      <td>Biology is the study of life, from microscopic...</td>\n",
       "      <td>Generate Biology based Multiple Choice Questio...</td>\n",
       "      <td>&lt;question&gt; Which of the following is NOT a rec...</td>\n",
       "      <td>Biology</td>\n",
       "      <td>358</td>\n",
       "      <td>102</td>\n",
       "      <td>Which of the following is NOT a recent news to...</td>\n",
       "      <td>Global effort to protect the environment and a...</td>\n",
       "      <td>[Outbreaks of Escherichia coli in spinach, Sal...</td>\n",
       "      <td>3</td>\n",
       "    </tr>\n",
       "  </tbody>\n",
       "</table>\n",
       "</div>"
      ],
      "text/plain": [
       "                                               input  \\\n",
       "0  Biology is the study of life, from microscopic...   \n",
       "1  Biology is the study of life, from microscopic...   \n",
       "2  Biology is the study of life, from microscopic...   \n",
       "3  Biology is the study of life, from microscopic...   \n",
       "4  Biology is the study of life, from microscopic...   \n",
       "\n",
       "                                         instruction  \\\n",
       "0  Generate Biology based Multiple Choice Questio...   \n",
       "1  Generate Biology based Multiple Choice Questio...   \n",
       "2  Generate Biology based Multiple Choice Questio...   \n",
       "3  Generate Biology based Multiple Choice Questio...   \n",
       "4  Generate Biology based Multiple Choice Questio...   \n",
       "\n",
       "                                            response category  length_input  \\\n",
       "0  <question> Which of the following is NOT a ste...  Biology           358   \n",
       "1  <question> Which of the following organisms we...  Biology           358   \n",
       "2  <question> How long ago did mammals, birds, an...  Biology           358   \n",
       "3  <question> What is the purpose of the scientif...  Biology           358   \n",
       "4  <question> Which of the following is NOT a rec...  Biology           358   \n",
       "\n",
       "   length_qna                                           question  \\\n",
       "0          72  Which of the following is NOT a step in the sc...   \n",
       "1          73  Which of the following organisms were the firs...   \n",
       "2          78  How long ago did mammals, birds, and flowers o...   \n",
       "3          73      What is the purpose of the scientific method?   \n",
       "4         102  Which of the following is NOT a recent news to...   \n",
       "\n",
       "                                              answer  \\\n",
       "0               Drawing conclusions based on results   \n",
       "1                        Microorganisms in the ocean   \n",
       "2                       130 to 250 million years ago   \n",
       "3                                   All of the above   \n",
       "4  Global effort to protect the environment and a...   \n",
       "\n",
       "                                         distractors  len_distractors  \n",
       "0  [Making observations, Forming hypotheses, Cond...                3  \n",
       "1      [Mammals, birds, and flowers, Humans, Plants]                3  \n",
       "2  [2.5 million years ago, 300,000 years ago, Bil...                3  \n",
       "3  [To make careful observations, To formulate hy...                3  \n",
       "4  [Outbreaks of Escherichia coli in spinach, Sal...                3  "
      ]
     },
     "execution_count": 27,
     "metadata": {},
     "output_type": "execute_result"
    }
   ],
   "source": [
    "df_filtered.head()"
   ]
  },
  {
   "cell_type": "code",
   "execution_count": 28,
   "id": "c98f8f0c",
   "metadata": {
    "execution": {
     "iopub.execute_input": "2024-09-19T07:54:44.061974Z",
     "iopub.status.busy": "2024-09-19T07:54:44.061537Z",
     "iopub.status.idle": "2024-09-19T07:54:46.324490Z",
     "shell.execute_reply": "2024-09-19T07:54:46.323149Z"
    },
    "papermill": {
     "duration": 2.294414,
     "end_time": "2024-09-19T07:54:46.327298",
     "exception": false,
     "start_time": "2024-09-19T07:54:44.032884",
     "status": "completed"
    },
    "tags": []
   },
   "outputs": [],
   "source": [
    "df_filtered['len_ans'] = df_filtered['answer'].apply(word_count)"
   ]
  },
  {
   "cell_type": "code",
   "execution_count": 29,
   "id": "9ae64199",
   "metadata": {
    "execution": {
     "iopub.execute_input": "2024-09-19T07:54:46.384172Z",
     "iopub.status.busy": "2024-09-19T07:54:46.383729Z",
     "iopub.status.idle": "2024-09-19T07:54:46.403301Z",
     "shell.execute_reply": "2024-09-19T07:54:46.402024Z"
    },
    "papermill": {
     "duration": 0.05096,
     "end_time": "2024-09-19T07:54:46.406075",
     "exception": false,
     "start_time": "2024-09-19T07:54:46.355115",
     "status": "completed"
    },
    "tags": []
   },
   "outputs": [
    {
     "data": {
      "text/html": [
       "<div>\n",
       "<style scoped>\n",
       "    .dataframe tbody tr th:only-of-type {\n",
       "        vertical-align: middle;\n",
       "    }\n",
       "\n",
       "    .dataframe tbody tr th {\n",
       "        vertical-align: top;\n",
       "    }\n",
       "\n",
       "    .dataframe thead th {\n",
       "        text-align: right;\n",
       "    }\n",
       "</style>\n",
       "<table border=\"1\" class=\"dataframe\">\n",
       "  <thead>\n",
       "    <tr style=\"text-align: right;\">\n",
       "      <th></th>\n",
       "      <th>input</th>\n",
       "      <th>instruction</th>\n",
       "      <th>response</th>\n",
       "      <th>category</th>\n",
       "      <th>length_input</th>\n",
       "      <th>length_qna</th>\n",
       "      <th>question</th>\n",
       "      <th>answer</th>\n",
       "      <th>distractors</th>\n",
       "      <th>len_distractors</th>\n",
       "      <th>len_ans</th>\n",
       "    </tr>\n",
       "  </thead>\n",
       "  <tbody>\n",
       "    <tr>\n",
       "      <th>0</th>\n",
       "      <td>Biology is the study of life, from microscopic...</td>\n",
       "      <td>Generate Biology based Multiple Choice Questio...</td>\n",
       "      <td>&lt;question&gt; Which of the following is NOT a ste...</td>\n",
       "      <td>Biology</td>\n",
       "      <td>358</td>\n",
       "      <td>72</td>\n",
       "      <td>Which of the following is NOT a step in the sc...</td>\n",
       "      <td>Drawing conclusions based on results</td>\n",
       "      <td>[Making observations, Forming hypotheses, Cond...</td>\n",
       "      <td>3</td>\n",
       "      <td>5</td>\n",
       "    </tr>\n",
       "    <tr>\n",
       "      <th>1</th>\n",
       "      <td>Biology is the study of life, from microscopic...</td>\n",
       "      <td>Generate Biology based Multiple Choice Questio...</td>\n",
       "      <td>&lt;question&gt; Which of the following organisms we...</td>\n",
       "      <td>Biology</td>\n",
       "      <td>358</td>\n",
       "      <td>73</td>\n",
       "      <td>Which of the following organisms were the firs...</td>\n",
       "      <td>Microorganisms in the ocean</td>\n",
       "      <td>[Mammals, birds, and flowers, Humans, Plants]</td>\n",
       "      <td>3</td>\n",
       "      <td>4</td>\n",
       "    </tr>\n",
       "    <tr>\n",
       "      <th>2</th>\n",
       "      <td>Biology is the study of life, from microscopic...</td>\n",
       "      <td>Generate Biology based Multiple Choice Questio...</td>\n",
       "      <td>&lt;question&gt; How long ago did mammals, birds, an...</td>\n",
       "      <td>Biology</td>\n",
       "      <td>358</td>\n",
       "      <td>78</td>\n",
       "      <td>How long ago did mammals, birds, and flowers o...</td>\n",
       "      <td>130 to 250 million years ago</td>\n",
       "      <td>[2.5 million years ago, 300,000 years ago, Bil...</td>\n",
       "      <td>3</td>\n",
       "      <td>6</td>\n",
       "    </tr>\n",
       "    <tr>\n",
       "      <th>3</th>\n",
       "      <td>Biology is the study of life, from microscopic...</td>\n",
       "      <td>Generate Biology based Multiple Choice Questio...</td>\n",
       "      <td>&lt;question&gt; What is the purpose of the scientif...</td>\n",
       "      <td>Biology</td>\n",
       "      <td>358</td>\n",
       "      <td>73</td>\n",
       "      <td>What is the purpose of the scientific method?</td>\n",
       "      <td>All of the above</td>\n",
       "      <td>[To make careful observations, To formulate hy...</td>\n",
       "      <td>3</td>\n",
       "      <td>4</td>\n",
       "    </tr>\n",
       "    <tr>\n",
       "      <th>4</th>\n",
       "      <td>Biology is the study of life, from microscopic...</td>\n",
       "      <td>Generate Biology based Multiple Choice Questio...</td>\n",
       "      <td>&lt;question&gt; Which of the following is NOT a rec...</td>\n",
       "      <td>Biology</td>\n",
       "      <td>358</td>\n",
       "      <td>102</td>\n",
       "      <td>Which of the following is NOT a recent news to...</td>\n",
       "      <td>Global effort to protect the environment and a...</td>\n",
       "      <td>[Outbreaks of Escherichia coli in spinach, Sal...</td>\n",
       "      <td>3</td>\n",
       "      <td>10</td>\n",
       "    </tr>\n",
       "  </tbody>\n",
       "</table>\n",
       "</div>"
      ],
      "text/plain": [
       "                                               input  \\\n",
       "0  Biology is the study of life, from microscopic...   \n",
       "1  Biology is the study of life, from microscopic...   \n",
       "2  Biology is the study of life, from microscopic...   \n",
       "3  Biology is the study of life, from microscopic...   \n",
       "4  Biology is the study of life, from microscopic...   \n",
       "\n",
       "                                         instruction  \\\n",
       "0  Generate Biology based Multiple Choice Questio...   \n",
       "1  Generate Biology based Multiple Choice Questio...   \n",
       "2  Generate Biology based Multiple Choice Questio...   \n",
       "3  Generate Biology based Multiple Choice Questio...   \n",
       "4  Generate Biology based Multiple Choice Questio...   \n",
       "\n",
       "                                            response category  length_input  \\\n",
       "0  <question> Which of the following is NOT a ste...  Biology           358   \n",
       "1  <question> Which of the following organisms we...  Biology           358   \n",
       "2  <question> How long ago did mammals, birds, an...  Biology           358   \n",
       "3  <question> What is the purpose of the scientif...  Biology           358   \n",
       "4  <question> Which of the following is NOT a rec...  Biology           358   \n",
       "\n",
       "   length_qna                                           question  \\\n",
       "0          72  Which of the following is NOT a step in the sc...   \n",
       "1          73  Which of the following organisms were the firs...   \n",
       "2          78  How long ago did mammals, birds, and flowers o...   \n",
       "3          73      What is the purpose of the scientific method?   \n",
       "4         102  Which of the following is NOT a recent news to...   \n",
       "\n",
       "                                              answer  \\\n",
       "0               Drawing conclusions based on results   \n",
       "1                        Microorganisms in the ocean   \n",
       "2                       130 to 250 million years ago   \n",
       "3                                   All of the above   \n",
       "4  Global effort to protect the environment and a...   \n",
       "\n",
       "                                         distractors  len_distractors  len_ans  \n",
       "0  [Making observations, Forming hypotheses, Cond...                3        5  \n",
       "1      [Mammals, birds, and flowers, Humans, Plants]                3        4  \n",
       "2  [2.5 million years ago, 300,000 years ago, Bil...                3        6  \n",
       "3  [To make careful observations, To formulate hy...                3        4  \n",
       "4  [Outbreaks of Escherichia coli in spinach, Sal...                3       10  "
      ]
     },
     "execution_count": 29,
     "metadata": {},
     "output_type": "execute_result"
    }
   ],
   "source": [
    "df_filtered.head()"
   ]
  },
  {
   "cell_type": "code",
   "execution_count": 30,
   "id": "f577db14",
   "metadata": {
    "execution": {
     "iopub.execute_input": "2024-09-19T07:54:46.463152Z",
     "iopub.status.busy": "2024-09-19T07:54:46.462692Z",
     "iopub.status.idle": "2024-09-19T07:54:47.017424Z",
     "shell.execute_reply": "2024-09-19T07:54:47.016179Z"
    },
    "papermill": {
     "duration": 0.587098,
     "end_time": "2024-09-19T07:54:47.020685",
     "exception": false,
     "start_time": "2024-09-19T07:54:46.433587",
     "status": "completed"
    },
    "tags": []
   },
   "outputs": [
    {
     "data": {
      "text/plain": [
       "<Axes: xlabel='len_ans', ylabel='count'>"
      ]
     },
     "execution_count": 30,
     "metadata": {},
     "output_type": "execute_result"
    },
    {
     "data": {
      "image/png": "[encoded data removed]",
      "text/plain": [
       "<Figure size 2000x1000 with 1 Axes>"
      ]
     },
     "metadata": {},
     "output_type": "display_data"
    }
   ],
   "source": [
    "plt.figure(figsize = (20,10))\n",
    "sns.countplot(df_filtered, x = 'len_ans')"
   ]
  },
  {
   "cell_type": "code",
   "execution_count": 31,
   "id": "d6af8410",
   "metadata": {
    "execution": {
     "iopub.execute_input": "2024-09-19T07:54:47.080530Z",
     "iopub.status.busy": "2024-09-19T07:54:47.080121Z",
     "iopub.status.idle": "2024-09-19T07:54:47.091203Z",
     "shell.execute_reply": "2024-09-19T07:54:47.090042Z"
    },
    "papermill": {
     "duration": 0.04466,
     "end_time": "2024-09-19T07:54:47.094238",
     "exception": false,
     "start_time": "2024-09-19T07:54:47.049578",
     "status": "completed"
    },
    "tags": []
   },
   "outputs": [],
   "source": [
    "df_filtered = df_filtered[df_filtered['len_ans'] <= 10]"
   ]
  },
  {
   "cell_type": "code",
   "execution_count": 32,
   "id": "d1ffbd20",
   "metadata": {
    "execution": {
     "iopub.execute_input": "2024-09-19T07:54:47.153881Z",
     "iopub.status.busy": "2024-09-19T07:54:47.153471Z",
     "iopub.status.idle": "2024-09-19T07:54:47.508311Z",
     "shell.execute_reply": "2024-09-19T07:54:47.506422Z"
    },
    "papermill": {
     "duration": 0.389293,
     "end_time": "2024-09-19T07:54:47.512111",
     "exception": false,
     "start_time": "2024-09-19T07:54:47.122818",
     "status": "completed"
    },
    "tags": []
   },
   "outputs": [
    {
     "data": {
      "text/plain": [
       "<Axes: xlabel='len_ans', ylabel='count'>"
      ]
     },
     "execution_count": 32,
     "metadata": {},
     "output_type": "execute_result"
    },
    {
     "data": {
      "image/png": "[encoded data removed]",
      "text/plain": [
       "<Figure size 2000x1000 with 1 Axes>"
      ]
     },
     "metadata": {},
     "output_type": "display_data"
    }
   ],
   "source": [
    "plt.figure(figsize = (20,10))\n",
    "sns.countplot(df_filtered, x = 'len_ans')"
   ]
  },
  {
   "cell_type": "code",
   "execution_count": 33,
   "id": "014b49c5",
   "metadata": {
    "execution": {
     "iopub.execute_input": "2024-09-19T07:54:47.573834Z",
     "iopub.status.busy": "2024-09-19T07:54:47.573402Z",
     "iopub.status.idle": "2024-09-19T07:54:47.578557Z",
     "shell.execute_reply": "2024-09-19T07:54:47.577117Z"
    },
    "papermill": {
     "duration": 0.038524,
     "end_time": "2024-09-19T07:54:47.581671",
     "exception": false,
     "start_time": "2024-09-19T07:54:47.543147",
     "status": "completed"
    },
    "tags": []
   },
   "outputs": [],
   "source": [
    "# sns.kdeplot(df_filtered['len_distractors'])"
   ]
  },
  {
   "cell_type": "code",
   "execution_count": 34,
   "id": "42474f21",
   "metadata": {
    "execution": {
     "iopub.execute_input": "2024-09-19T07:54:47.645634Z",
     "iopub.status.busy": "2024-09-19T07:54:47.645191Z",
     "iopub.status.idle": "2024-09-19T07:54:47.650939Z",
     "shell.execute_reply": "2024-09-19T07:54:47.649669Z"
    },
    "papermill": {
     "duration": 0.042861,
     "end_time": "2024-09-19T07:54:47.653816",
     "exception": false,
     "start_time": "2024-09-19T07:54:47.610955",
     "status": "completed"
    },
    "tags": []
   },
   "outputs": [],
   "source": [
    "# df_filtered[df_filtered['len_distractors'] == 3].shape[0]"
   ]
  },
  {
   "cell_type": "code",
   "execution_count": 35,
   "id": "1df53c5c",
   "metadata": {
    "execution": {
     "iopub.execute_input": "2024-09-19T07:54:47.731502Z",
     "iopub.status.busy": "2024-09-19T07:54:47.731004Z",
     "iopub.status.idle": "2024-09-19T07:54:47.738433Z",
     "shell.execute_reply": "2024-09-19T07:54:47.736939Z"
    },
    "papermill": {
     "duration": 0.054127,
     "end_time": "2024-09-19T07:54:47.741491",
     "exception": false,
     "start_time": "2024-09-19T07:54:47.687364",
     "status": "completed"
    },
    "tags": []
   },
   "outputs": [],
   "source": [
    "# df_filtered = df_filtered[df_filtered['len_distractors'] != 3]\n",
    "\n",
    "\n",
    "\n",
    "# # print(\"\\nDataFrame after deleting rows where response length is greater than 120:\")\n",
    "# sns.kdeplot(df_filtered['len_distractors'] , shade=True)\n",
    "# plt.show()"
   ]
  },
  {
   "cell_type": "code",
   "execution_count": 36,
   "id": "8f65f1d6",
   "metadata": {
    "execution": {
     "iopub.execute_input": "2024-09-19T07:54:47.809501Z",
     "iopub.status.busy": "2024-09-19T07:54:47.809022Z",
     "iopub.status.idle": "2024-09-19T07:54:47.830028Z",
     "shell.execute_reply": "2024-09-19T07:54:47.828791Z"
    },
    "papermill": {
     "duration": 0.055007,
     "end_time": "2024-09-19T07:54:47.832654",
     "exception": false,
     "start_time": "2024-09-19T07:54:47.777647",
     "status": "completed"
    },
    "tags": []
   },
   "outputs": [
    {
     "data": {
      "text/html": [
       "<div>\n",
       "<style scoped>\n",
       "    .dataframe tbody tr th:only-of-type {\n",
       "        vertical-align: middle;\n",
       "    }\n",
       "\n",
       "    .dataframe tbody tr th {\n",
       "        vertical-align: top;\n",
       "    }\n",
       "\n",
       "    .dataframe thead th {\n",
       "        text-align: right;\n",
       "    }\n",
       "</style>\n",
       "<table border=\"1\" class=\"dataframe\">\n",
       "  <thead>\n",
       "    <tr style=\"text-align: right;\">\n",
       "      <th></th>\n",
       "      <th>input</th>\n",
       "      <th>instruction</th>\n",
       "      <th>response</th>\n",
       "      <th>category</th>\n",
       "      <th>length_input</th>\n",
       "      <th>length_qna</th>\n",
       "      <th>question</th>\n",
       "      <th>answer</th>\n",
       "      <th>distractors</th>\n",
       "      <th>len_distractors</th>\n",
       "      <th>len_ans</th>\n",
       "    </tr>\n",
       "  </thead>\n",
       "  <tbody>\n",
       "    <tr>\n",
       "      <th>0</th>\n",
       "      <td>Biology is the study of life, from microscopic...</td>\n",
       "      <td>Generate Biology based Multiple Choice Questio...</td>\n",
       "      <td>&lt;question&gt; Which of the following is NOT a ste...</td>\n",
       "      <td>Biology</td>\n",
       "      <td>358</td>\n",
       "      <td>72</td>\n",
       "      <td>Which of the following is NOT a step in the sc...</td>\n",
       "      <td>Drawing conclusions based on results</td>\n",
       "      <td>[Making observations, Forming hypotheses, Cond...</td>\n",
       "      <td>3</td>\n",
       "      <td>5</td>\n",
       "    </tr>\n",
       "    <tr>\n",
       "      <th>1</th>\n",
       "      <td>Biology is the study of life, from microscopic...</td>\n",
       "      <td>Generate Biology based Multiple Choice Questio...</td>\n",
       "      <td>&lt;question&gt; Which of the following organisms we...</td>\n",
       "      <td>Biology</td>\n",
       "      <td>358</td>\n",
       "      <td>73</td>\n",
       "      <td>Which of the following organisms were the firs...</td>\n",
       "      <td>Microorganisms in the ocean</td>\n",
       "      <td>[Mammals, birds, and flowers, Humans, Plants]</td>\n",
       "      <td>3</td>\n",
       "      <td>4</td>\n",
       "    </tr>\n",
       "    <tr>\n",
       "      <th>2</th>\n",
       "      <td>Biology is the study of life, from microscopic...</td>\n",
       "      <td>Generate Biology based Multiple Choice Questio...</td>\n",
       "      <td>&lt;question&gt; How long ago did mammals, birds, an...</td>\n",
       "      <td>Biology</td>\n",
       "      <td>358</td>\n",
       "      <td>78</td>\n",
       "      <td>How long ago did mammals, birds, and flowers o...</td>\n",
       "      <td>130 to 250 million years ago</td>\n",
       "      <td>[2.5 million years ago, 300,000 years ago, Bil...</td>\n",
       "      <td>3</td>\n",
       "      <td>6</td>\n",
       "    </tr>\n",
       "    <tr>\n",
       "      <th>3</th>\n",
       "      <td>Biology is the study of life, from microscopic...</td>\n",
       "      <td>Generate Biology based Multiple Choice Questio...</td>\n",
       "      <td>&lt;question&gt; What is the purpose of the scientif...</td>\n",
       "      <td>Biology</td>\n",
       "      <td>358</td>\n",
       "      <td>73</td>\n",
       "      <td>What is the purpose of the scientific method?</td>\n",
       "      <td>All of the above</td>\n",
       "      <td>[To make careful observations, To formulate hy...</td>\n",
       "      <td>3</td>\n",
       "      <td>4</td>\n",
       "    </tr>\n",
       "    <tr>\n",
       "      <th>4</th>\n",
       "      <td>Biology is the study of life, from microscopic...</td>\n",
       "      <td>Generate Biology based Multiple Choice Questio...</td>\n",
       "      <td>&lt;question&gt; Which of the following is NOT a rec...</td>\n",
       "      <td>Biology</td>\n",
       "      <td>358</td>\n",
       "      <td>102</td>\n",
       "      <td>Which of the following is NOT a recent news to...</td>\n",
       "      <td>Global effort to protect the environment and a...</td>\n",
       "      <td>[Outbreaks of Escherichia coli in spinach, Sal...</td>\n",
       "      <td>3</td>\n",
       "      <td>10</td>\n",
       "    </tr>\n",
       "  </tbody>\n",
       "</table>\n",
       "</div>"
      ],
      "text/plain": [
       "                                               input  \\\n",
       "0  Biology is the study of life, from microscopic...   \n",
       "1  Biology is the study of life, from microscopic...   \n",
       "2  Biology is the study of life, from microscopic...   \n",
       "3  Biology is the study of life, from microscopic...   \n",
       "4  Biology is the study of life, from microscopic...   \n",
       "\n",
       "                                         instruction  \\\n",
       "0  Generate Biology based Multiple Choice Questio...   \n",
       "1  Generate Biology based Multiple Choice Questio...   \n",
       "2  Generate Biology based Multiple Choice Questio...   \n",
       "3  Generate Biology based Multiple Choice Questio...   \n",
       "4  Generate Biology based Multiple Choice Questio...   \n",
       "\n",
       "                                            response category  length_input  \\\n",
       "0  <question> Which of the following is NOT a ste...  Biology           358   \n",
       "1  <question> Which of the following organisms we...  Biology           358   \n",
       "2  <question> How long ago did mammals, birds, an...  Biology           358   \n",
       "3  <question> What is the purpose of the scientif...  Biology           358   \n",
       "4  <question> Which of the following is NOT a rec...  Biology           358   \n",
       "\n",
       "   length_qna                                           question  \\\n",
       "0          72  Which of the following is NOT a step in the sc...   \n",
       "1          73  Which of the following organisms were the firs...   \n",
       "2          78  How long ago did mammals, birds, and flowers o...   \n",
       "3          73      What is the purpose of the scientific method?   \n",
       "4         102  Which of the following is NOT a recent news to...   \n",
       "\n",
       "                                              answer  \\\n",
       "0               Drawing conclusions based on results   \n",
       "1                        Microorganisms in the ocean   \n",
       "2                       130 to 250 million years ago   \n",
       "3                                   All of the above   \n",
       "4  Global effort to protect the environment and a...   \n",
       "\n",
       "                                         distractors  len_distractors  len_ans  \n",
       "0  [Making observations, Forming hypotheses, Cond...                3        5  \n",
       "1      [Mammals, birds, and flowers, Humans, Plants]                3        4  \n",
       "2  [2.5 million years ago, 300,000 years ago, Bil...                3        6  \n",
       "3  [To make careful observations, To formulate hy...                3        4  \n",
       "4  [Outbreaks of Escherichia coli in spinach, Sal...                3       10  "
      ]
     },
     "execution_count": 36,
     "metadata": {},
     "output_type": "execute_result"
    }
   ],
   "source": [
    "df_filtered.head()"
   ]
  },
  {
   "cell_type": "code",
   "execution_count": 37,
   "id": "cb5799c8",
   "metadata": {
    "execution": {
     "iopub.execute_input": "2024-09-19T07:54:47.894688Z",
     "iopub.status.busy": "2024-09-19T07:54:47.893379Z",
     "iopub.status.idle": "2024-09-19T07:54:47.901824Z",
     "shell.execute_reply": "2024-09-19T07:54:47.900628Z"
    },
    "papermill": {
     "duration": 0.042554,
     "end_time": "2024-09-19T07:54:47.904427",
     "exception": false,
     "start_time": "2024-09-19T07:54:47.861873",
     "status": "completed"
    },
    "tags": []
   },
   "outputs": [
    {
     "data": {
      "text/plain": [
       "3"
      ]
     },
     "execution_count": 37,
     "metadata": {},
     "output_type": "execute_result"
    }
   ],
   "source": [
    "df_filtered.iloc[0,9]"
   ]
  },
  {
   "cell_type": "code",
   "execution_count": 38,
   "id": "cfc1f353",
   "metadata": {
    "execution": {
     "iopub.execute_input": "2024-09-19T07:54:47.966285Z",
     "iopub.status.busy": "2024-09-19T07:54:47.965848Z",
     "iopub.status.idle": "2024-09-19T07:54:47.978235Z",
     "shell.execute_reply": "2024-09-19T07:54:47.976929Z"
    },
    "papermill": {
     "duration": 0.046093,
     "end_time": "2024-09-19T07:54:47.980757",
     "exception": false,
     "start_time": "2024-09-19T07:54:47.934664",
     "status": "completed"
    },
    "tags": []
   },
   "outputs": [
    {
     "data": {
      "text/plain": [
       "9"
      ]
     },
     "execution_count": 38,
     "metadata": {},
     "output_type": "execute_result"
    }
   ],
   "source": [
    "len(df_filtered[df_filtered['answer'] == \"None of the above\"])"
   ]
  },
  {
   "cell_type": "code",
   "execution_count": 39,
   "id": "ed027a1c",
   "metadata": {
    "execution": {
     "iopub.execute_input": "2024-09-19T07:54:48.045557Z",
     "iopub.status.busy": "2024-09-19T07:54:48.045136Z",
     "iopub.status.idle": "2024-09-19T07:54:48.057801Z",
     "shell.execute_reply": "2024-09-19T07:54:48.056575Z"
    },
    "papermill": {
     "duration": 0.049603,
     "end_time": "2024-09-19T07:54:48.060527",
     "exception": false,
     "start_time": "2024-09-19T07:54:48.010924",
     "status": "completed"
    },
    "tags": []
   },
   "outputs": [
    {
     "data": {
      "text/plain": [
       "247"
      ]
     },
     "execution_count": 39,
     "metadata": {},
     "output_type": "execute_result"
    }
   ],
   "source": [
    "len(df_filtered[df_filtered['answer'] == \"All of the above\"])"
   ]
  },
  {
   "cell_type": "code",
   "execution_count": 40,
   "id": "ed3b00ca",
   "metadata": {
    "execution": {
     "iopub.execute_input": "2024-09-19T07:54:48.122313Z",
     "iopub.status.busy": "2024-09-19T07:54:48.121902Z",
     "iopub.status.idle": "2024-09-19T07:54:48.140741Z",
     "shell.execute_reply": "2024-09-19T07:54:48.139534Z"
    },
    "papermill": {
     "duration": 0.052949,
     "end_time": "2024-09-19T07:54:48.143495",
     "exception": false,
     "start_time": "2024-09-19T07:54:48.090546",
     "status": "completed"
    },
    "tags": []
   },
   "outputs": [
    {
     "data": {
      "text/plain": [
       "answer\n",
       "All of the above     247\n",
       "Two                   29\n",
       "B                     28\n",
       "All of the above.     27\n",
       "2                     24\n",
       "C                     23\n",
       "                      22\n",
       "Three                 21\n",
       "Both a) and b)        19\n",
       "A                     19\n",
       "Water                 19\n",
       "Oxygen                17\n",
       "3                     17\n",
       "It decreases          15\n",
       "ATP                   15\n",
       "Iron                  14\n",
       "Four                  14\n",
       "Increases             12\n",
       "4                     12\n",
       "Both A and B          12\n",
       "True                  11\n",
       "Carbon dioxide        11\n",
       "Liquid                11\n",
       "Glucose               11\n",
       "Oxidation             10\n",
       "Photosynthesis        10\n",
       "None of the above      9\n",
       "6                      9\n",
       "Fluorine               9\n",
       "Carbon                 9\n",
       "D                      9\n",
       "Copper                 8\n",
       "Gas                    8\n",
       "7                      8\n",
       "Solid                  8\n",
       "Condensation           8\n",
       "Addition               8\n",
       "8                      8\n",
       "Radiation              8\n",
       "Magnesium              8\n",
       "Friction               7\n",
       "Mitochondria           7\n",
       "Diffusion              7\n",
       "Zinc                   7\n",
       "Zero                   7\n",
       "Alkanes                7\n",
       "Yes                    7\n",
       "Alkene                 7\n",
       "Calcium                7\n",
       "Nucleus                7\n",
       "Name: count, dtype: int64"
      ]
     },
     "execution_count": 40,
     "metadata": {},
     "output_type": "execute_result"
    }
   ],
   "source": [
    "df_filtered['answer'].value_counts()[:50]"
   ]
  },
  {
   "cell_type": "code",
   "execution_count": 41,
   "id": "17796884",
   "metadata": {
    "execution": {
     "iopub.execute_input": "2024-09-19T07:54:48.204461Z",
     "iopub.status.busy": "2024-09-19T07:54:48.204023Z",
     "iopub.status.idle": "2024-09-19T07:54:48.211889Z",
     "shell.execute_reply": "2024-09-19T07:54:48.210421Z"
    },
    "papermill": {
     "duration": 0.041353,
     "end_time": "2024-09-19T07:54:48.214416",
     "exception": false,
     "start_time": "2024-09-19T07:54:48.173063",
     "status": "completed"
    },
    "tags": []
   },
   "outputs": [
    {
     "data": {
      "text/plain": [
       "13639"
      ]
     },
     "execution_count": 41,
     "metadata": {},
     "output_type": "execute_result"
    }
   ],
   "source": [
    "len(df_filtered)"
   ]
  },
  {
   "cell_type": "code",
   "execution_count": 42,
   "id": "c203403d",
   "metadata": {
    "execution": {
     "iopub.execute_input": "2024-09-19T07:54:48.276034Z",
     "iopub.status.busy": "2024-09-19T07:54:48.275185Z",
     "iopub.status.idle": "2024-09-19T07:54:48.290650Z",
     "shell.execute_reply": "2024-09-19T07:54:48.289388Z"
    },
    "papermill": {
     "duration": 0.049202,
     "end_time": "2024-09-19T07:54:48.293301",
     "exception": false,
     "start_time": "2024-09-19T07:54:48.244099",
     "status": "completed"
    },
    "tags": []
   },
   "outputs": [
    {
     "data": {
      "text/plain": [
       "13392"
      ]
     },
     "execution_count": 42,
     "metadata": {},
     "output_type": "execute_result"
    }
   ],
   "source": [
    "df_filtered = df_filtered[(df_filtered['answer'] != \"All of the above\")]\n",
    "len(df_filtered)"
   ]
  },
  {
   "cell_type": "code",
   "execution_count": 43,
   "id": "290b2e2f",
   "metadata": {
    "execution": {
     "iopub.execute_input": "2024-09-19T07:54:48.354934Z",
     "iopub.status.busy": "2024-09-19T07:54:48.354512Z",
     "iopub.status.idle": "2024-09-19T07:54:48.370560Z",
     "shell.execute_reply": "2024-09-19T07:54:48.369313Z"
    },
    "papermill": {
     "duration": 0.050261,
     "end_time": "2024-09-19T07:54:48.373366",
     "exception": false,
     "start_time": "2024-09-19T07:54:48.323105",
     "status": "completed"
    },
    "tags": []
   },
   "outputs": [
    {
     "data": {
      "text/plain": [
       "13365"
      ]
     },
     "execution_count": 43,
     "metadata": {},
     "output_type": "execute_result"
    }
   ],
   "source": [
    "df_filtered = df_filtered[(df_filtered['answer'] != \"All of the above.\")]\n",
    "len(df_filtered)"
   ]
  },
  {
   "cell_type": "code",
   "execution_count": 44,
   "id": "27a230c4",
   "metadata": {
    "execution": {
     "iopub.execute_input": "2024-09-19T07:54:48.436928Z",
     "iopub.status.busy": "2024-09-19T07:54:48.436502Z",
     "iopub.status.idle": "2024-09-19T07:54:48.452646Z",
     "shell.execute_reply": "2024-09-19T07:54:48.451555Z"
    },
    "papermill": {
     "duration": 0.051177,
     "end_time": "2024-09-19T07:54:48.455437",
     "exception": false,
     "start_time": "2024-09-19T07:54:48.404260",
     "status": "completed"
    },
    "tags": []
   },
   "outputs": [
    {
     "data": {
      "text/plain": [
       "13346"
      ]
     },
     "execution_count": 44,
     "metadata": {},
     "output_type": "execute_result"
    }
   ],
   "source": [
    "df_filtered = df_filtered[(df_filtered['answer'] != \"Both a) and b)\")]\n",
    "len(df_filtered)"
   ]
  },
  {
   "cell_type": "code",
   "execution_count": 45,
   "id": "e79e73bd",
   "metadata": {
    "execution": {
     "iopub.execute_input": "2024-09-19T07:54:48.519512Z",
     "iopub.status.busy": "2024-09-19T07:54:48.519101Z",
     "iopub.status.idle": "2024-09-19T07:54:48.535450Z",
     "shell.execute_reply": "2024-09-19T07:54:48.534260Z"
    },
    "papermill": {
     "duration": 0.050643,
     "end_time": "2024-09-19T07:54:48.537941",
     "exception": false,
     "start_time": "2024-09-19T07:54:48.487298",
     "status": "completed"
    },
    "tags": []
   },
   "outputs": [
    {
     "data": {
      "text/plain": [
       "13334"
      ]
     },
     "execution_count": 45,
     "metadata": {},
     "output_type": "execute_result"
    }
   ],
   "source": [
    "df_filtered = df_filtered[(df_filtered['answer'] != \"Both A and B\")]\n",
    "len(df_filtered)"
   ]
  },
  {
   "cell_type": "code",
   "execution_count": 46,
   "id": "65f85ca6",
   "metadata": {
    "execution": {
     "iopub.execute_input": "2024-09-19T07:54:48.601284Z",
     "iopub.status.busy": "2024-09-19T07:54:48.600863Z",
     "iopub.status.idle": "2024-09-19T07:54:48.616970Z",
     "shell.execute_reply": "2024-09-19T07:54:48.615653Z"
    },
    "papermill": {
     "duration": 0.051326,
     "end_time": "2024-09-19T07:54:48.619752",
     "exception": false,
     "start_time": "2024-09-19T07:54:48.568426",
     "status": "completed"
    },
    "tags": []
   },
   "outputs": [
    {
     "data": {
      "text/plain": [
       "13325"
      ]
     },
     "execution_count": 46,
     "metadata": {},
     "output_type": "execute_result"
    }
   ],
   "source": [
    "df_filtered = df_filtered[(df_filtered['answer'] != \"None of the above\")]\n",
    "len(df_filtered)"
   ]
  },
  {
   "cell_type": "code",
   "execution_count": 47,
   "id": "22103fa1",
   "metadata": {
    "execution": {
     "iopub.execute_input": "2024-09-19T07:54:48.685226Z",
     "iopub.status.busy": "2024-09-19T07:54:48.684789Z",
     "iopub.status.idle": "2024-09-19T07:54:48.693692Z",
     "shell.execute_reply": "2024-09-19T07:54:48.692393Z"
    },
    "papermill": {
     "duration": 0.04586,
     "end_time": "2024-09-19T07:54:48.696336",
     "exception": false,
     "start_time": "2024-09-19T07:54:48.650476",
     "status": "completed"
    },
    "tags": []
   },
   "outputs": [],
   "source": [
    "df = df_filtered[['input', 'category', 'question', 'answer', 'distractors']]"
   ]
  },
  {
   "cell_type": "code",
   "execution_count": 48,
   "id": "0d6be846",
   "metadata": {
    "execution": {
     "iopub.execute_input": "2024-09-19T07:54:48.759396Z",
     "iopub.status.busy": "2024-09-19T07:54:48.758985Z",
     "iopub.status.idle": "2024-09-19T07:54:48.775009Z",
     "shell.execute_reply": "2024-09-19T07:54:48.773856Z"
    },
    "papermill": {
     "duration": 0.050436,
     "end_time": "2024-09-19T07:54:48.777508",
     "exception": false,
     "start_time": "2024-09-19T07:54:48.727072",
     "status": "completed"
    },
    "tags": []
   },
   "outputs": [
    {
     "data": {
      "text/html": [
       "<div>\n",
       "<style scoped>\n",
       "    .dataframe tbody tr th:only-of-type {\n",
       "        vertical-align: middle;\n",
       "    }\n",
       "\n",
       "    .dataframe tbody tr th {\n",
       "        vertical-align: top;\n",
       "    }\n",
       "\n",
       "    .dataframe thead th {\n",
       "        text-align: right;\n",
       "    }\n",
       "</style>\n",
       "<table border=\"1\" class=\"dataframe\">\n",
       "  <thead>\n",
       "    <tr style=\"text-align: right;\">\n",
       "      <th></th>\n",
       "      <th>input</th>\n",
       "      <th>category</th>\n",
       "      <th>question</th>\n",
       "      <th>answer</th>\n",
       "      <th>distractors</th>\n",
       "    </tr>\n",
       "  </thead>\n",
       "  <tbody>\n",
       "    <tr>\n",
       "      <th>0</th>\n",
       "      <td>Biology is the study of life, from microscopic...</td>\n",
       "      <td>Biology</td>\n",
       "      <td>Which of the following is NOT a step in the sc...</td>\n",
       "      <td>Drawing conclusions based on results</td>\n",
       "      <td>[Making observations, Forming hypotheses, Cond...</td>\n",
       "    </tr>\n",
       "    <tr>\n",
       "      <th>1</th>\n",
       "      <td>Biology is the study of life, from microscopic...</td>\n",
       "      <td>Biology</td>\n",
       "      <td>Which of the following organisms were the firs...</td>\n",
       "      <td>Microorganisms in the ocean</td>\n",
       "      <td>[Mammals, birds, and flowers, Humans, Plants]</td>\n",
       "    </tr>\n",
       "    <tr>\n",
       "      <th>2</th>\n",
       "      <td>Biology is the study of life, from microscopic...</td>\n",
       "      <td>Biology</td>\n",
       "      <td>How long ago did mammals, birds, and flowers o...</td>\n",
       "      <td>130 to 250 million years ago</td>\n",
       "      <td>[2.5 million years ago, 300,000 years ago, Bil...</td>\n",
       "    </tr>\n",
       "    <tr>\n",
       "      <th>4</th>\n",
       "      <td>Biology is the study of life, from microscopic...</td>\n",
       "      <td>Biology</td>\n",
       "      <td>Which of the following is NOT a recent news to...</td>\n",
       "      <td>Global effort to protect the environment and a...</td>\n",
       "      <td>[Outbreaks of Escherichia coli in spinach, Sal...</td>\n",
       "    </tr>\n",
       "    <tr>\n",
       "      <th>5</th>\n",
       "      <td>Biology is the study of life, from microscopic...</td>\n",
       "      <td>Biology</td>\n",
       "      <td>Why can applying the scientific method be more...</td>\n",
       "      <td>These disciplines involve more complex variabl...</td>\n",
       "      <td>[These disciplines do not require careful obse...</td>\n",
       "    </tr>\n",
       "  </tbody>\n",
       "</table>\n",
       "</div>"
      ],
      "text/plain": [
       "                                               input category  \\\n",
       "0  Biology is the study of life, from microscopic...  Biology   \n",
       "1  Biology is the study of life, from microscopic...  Biology   \n",
       "2  Biology is the study of life, from microscopic...  Biology   \n",
       "4  Biology is the study of life, from microscopic...  Biology   \n",
       "5  Biology is the study of life, from microscopic...  Biology   \n",
       "\n",
       "                                            question  \\\n",
       "0  Which of the following is NOT a step in the sc...   \n",
       "1  Which of the following organisms were the firs...   \n",
       "2  How long ago did mammals, birds, and flowers o...   \n",
       "4  Which of the following is NOT a recent news to...   \n",
       "5  Why can applying the scientific method be more...   \n",
       "\n",
       "                                              answer  \\\n",
       "0               Drawing conclusions based on results   \n",
       "1                        Microorganisms in the ocean   \n",
       "2                       130 to 250 million years ago   \n",
       "4  Global effort to protect the environment and a...   \n",
       "5  These disciplines involve more complex variabl...   \n",
       "\n",
       "                                         distractors  \n",
       "0  [Making observations, Forming hypotheses, Cond...  \n",
       "1      [Mammals, birds, and flowers, Humans, Plants]  \n",
       "2  [2.5 million years ago, 300,000 years ago, Bil...  \n",
       "4  [Outbreaks of Escherichia coli in spinach, Sal...  \n",
       "5  [These disciplines do not require careful obse...  "
      ]
     },
     "execution_count": 48,
     "metadata": {},
     "output_type": "execute_result"
    }
   ],
   "source": [
    "df.head()"
   ]
  },
  {
   "cell_type": "code",
   "execution_count": 49,
   "id": "af15ec9e",
   "metadata": {
    "execution": {
     "iopub.execute_input": "2024-09-19T07:54:48.841893Z",
     "iopub.status.busy": "2024-09-19T07:54:48.841427Z",
     "iopub.status.idle": "2024-09-19T07:54:51.470146Z",
     "shell.execute_reply": "2024-09-19T07:54:51.468822Z"
    },
    "papermill": {
     "duration": 2.66465,
     "end_time": "2024-09-19T07:54:51.473101",
     "exception": false,
     "start_time": "2024-09-19T07:54:48.808451",
     "status": "completed"
    },
    "tags": []
   },
   "outputs": [],
   "source": [
    "'''\n",
    "to create a dataframe with context in source column and qsn, answer in target columns,\n",
    "2 list needed, \n",
    "one for source: list of context\n",
    "one for target: list of proper formatting of questions and answers for particular questions and answers\n",
    "'''\n",
    "import ast\n",
    "dict_context_qna = {}\n",
    "count = 0\n",
    "for row in df.iterrows():\n",
    "    if row[1][0] not in dict_context_qna.keys():\n",
    "        dict_context_qna[row[1][0]] = {\n",
    "            \"count\" : 1,\n",
    "            \"category\": f\"{row[1][1]}\",\n",
    "            \"target\" : [{\n",
    "                'question': row[1][2],\n",
    "                'correct_option': row[1][3],\n",
    "                'distractors': row[1][4]\n",
    "            }]\n",
    "        }\n",
    "    else:\n",
    "        dict_context_qna[row[1][0]][\"count\"] += 1\n",
    "        dict_context_qna[row[1][0]][\"target\"].append({\n",
    "                'question': row[1][2],\n",
    "                'correct_option': row[1][3],\n",
    "                'distractors': row[1][4]\n",
    "            })"
   ]
  },
  {
   "cell_type": "code",
   "execution_count": 50,
   "id": "bb5c3bd3",
   "metadata": {
    "execution": {
     "iopub.execute_input": "2024-09-19T07:54:51.537477Z",
     "iopub.status.busy": "2024-09-19T07:54:51.536593Z",
     "iopub.status.idle": "2024-09-19T07:54:51.553954Z",
     "shell.execute_reply": "2024-09-19T07:54:51.552786Z"
    },
    "papermill": {
     "duration": 0.052237,
     "end_time": "2024-09-19T07:54:51.556836",
     "exception": false,
     "start_time": "2024-09-19T07:54:51.504599",
     "status": "completed"
    },
    "tags": []
   },
   "outputs": [],
   "source": [
    "source = []\n",
    "target = []\n",
    "category = []\n",
    "count = []\n",
    "for key, value in dict_context_qna.items():\n",
    "    source.append(f\"Generate {value['count']} Quizzes which require logical reasoning in a list of JSON format from the given context.\\nCONTEXT: {key}\")\n",
    "    target.append(value[\"target\"])\n",
    "    category.append(value[\"category\"])\n",
    "    count.append(value['count'])\n",
    "new_df = pd.DataFrame(\n",
    "    {\"source\": source,\n",
    "    \"target\": target,\n",
    "    \"category\": category,\n",
    "    \"count\": count\n",
    "    }\n",
    ")"
   ]
  },
  {
   "cell_type": "code",
   "execution_count": 51,
   "id": "cb957a66",
   "metadata": {
    "execution": {
     "iopub.execute_input": "2024-09-19T07:54:51.620783Z",
     "iopub.status.busy": "2024-09-19T07:54:51.620160Z",
     "iopub.status.idle": "2024-09-19T07:54:51.669563Z",
     "shell.execute_reply": "2024-09-19T07:54:51.668347Z"
    },
    "papermill": {
     "duration": 0.084252,
     "end_time": "2024-09-19T07:54:51.672190",
     "exception": false,
     "start_time": "2024-09-19T07:54:51.587938",
     "status": "completed"
    },
    "tags": []
   },
   "outputs": [
    {
     "data": {
      "text/html": [
       "<div>\n",
       "<style scoped>\n",
       "    .dataframe tbody tr th:only-of-type {\n",
       "        vertical-align: middle;\n",
       "    }\n",
       "\n",
       "    .dataframe tbody tr th {\n",
       "        vertical-align: top;\n",
       "    }\n",
       "\n",
       "    .dataframe thead th {\n",
       "        text-align: right;\n",
       "    }\n",
       "</style>\n",
       "<table border=\"1\" class=\"dataframe\">\n",
       "  <thead>\n",
       "    <tr style=\"text-align: right;\">\n",
       "      <th></th>\n",
       "      <th>source</th>\n",
       "      <th>target</th>\n",
       "      <th>category</th>\n",
       "      <th>count</th>\n",
       "    </tr>\n",
       "  </thead>\n",
       "  <tbody>\n",
       "    <tr>\n",
       "      <th>0</th>\n",
       "      <td>Generate 9 Quizzes which require logical reaso...</td>\n",
       "      <td>[{'question': 'Which of the following is NOT a...</td>\n",
       "      <td>Biology</td>\n",
       "      <td>9</td>\n",
       "    </tr>\n",
       "    <tr>\n",
       "      <th>1</th>\n",
       "      <td>Generate 9 Quizzes which require logical reaso...</td>\n",
       "      <td>[{'question': 'Which of the following is NOT a...</td>\n",
       "      <td>Biology</td>\n",
       "      <td>9</td>\n",
       "    </tr>\n",
       "    <tr>\n",
       "      <th>2</th>\n",
       "      <td>Generate 10 Quizzes which require logical reas...</td>\n",
       "      <td>[{'question': 'Which of the following is NOT a...</td>\n",
       "      <td>Biology</td>\n",
       "      <td>10</td>\n",
       "    </tr>\n",
       "    <tr>\n",
       "      <th>3</th>\n",
       "      <td>Generate 8 Quizzes which require logical reaso...</td>\n",
       "      <td>[{'question': 'Which of the following is NOT a...</td>\n",
       "      <td>Biology</td>\n",
       "      <td>8</td>\n",
       "    </tr>\n",
       "    <tr>\n",
       "      <th>4</th>\n",
       "      <td>Generate 7 Quizzes which require logical reaso...</td>\n",
       "      <td>[{'question': 'Which of the following scientis...</td>\n",
       "      <td>Biology</td>\n",
       "      <td>7</td>\n",
       "    </tr>\n",
       "  </tbody>\n",
       "</table>\n",
       "</div>"
      ],
      "text/plain": [
       "                                              source  \\\n",
       "0  Generate 9 Quizzes which require logical reaso...   \n",
       "1  Generate 9 Quizzes which require logical reaso...   \n",
       "2  Generate 10 Quizzes which require logical reas...   \n",
       "3  Generate 8 Quizzes which require logical reaso...   \n",
       "4  Generate 7 Quizzes which require logical reaso...   \n",
       "\n",
       "                                              target category  count  \n",
       "0  [{'question': 'Which of the following is NOT a...  Biology      9  \n",
       "1  [{'question': 'Which of the following is NOT a...  Biology      9  \n",
       "2  [{'question': 'Which of the following is NOT a...  Biology     10  \n",
       "3  [{'question': 'Which of the following is NOT a...  Biology      8  \n",
       "4  [{'question': 'Which of the following scientis...  Biology      7  "
      ]
     },
     "execution_count": 51,
     "metadata": {},
     "output_type": "execute_result"
    }
   ],
   "source": [
    "new_df.head()"
   ]
  },
  {
   "cell_type": "code",
   "execution_count": 52,
   "id": "6bd19f86",
   "metadata": {
    "execution": {
     "iopub.execute_input": "2024-09-19T07:54:51.737243Z",
     "iopub.status.busy": "2024-09-19T07:54:51.736790Z",
     "iopub.status.idle": "2024-09-19T07:54:51.746391Z",
     "shell.execute_reply": "2024-09-19T07:54:51.745371Z"
    },
    "papermill": {
     "duration": 0.045234,
     "end_time": "2024-09-19T07:54:51.749071",
     "exception": false,
     "start_time": "2024-09-19T07:54:51.703837",
     "status": "completed"
    },
    "tags": []
   },
   "outputs": [
    {
     "data": {
      "text/plain": [
       "[{'question': 'Which of the following is NOT a step in the scientific method?',\n",
       "  'correct_option': 'Drawing conclusions based on results',\n",
       "  'distractors': ['Making observations',\n",
       "   'Forming hypotheses',\n",
       "   'Conducting experiments']},\n",
       " {'question': 'Which of the following organisms were the first forms of life on Earth?',\n",
       "  'correct_option': 'Microorganisms in the ocean',\n",
       "  'distractors': ['Mammals, birds, and flowers', 'Humans', 'Plants']},\n",
       " {'question': 'How long ago did mammals, birds, and flowers originate?',\n",
       "  'correct_option': '130 to 250 million years ago',\n",
       "  'distractors': ['2.5 million years ago',\n",
       "   '300,000 years ago',\n",
       "   'Billions of years ago']},\n",
       " {'question': 'Which of the following is NOT a recent news topic related to biology?',\n",
       "  'correct_option': 'Global effort to protect the environment and address climate change',\n",
       "  'distractors': ['Outbreaks of Escherichia coli in spinach',\n",
       "   'Salmonella contamination in peanut butter',\n",
       "   \"Research on finding cures for diseases like AIDS, Alzheimer's, and cancer\"]},\n",
       " {'question': 'Why can applying the scientific method be more challenging in disciplines like archaeology or psychology?',\n",
       "  'correct_option': 'These disciplines involve more complex variables and data collection methods',\n",
       "  'distractors': ['These disciplines do not require careful observations',\n",
       "   'These disciplines do not involve forming hypotheses',\n",
       "   'These disciplines do not involve conducting experiments']},\n",
       " {'question': 'What is the broader pursuit of knowledge and understanding in science called?',\n",
       "  'correct_option': 'Science',\n",
       "  'distractors': ['The scientific method',\n",
       "   'Biology',\n",
       "   'The scientific method and biology combined']},\n",
       " {'question': 'What is the study of life, from microscopic cells to entire ecosystems called?',\n",
       "  'correct_option': 'Biology',\n",
       "  'distractors': ['Genetics', 'The scientific method', 'Physics']},\n",
       " {'question': 'Which step of the scientific method involves repeatable experiments?',\n",
       "  'correct_option': 'Conducting experiments',\n",
       "  'distractors': ['Making observations',\n",
       "   'Forming hypotheses',\n",
       "   'Drawing conclusions based on results']},\n",
       " {'question': 'What does the scientific method help scientists acquire?',\n",
       "  'correct_option': 'General truths or laws',\n",
       "  'distractors': ['Specific truths or laws',\n",
       "   'Ideas and opinions',\n",
       "   'Social skills']}]"
      ]
     },
     "execution_count": 52,
     "metadata": {},
     "output_type": "execute_result"
    }
   ],
   "source": [
    "new_df.iloc[0,1]"
   ]
  },
  {
   "cell_type": "code",
   "execution_count": 53,
   "id": "85a8a5e2",
   "metadata": {
    "execution": {
     "iopub.execute_input": "2024-09-19T07:54:51.816412Z",
     "iopub.status.busy": "2024-09-19T07:54:51.815987Z",
     "iopub.status.idle": "2024-09-19T07:54:51.823982Z",
     "shell.execute_reply": "2024-09-19T07:54:51.822625Z"
    },
    "papermill": {
     "duration": 0.045116,
     "end_time": "2024-09-19T07:54:51.826529",
     "exception": false,
     "start_time": "2024-09-19T07:54:51.781413",
     "status": "completed"
    },
    "tags": []
   },
   "outputs": [
    {
     "data": {
      "text/plain": [
       "\"Generate 9 Quizzes which require logical reasoning in a list of JSON format from the given context.\\nCONTEXT: Biology is the study of life, from microscopic cells to entire ecosystems. It covers a wide range of topics, including diseases, the environment, and genetics. The scientific method, a process of research and observation, is fundamental to biology. It involves steps such as making observations, forming hypotheses, and conducting experiments to test those hypotheses.\\n\\nThe first forms of life on Earth were microorganisms that existed in the ocean for billions of years before plants and animals appeared. Mammals, birds, and flowers are relatively recent developments, originating 130 to 250 million years ago. Humans have only been on the planet for the last 2.5 million years, and our current appearance has only emerged in the last 300,000 years.\\n\\nThe scientific method is a key aspect of biology. It involves making careful observations, formulating hypotheses (suggested explanations for events), testing those hypotheses through repeatable experiments, and drawing conclusions based on the results. This process helps scientists acquire knowledge that covers general truths or laws.\\n\\nBiology is a vast field with many different branches and areas of study. It encompasses everything from individual cells to the entire planet. Recent news topics related to biology include outbreaks of Escherichia coli in spinach and Salmonella contamination in peanut butter, as well as research on finding cures for diseases like AIDS, Alzheimer's, and cancer. There is also a global effort to protect the environment, solve environmental issues, and address climate change.\\n\\nIn order to truly understand what science is, it is important to understand the scientific method. While the scientific method is a key part of science, it is not the sole determinant. It is relatively straightforward to apply the scientific method to fields like physics and chemistry, but it can be more challenging in disciplines like archaeology or psychology. Therefore, science involves more than just the scientific method; it is a broader pursuit of knowledge and understanding.\""
      ]
     },
     "execution_count": 53,
     "metadata": {},
     "output_type": "execute_result"
    }
   ],
   "source": [
    "new_df.iloc[0,0]"
   ]
  },
  {
   "cell_type": "code",
   "execution_count": 54,
   "id": "67791ee0",
   "metadata": {
    "execution": {
     "iopub.execute_input": "2024-09-19T07:54:51.892014Z",
     "iopub.status.busy": "2024-09-19T07:54:51.891588Z",
     "iopub.status.idle": "2024-09-19T07:54:52.208259Z",
     "shell.execute_reply": "2024-09-19T07:54:52.206866Z"
    },
    "papermill": {
     "duration": 0.353053,
     "end_time": "2024-09-19T07:54:52.211308",
     "exception": false,
     "start_time": "2024-09-19T07:54:51.858255",
     "status": "completed"
    },
    "tags": []
   },
   "outputs": [
    {
     "data": {
      "image/png": "[encoded data removed]",
      "text/plain": [
       "<Figure size 640x480 with 1 Axes>"
      ]
     },
     "metadata": {},
     "output_type": "display_data"
    }
   ],
   "source": [
    "sns.countplot(new_df, x = 'count')\n",
    "plt.show()"
   ]
  },
  {
   "cell_type": "code",
   "execution_count": 55,
   "id": "a9fddfb1",
   "metadata": {
    "execution": {
     "iopub.execute_input": "2024-09-19T07:54:52.279799Z",
     "iopub.status.busy": "2024-09-19T07:54:52.279351Z",
     "iopub.status.idle": "2024-09-19T07:54:52.284467Z",
     "shell.execute_reply": "2024-09-19T07:54:52.283334Z"
    },
    "papermill": {
     "duration": 0.042876,
     "end_time": "2024-09-19T07:54:52.286919",
     "exception": false,
     "start_time": "2024-09-19T07:54:52.244043",
     "status": "completed"
    },
    "tags": []
   },
   "outputs": [],
   "source": [
    "# new_df['target_len'] = new_df['target'].apply(word_count)"
   ]
  },
  {
   "cell_type": "code",
   "execution_count": 56,
   "id": "48deba61",
   "metadata": {
    "execution": {
     "iopub.execute_input": "2024-09-19T07:54:52.355014Z",
     "iopub.status.busy": "2024-09-19T07:54:52.354584Z",
     "iopub.status.idle": "2024-09-19T07:54:52.408167Z",
     "shell.execute_reply": "2024-09-19T07:54:52.406843Z"
    },
    "papermill": {
     "duration": 0.09225,
     "end_time": "2024-09-19T07:54:52.411546",
     "exception": false,
     "start_time": "2024-09-19T07:54:52.319296",
     "status": "completed"
    },
    "tags": []
   },
   "outputs": [
    {
     "data": {
      "text/html": [
       "<div>\n",
       "<style scoped>\n",
       "    .dataframe tbody tr th:only-of-type {\n",
       "        vertical-align: middle;\n",
       "    }\n",
       "\n",
       "    .dataframe tbody tr th {\n",
       "        vertical-align: top;\n",
       "    }\n",
       "\n",
       "    .dataframe thead th {\n",
       "        text-align: right;\n",
       "    }\n",
       "</style>\n",
       "<table border=\"1\" class=\"dataframe\">\n",
       "  <thead>\n",
       "    <tr style=\"text-align: right;\">\n",
       "      <th></th>\n",
       "      <th>source</th>\n",
       "      <th>target</th>\n",
       "      <th>category</th>\n",
       "      <th>count</th>\n",
       "    </tr>\n",
       "  </thead>\n",
       "  <tbody>\n",
       "    <tr>\n",
       "      <th>0</th>\n",
       "      <td>Generate 9 Quizzes which require logical reaso...</td>\n",
       "      <td>[{'question': 'Which of the following is NOT a...</td>\n",
       "      <td>Biology</td>\n",
       "      <td>9</td>\n",
       "    </tr>\n",
       "    <tr>\n",
       "      <th>1</th>\n",
       "      <td>Generate 9 Quizzes which require logical reaso...</td>\n",
       "      <td>[{'question': 'Which of the following is NOT a...</td>\n",
       "      <td>Biology</td>\n",
       "      <td>9</td>\n",
       "    </tr>\n",
       "    <tr>\n",
       "      <th>2</th>\n",
       "      <td>Generate 10 Quizzes which require logical reas...</td>\n",
       "      <td>[{'question': 'Which of the following is NOT a...</td>\n",
       "      <td>Biology</td>\n",
       "      <td>10</td>\n",
       "    </tr>\n",
       "    <tr>\n",
       "      <th>3</th>\n",
       "      <td>Generate 8 Quizzes which require logical reaso...</td>\n",
       "      <td>[{'question': 'Which of the following is NOT a...</td>\n",
       "      <td>Biology</td>\n",
       "      <td>8</td>\n",
       "    </tr>\n",
       "    <tr>\n",
       "      <th>4</th>\n",
       "      <td>Generate 7 Quizzes which require logical reaso...</td>\n",
       "      <td>[{'question': 'Which of the following scientis...</td>\n",
       "      <td>Biology</td>\n",
       "      <td>7</td>\n",
       "    </tr>\n",
       "  </tbody>\n",
       "</table>\n",
       "</div>"
      ],
      "text/plain": [
       "                                              source  \\\n",
       "0  Generate 9 Quizzes which require logical reaso...   \n",
       "1  Generate 9 Quizzes which require logical reaso...   \n",
       "2  Generate 10 Quizzes which require logical reas...   \n",
       "3  Generate 8 Quizzes which require logical reaso...   \n",
       "4  Generate 7 Quizzes which require logical reaso...   \n",
       "\n",
       "                                              target category  count  \n",
       "0  [{'question': 'Which of the following is NOT a...  Biology      9  \n",
       "1  [{'question': 'Which of the following is NOT a...  Biology      9  \n",
       "2  [{'question': 'Which of the following is NOT a...  Biology     10  \n",
       "3  [{'question': 'Which of the following is NOT a...  Biology      8  \n",
       "4  [{'question': 'Which of the following scientis...  Biology      7  "
      ]
     },
     "execution_count": 56,
     "metadata": {},
     "output_type": "execute_result"
    }
   ],
   "source": [
    "new_df.head()"
   ]
  },
  {
   "cell_type": "code",
   "execution_count": 57,
   "id": "9374b168",
   "metadata": {
    "execution": {
     "iopub.execute_input": "2024-09-19T07:54:52.478557Z",
     "iopub.status.busy": "2024-09-19T07:54:52.478100Z",
     "iopub.status.idle": "2024-09-19T07:54:52.483234Z",
     "shell.execute_reply": "2024-09-19T07:54:52.482072Z"
    },
    "papermill": {
     "duration": 0.04196,
     "end_time": "2024-09-19T07:54:52.485815",
     "exception": false,
     "start_time": "2024-09-19T07:54:52.443855",
     "status": "completed"
    },
    "tags": []
   },
   "outputs": [],
   "source": [
    "# # sns.kdeplot(new_df['target_len'] , shade=True)\n",
    "# plt.show()"
   ]
  },
  {
   "cell_type": "code",
   "execution_count": 58,
   "id": "d70f1178",
   "metadata": {
    "execution": {
     "iopub.execute_input": "2024-09-19T07:54:52.552233Z",
     "iopub.status.busy": "2024-09-19T07:54:52.551834Z",
     "iopub.status.idle": "2024-09-19T07:54:52.556750Z",
     "shell.execute_reply": "2024-09-19T07:54:52.555526Z"
    },
    "papermill": {
     "duration": 0.040621,
     "end_time": "2024-09-19T07:54:52.559205",
     "exception": false,
     "start_time": "2024-09-19T07:54:52.518584",
     "status": "completed"
    },
    "tags": []
   },
   "outputs": [],
   "source": [
    "# new_df = new_df[new_df['target_len'] <=300]\n",
    "# sns.kdeplot(new_df['target_len'] , shade=True)\n",
    "# plt.show()"
   ]
  },
  {
   "cell_type": "code",
   "execution_count": 59,
   "id": "eee73d7b",
   "metadata": {
    "execution": {
     "iopub.execute_input": "2024-09-19T07:54:52.626136Z",
     "iopub.status.busy": "2024-09-19T07:54:52.624873Z",
     "iopub.status.idle": "2024-09-19T07:54:52.632319Z",
     "shell.execute_reply": "2024-09-19T07:54:52.631204Z"
    },
    "papermill": {
     "duration": 0.043785,
     "end_time": "2024-09-19T07:54:52.635089",
     "exception": false,
     "start_time": "2024-09-19T07:54:52.591304",
     "status": "completed"
    },
    "tags": []
   },
   "outputs": [],
   "source": [
    "new_df = new_df[new_df['count'] <= 10]"
   ]
  },
  {
   "cell_type": "code",
   "execution_count": 60,
   "id": "e30734de",
   "metadata": {
    "execution": {
     "iopub.execute_input": "2024-09-19T07:54:52.703266Z",
     "iopub.status.busy": "2024-09-19T07:54:52.702865Z",
     "iopub.status.idle": "2024-09-19T07:54:52.970428Z",
     "shell.execute_reply": "2024-09-19T07:54:52.969111Z"
    },
    "papermill": {
     "duration": 0.304129,
     "end_time": "2024-09-19T07:54:52.973181",
     "exception": false,
     "start_time": "2024-09-19T07:54:52.669052",
     "status": "completed"
    },
    "tags": []
   },
   "outputs": [
    {
     "data": {
      "image/png": "[encoded data removed]",
      "text/plain": [
       "<Figure size 640x480 with 1 Axes>"
      ]
     },
     "metadata": {},
     "output_type": "display_data"
    }
   ],
   "source": [
    "sns.countplot(new_df, x = 'count')\n",
    "plt.show()"
   ]
  },
  {
   "cell_type": "code",
   "execution_count": 61,
   "id": "71b55a42",
   "metadata": {
    "execution": {
     "iopub.execute_input": "2024-09-19T07:54:53.044434Z",
     "iopub.status.busy": "2024-09-19T07:54:53.044015Z",
     "iopub.status.idle": "2024-09-19T07:54:53.050053Z",
     "shell.execute_reply": "2024-09-19T07:54:53.048850Z"
    },
    "papermill": {
     "duration": 0.047402,
     "end_time": "2024-09-19T07:54:53.053804",
     "exception": false,
     "start_time": "2024-09-19T07:54:53.006402",
     "status": "completed"
    },
    "tags": []
   },
   "outputs": [
    {
     "name": "stdout",
     "output_type": "stream",
     "text": [
      "(2205, 4)\n"
     ]
    }
   ],
   "source": [
    "print(new_df.shape)"
   ]
  },
  {
   "cell_type": "code",
   "execution_count": 62,
   "id": "6a1f5998",
   "metadata": {
    "execution": {
     "iopub.execute_input": "2024-09-19T07:54:53.122228Z",
     "iopub.status.busy": "2024-09-19T07:54:53.121783Z",
     "iopub.status.idle": "2024-09-19T07:54:53.132623Z",
     "shell.execute_reply": "2024-09-19T07:54:53.131438Z"
    },
    "papermill": {
     "duration": 0.048871,
     "end_time": "2024-09-19T07:54:53.135374",
     "exception": false,
     "start_time": "2024-09-19T07:54:53.086503",
     "status": "completed"
    },
    "tags": []
   },
   "outputs": [
    {
     "data": {
      "text/plain": [
       "category\n",
       "General      1139\n",
       "Chemistry     397\n",
       "Physics       364\n",
       "Biology       305\n",
       "Name: count, dtype: int64"
      ]
     },
     "execution_count": 62,
     "metadata": {},
     "output_type": "execute_result"
    }
   ],
   "source": [
    "new_df['category'].value_counts()"
   ]
  },
  {
   "cell_type": "code",
   "execution_count": 63,
   "id": "c58e7419",
   "metadata": {
    "execution": {
     "iopub.execute_input": "2024-09-19T07:54:53.204910Z",
     "iopub.status.busy": "2024-09-19T07:54:53.204470Z",
     "iopub.status.idle": "2024-09-19T07:54:53.612615Z",
     "shell.execute_reply": "2024-09-19T07:54:53.611147Z"
    },
    "papermill": {
     "duration": 0.446965,
     "end_time": "2024-09-19T07:54:53.615943",
     "exception": false,
     "start_time": "2024-09-19T07:54:53.168978",
     "status": "completed"
    },
    "tags": []
   },
   "outputs": [],
   "source": [
    "new_df.to_csv(\"academicMCQ_JSON.csv\", index = False)"
   ]
  }
 ],
 "metadata": {
  "kaggle": {
   "accelerator": "none",
   "dataSources": [],
   "dockerImageVersionId": 30746,
   "isGpuEnabled": false,
   "isInternetEnabled": true,
   "language": "python",
   "sourceType": "notebook"
  },
  "kernelspec": {
   "display_name": "Python 3",
   "language": "python",
   "name": "python3"
  },
  "language_info": {
   "codemirror_mode": {
    "name": "ipython",
    "version": 3
   },
   "file_extension": ".py",
   "mimetype": "text/x-python",
   "name": "python",
   "nbconvert_exporter": "python",
   "pygments_lexer": "ipython3",
   "version": "3.10.13"
  },
  "papermill": {
   "default_parameters": {},
   "duration": 122.565171,
   "end_time": "2024-09-19T07:54:54.474622",
   "environment_variables": {},
   "exception": null,
   "input_path": "__notebook__.ipynb",
   "output_path": "__notebook__.ipynb",
   "parameters": {},
   "start_time": "2024-09-19T07:52:51.909451",
   "version": "2.5.0"
  }
 },
 "nbformat": 4,
 "nbformat_minor": 5
}
